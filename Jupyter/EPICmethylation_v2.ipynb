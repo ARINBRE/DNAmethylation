{
 "cells": [
  {
   "cell_type": "markdown",
   "metadata": {},
   "source": [
    "## EPIC beadchip DNA methylation Analysis. \n",
    "\n",
    "### Basic Steps.\n",
    "1. import idat files into an rgSet object\n",
    "2. Generate a QC report\n",
    "3. Get Annotation\n",
    "4. Normalization and correct probe type bias\n",
    "5. Identify Differentially methylated regions (DMR) and differentially methylated cytosines (DMC)"
   ]
  },
  {
   "cell_type": "code",
   "execution_count": 1,
   "metadata": {
    "scrolled": true
   },
   "outputs": [
    {
     "name": "stderr",
     "output_type": "stream",
     "text": [
      "Loading required package: BiocGenerics\n",
      "\n",
      "Loading required package: parallel\n",
      "\n",
      "\n",
      "Attaching package: 'BiocGenerics'\n",
      "\n",
      "\n",
      "The following objects are masked from 'package:parallel':\n",
      "\n",
      "    clusterApply, clusterApplyLB, clusterCall, clusterEvalQ,\n",
      "    clusterExport, clusterMap, parApply, parCapply, parLapply,\n",
      "    parLapplyLB, parRapply, parSapply, parSapplyLB\n",
      "\n",
      "\n",
      "The following objects are masked from 'package:stats':\n",
      "\n",
      "    IQR, mad, sd, var, xtabs\n",
      "\n",
      "\n",
      "The following objects are masked from 'package:base':\n",
      "\n",
      "    Filter, Find, Map, Position, Reduce, anyDuplicated, append,\n",
      "    as.data.frame, basename, cbind, colnames, dirname, do.call,\n",
      "    duplicated, eval, evalq, get, grep, grepl, intersect, is.unsorted,\n",
      "    lapply, mapply, match, mget, order, paste, pmax, pmax.int, pmin,\n",
      "    pmin.int, rank, rbind, rownames, sapply, setdiff, sort, table,\n",
      "    tapply, union, unique, unsplit, which.max, which.min\n",
      "\n",
      "\n",
      "Loading required package: GenomicRanges\n",
      "\n",
      "Loading required package: stats4\n",
      "\n",
      "Loading required package: S4Vectors\n",
      "\n",
      "\n",
      "Attaching package: 'S4Vectors'\n",
      "\n",
      "\n",
      "The following objects are masked from 'package:base':\n",
      "\n",
      "    I, expand.grid, unname\n",
      "\n",
      "\n",
      "Loading required package: IRanges\n",
      "\n",
      "Loading required package: GenomeInfoDb\n",
      "\n",
      "Loading required package: SummarizedExperiment\n",
      "\n",
      "Loading required package: MatrixGenerics\n",
      "\n",
      "Loading required package: matrixStats\n",
      "\n",
      "\n",
      "Attaching package: 'MatrixGenerics'\n",
      "\n",
      "\n",
      "The following objects are masked from 'package:matrixStats':\n",
      "\n",
      "    colAlls, colAnyNAs, colAnys, colAvgsPerRowSet, colCollapse,\n",
      "    colCounts, colCummaxs, colCummins, colCumprods, colCumsums,\n",
      "    colDiffs, colIQRDiffs, colIQRs, colLogSumExps, colMadDiffs,\n",
      "    colMads, colMaxs, colMeans2, colMedians, colMins, colOrderStats,\n",
      "    colProds, colQuantiles, colRanges, colRanks, colSdDiffs, colSds,\n",
      "    colSums2, colTabulates, colVarDiffs, colVars, colWeightedMads,\n",
      "    colWeightedMeans, colWeightedMedians, colWeightedSds,\n",
      "    colWeightedVars, rowAlls, rowAnyNAs, rowAnys, rowAvgsPerColSet,\n",
      "    rowCollapse, rowCounts, rowCummaxs, rowCummins, rowCumprods,\n",
      "    rowCumsums, rowDiffs, rowIQRDiffs, rowIQRs, rowLogSumExps,\n",
      "    rowMadDiffs, rowMads, rowMaxs, rowMeans2, rowMedians, rowMins,\n",
      "    rowOrderStats, rowProds, rowQuantiles, rowRanges, rowRanks,\n",
      "    rowSdDiffs, rowSds, rowSums2, rowTabulates, rowVarDiffs, rowVars,\n",
      "    rowWeightedMads, rowWeightedMeans, rowWeightedMedians,\n",
      "    rowWeightedSds, rowWeightedVars\n",
      "\n",
      "\n",
      "Loading required package: Biobase\n",
      "\n",
      "Welcome to Bioconductor\n",
      "\n",
      "    Vignettes contain introductory material; view with\n",
      "    'browseVignettes()'. To cite Bioconductor, see\n",
      "    'citation(\"Biobase\")', and for packages 'citation(\"pkgname\")'.\n",
      "\n",
      "\n",
      "\n",
      "Attaching package: 'Biobase'\n",
      "\n",
      "\n",
      "The following object is masked from 'package:MatrixGenerics':\n",
      "\n",
      "    rowMedians\n",
      "\n",
      "\n",
      "The following objects are masked from 'package:matrixStats':\n",
      "\n",
      "    anyMissing, rowMedians\n",
      "\n",
      "\n",
      "Loading required package: Biostrings\n",
      "\n",
      "Loading required package: XVector\n",
      "\n",
      "\n",
      "Attaching package: 'Biostrings'\n",
      "\n",
      "\n",
      "The following object is masked from 'package:base':\n",
      "\n",
      "    strsplit\n",
      "\n",
      "\n",
      "Loading required package: bumphunter\n",
      "\n",
      "Loading required package: foreach\n",
      "\n",
      "Loading required package: iterators\n",
      "\n",
      "Loading required package: locfit\n",
      "\n",
      "locfit 1.5-9.5 \t 2022-03-01\n",
      "\n",
      "Setting options('download.file.method.GEOquery'='auto')\n",
      "\n",
      "Setting options('GEOquery.inmemory.gpl'=FALSE)\n",
      "\n",
      "Loading required package: limma\n",
      "\n",
      "\n",
      "Attaching package: 'limma'\n",
      "\n",
      "\n",
      "The following object is masked from 'package:BiocGenerics':\n",
      "\n",
      "    plotMA\n",
      "\n",
      "\n",
      "Loading required package: methylumi\n",
      "\n",
      "Loading required package: scales\n",
      "\n",
      "Loading required package: reshape2\n",
      "\n",
      "Loading required package: ggplot2\n",
      "\n",
      "Loading required package: FDb.InfiniumMethylation.hg19\n",
      "\n",
      "Loading required package: GenomicFeatures\n",
      "\n",
      "Loading required package: AnnotationDbi\n",
      "\n",
      "Loading required package: TxDb.Hsapiens.UCSC.hg19.knownGene\n",
      "\n",
      "Loading required package: org.Hs.eg.db\n",
      "\n",
      "\n",
      "\n",
      "Loading required package: lumi\n",
      "\n",
      "No methods found in package 'RSQLite' for request: 'dbListFields' when loading 'lumi'\n",
      "\n",
      "\n",
      "Attaching package: 'lumi'\n",
      "\n",
      "\n",
      "The following objects are masked from 'package:methylumi':\n",
      "\n",
      "    estimateM, getHistory\n",
      "\n",
      "\n",
      "Loading required package: ROC\n",
      "\n",
      "Loading required package: IlluminaHumanMethylation450kanno.ilmn12.hg19\n",
      "\n",
      "\n",
      "Attaching package: 'IlluminaHumanMethylation450kanno.ilmn12.hg19'\n",
      "\n",
      "\n",
      "The following objects are masked from 'package:IlluminaHumanMethylationEPICanno.ilm10b4.hg19':\n",
      "\n",
      "    Islands.UCSC, Locations, Manifest, Other, SNPs.132CommonSingle,\n",
      "    SNPs.135CommonSingle, SNPs.137CommonSingle, SNPs.138CommonSingle,\n",
      "    SNPs.141CommonSingle, SNPs.142CommonSingle, SNPs.144CommonSingle,\n",
      "    SNPs.146CommonSingle, SNPs.147CommonSingle, SNPs.Illumina\n",
      "\n",
      "\n",
      "Loading required package: illuminaio\n",
      "\n",
      "Loading required package: nlme\n",
      "\n",
      "\n",
      "Attaching package: 'nlme'\n",
      "\n",
      "\n",
      "The following object is masked from 'package:Biostrings':\n",
      "\n",
      "    collapse\n",
      "\n",
      "\n",
      "The following object is masked from 'package:IRanges':\n",
      "\n",
      "    collapse\n",
      "\n",
      "\n",
      "\n",
      "Attaching package: 'CpGassoc'\n",
      "\n",
      "\n",
      "The following object is masked from 'package:BiocGenerics':\n",
      "\n",
      "    design\n",
      "\n",
      "\n"
     ]
    }
   ],
   "source": [
    "# Load libraries\n",
    "\n",
    "# packages\n",
    "library(\"minfi\")\n",
    "library(\"IlluminaHumanMethylationEPICmanifest\")\n",
    "library(\"IlluminaHumanMethylationEPICanno.ilm10b4.hg19\")\n",
    "#library(\"GGally\")  # like ggplot ; NOTE: NOT installed yet\n",
    "library(\"wateRmelon\")  # normalize probe bias\n",
    "library(\"missMethyl\")  # gometh go terms\n",
    "library(\"CpGassoc\")\n",
    "#library(xlsx)\n",
    "library(stringr)\n",
    "library(ggfortify)  # for the autoplot function in PCA plots"
   ]
  },
  {
   "cell_type": "code",
   "execution_count": 2,
   "metadata": {},
   "outputs": [
    {
     "data": {
      "text/html": [
       "'/home/sbyrum/Scripts/Jupyter/02_EPIC_methylation'"
      ],
      "text/latex": [
       "'/home/sbyrum/Scripts/Jupyter/02\\_EPIC\\_methylation'"
      ],
      "text/markdown": [
       "'/home/sbyrum/Scripts/Jupyter/02_EPIC_methylation'"
      ],
      "text/plain": [
       "[1] \"/home/sbyrum/Scripts/Jupyter/02_EPIC_methylation\""
      ]
     },
     "metadata": {},
     "output_type": "display_data"
    }
   ],
   "source": [
    "getwd()"
   ]
  },
  {
   "cell_type": "code",
   "execution_count": null,
   "metadata": {},
   "outputs": [],
   "source": [
    "sessionInfo()"
   ]
  },
  {
   "cell_type": "markdown",
   "metadata": {},
   "source": [
    "<b> NOTE: Check all of the libraries loaded properly </b>"
   ]
  },
  {
   "cell_type": "markdown",
   "metadata": {},
   "source": [
    "<b> Illumina EPIC Bead Based Technology</b>\n",
    "<p> Illumina microarray technology (also known as BeadArray technology) uses silica microbeads. \n",
    "On the surface of each array, or BeadChip, hundreds of thousands to millions of genotypes for a single individual can be assayed at once. \n",
    "These tiny silica beads are housed in carefully etched microwells and coated with multiple copies of an oligonucleotide probe targeting a specific locus in the genome.</p>\n",
    "<p> As DNA fragments pass over the BeadChip, each probe binds to a complementary sequence in the sample DNA, stopping one base before the locus of interest. Allele specificity is conferred by a single base extension that incorporates one of four labeled nucleotides. When excited by a laser, the nucleotide label emits a signal. The intensity of that signal conveys information about the allelic ratio at that locus.</p>\n",
    "    "
   ]
  },
  {
   "cell_type": "code",
   "execution_count": 3,
   "metadata": {},
   "outputs": [],
   "source": [
    "## import EPIC data from a sample sheet and idat files\n",
    "\n",
    "idatPath <- \"/home/sbyrum/Scripts/Jupyter/02_EPIC_methylation/download/\" # path of the folder\n",
    "targets <- read.csv(\"/home/sbyrum/Scripts/Jupyter/02_EPIC_methylation/download/SampleSheet.csv\", strip.white=T, stringsAsFactors=F) #sample information\n",
    "targets$File_Name = paste(targets$Sentrix_ID, targets$Sentrix_Position, sep = \"_\")\n",
    "targets$Basename <- targets$File_Name # name of the files"
   ]
  },
  {
   "cell_type": "markdown",
   "metadata": {},
   "source": [
    "Load in the data and map the sample information to the raw idat sequencing files"
   ]
  },
  {
   "cell_type": "markdown",
   "metadata": {},
   "source": [
    "<b>The MINFI package is designed to be very flexible for methods developers. This flexibility comes at a cost for users; they need to understand a few different data classes:</b>\n",
    "\n",
    "<p><b>RGChannelSet :</b> raw data from the IDAT files; this data is organized at the probe (not CpG locus) level. This data has two channels: Red and Green.</p>\n",
    "<p><b>MethylSet :</b> data organized by the CpG locus level, but not mapped to a genome. This data has two channels: Meth (methylated) and Unmeth (unmethylated).</p>\n",
    "<p><b>RatioSet :</b> data organized by the CpG locus level, but not mapped to a genome. The data has at least one of two channels: Beta and/or M (logratio of Beta). It may optionally include a CN channel (copy number).</p>\n",
    "<p><b>GenomicMethylSet :</b> like a MethylSet, but mapped to a genome.</p>\n",
    "<p><b>GenomicRatioSet :</b> like a RatioSet, but mapped to the genome.</p>\n",
    "<p> We are using the RGChannel Set in this example </p>"
   ]
  },
  {
   "cell_type": "code",
   "execution_count": 4,
   "metadata": {
    "scrolled": true
   },
   "outputs": [
    {
     "name": "stderr",
     "output_type": "stream",
     "text": [
      "[read.metharray] Reading 203550290094_R01C01_Grn.idat\n",
      "\n",
      "Warning message in readChar(con, nchars = n):\n",
      "\"truncating string with embedded nuls\"\n",
      "[read.metharray] Reading 203550290094_R02C01_Grn.idat\n",
      "\n",
      "Warning message in readChar(con, nchars = n):\n",
      "\"truncating string with embedded nuls\"\n",
      "[read.metharray] Reading 203550290094_R03C01_Grn.idat\n",
      "\n",
      "Warning message in readChar(con, nchars = n):\n",
      "\"truncating string with embedded nuls\"\n",
      "[read.metharray] Reading 203550290094_R04C01_Grn.idat\n",
      "\n",
      "Warning message in readChar(con, nchars = n):\n",
      "\"truncating string with embedded nuls\"\n",
      "[read.metharray] Reading 203550290094_R05C01_Grn.idat\n",
      "\n",
      "Warning message in readChar(con, nchars = n):\n",
      "\"truncating string with embedded nuls\"\n",
      "[read.metharray] Reading 203550290094_R06C01_Grn.idat\n",
      "\n",
      "Warning message in readChar(con, nchars = n):\n",
      "\"truncating string with embedded nuls\"\n",
      "[read.metharray] Reading 203550290094_R07C01_Grn.idat\n",
      "\n",
      "Warning message in readChar(con, nchars = n):\n",
      "\"truncating string with embedded nuls\"\n",
      "[read.metharray] Reading 203550290094_R08C01_Grn.idat\n",
      "\n",
      "Warning message in readChar(con, nchars = n):\n",
      "\"truncating string with embedded nuls\"\n",
      "[read.metharray] Reading 203550290098_R01C01_Grn.idat\n",
      "\n",
      "Warning message in readChar(con, nchars = n):\n",
      "\"truncating string with embedded nuls\"\n",
      "[read.metharray] Reading 203550290098_R02C01_Grn.idat\n",
      "\n",
      "Warning message in readChar(con, nchars = n):\n",
      "\"truncating string with embedded nuls\"\n",
      "[read.metharray] Reading 203550290098_R03C01_Grn.idat\n",
      "\n",
      "Warning message in readChar(con, nchars = n):\n",
      "\"truncating string with embedded nuls\"\n",
      "[read.metharray] Reading 203550290098_R04C01_Grn.idat\n",
      "\n",
      "Warning message in readChar(con, nchars = n):\n",
      "\"truncating string with embedded nuls\"\n",
      "[read.metharray] Reading 203550290098_R05C01_Grn.idat\n",
      "\n",
      "Warning message in readChar(con, nchars = n):\n",
      "\"truncating string with embedded nuls\"\n",
      "[read.metharray] Reading 203550290098_R06C01_Grn.idat\n",
      "\n",
      "Warning message in readChar(con, nchars = n):\n",
      "\"truncating string with embedded nuls\"\n",
      "[read.metharray] Reading 203550290098_R07C01_Grn.idat\n",
      "\n",
      "Warning message in readChar(con, nchars = n):\n",
      "\"truncating string with embedded nuls\"\n",
      "[read.metharray] Reading 203550290098_R08C01_Grn.idat\n",
      "\n",
      "Warning message in readChar(con, nchars = n):\n",
      "\"truncating string with embedded nuls\"\n",
      "[read.metharray] Reading 203550290094_R01C01_Red.idat\n",
      "\n",
      "Warning message in readChar(con, nchars = n):\n",
      "\"truncating string with embedded nuls\"\n",
      "[read.metharray] Reading 203550290094_R02C01_Red.idat\n",
      "\n",
      "Warning message in readChar(con, nchars = n):\n",
      "\"truncating string with embedded nuls\"\n",
      "[read.metharray] Reading 203550290094_R03C01_Red.idat\n",
      "\n",
      "Warning message in readChar(con, nchars = n):\n",
      "\"truncating string with embedded nuls\"\n",
      "[read.metharray] Reading 203550290094_R04C01_Red.idat\n",
      "\n",
      "Warning message in readChar(con, nchars = n):\n",
      "\"truncating string with embedded nuls\"\n",
      "[read.metharray] Reading 203550290094_R05C01_Red.idat\n",
      "\n",
      "Warning message in readChar(con, nchars = n):\n",
      "\"truncating string with embedded nuls\"\n",
      "[read.metharray] Reading 203550290094_R06C01_Red.idat\n",
      "\n",
      "Warning message in readChar(con, nchars = n):\n",
      "\"truncating string with embedded nuls\"\n",
      "[read.metharray] Reading 203550290094_R07C01_Red.idat\n",
      "\n",
      "Warning message in readChar(con, nchars = n):\n",
      "\"truncating string with embedded nuls\"\n",
      "[read.metharray] Reading 203550290094_R08C01_Red.idat\n",
      "\n",
      "Warning message in readChar(con, nchars = n):\n",
      "\"truncating string with embedded nuls\"\n",
      "[read.metharray] Reading 203550290098_R01C01_Red.idat\n",
      "\n",
      "Warning message in readChar(con, nchars = n):\n",
      "\"truncating string with embedded nuls\"\n",
      "[read.metharray] Reading 203550290098_R02C01_Red.idat\n",
      "\n",
      "Warning message in readChar(con, nchars = n):\n",
      "\"truncating string with embedded nuls\"\n",
      "[read.metharray] Reading 203550290098_R03C01_Red.idat\n",
      "\n",
      "Warning message in readChar(con, nchars = n):\n",
      "\"truncating string with embedded nuls\"\n",
      "[read.metharray] Reading 203550290098_R04C01_Red.idat\n",
      "\n",
      "Warning message in readChar(con, nchars = n):\n",
      "\"truncating string with embedded nuls\"\n",
      "[read.metharray] Reading 203550290098_R05C01_Red.idat\n",
      "\n",
      "Warning message in readChar(con, nchars = n):\n",
      "\"truncating string with embedded nuls\"\n",
      "[read.metharray] Reading 203550290098_R06C01_Red.idat\n",
      "\n",
      "Warning message in readChar(con, nchars = n):\n",
      "\"truncating string with embedded nuls\"\n",
      "[read.metharray] Reading 203550290098_R07C01_Red.idat\n",
      "\n",
      "Warning message in readChar(con, nchars = n):\n",
      "\"truncating string with embedded nuls\"\n",
      "[read.metharray] Reading 203550290098_R08C01_Red.idat\n",
      "\n",
      "Warning message in readChar(con, nchars = n):\n",
      "\"truncating string with embedded nuls\"\n",
      "[read.metharray] Read idat files in 113.6 seconds\n",
      "\n",
      "[read.metharray] Creating data matrices ... \n",
      "done in 150.8 seconds\n",
      "\n",
      "[read.metharray] Instantiating final object ... \n",
      "done in 0.5 seconds\n",
      "\n"
     ]
    }
   ],
   "source": [
    "rgSet <- read.metharray.exp(base=idatPath, targets=targets, verbose=T) # read the idat file one by one "
   ]
  },
  {
   "cell_type": "code",
   "execution_count": null,
   "metadata": {},
   "outputs": [],
   "source": [
    "# Save an object to a file\n",
    "saveRDS(rgSet, file = \"rgSet.rds\")"
   ]
  },
  {
   "cell_type": "code",
   "execution_count": null,
   "metadata": {},
   "outputs": [],
   "source": [
    "# Restore the object\n",
    "rgSet <- readRDS(file = \"rgSet.rds\")"
   ]
  },
  {
   "cell_type": "markdown",
   "metadata": {},
   "source": [
    "<p>For a methylation array, we have two types of annotation packages: “manifest” packages which contains the array design and “annotation” packages which contains information about where the methylation loci are located on the genome, which genomic features they map to and possible whether they overlap any known SNPs.</p>\n",
    "<p>The IlluminaMethylationManifest object contains the array design, and describes how probes and color channels are paired together to measure the methylation level at a specific CpG. The object also contains information about control probes (also known as QC probes).</p>\n",
    "\n",
    "You can see which packages are being used by"
   ]
  },
  {
   "cell_type": "code",
   "execution_count": 5,
   "metadata": {
    "scrolled": true
   },
   "outputs": [
    {
     "data": {
      "text/html": [
       "<style>\n",
       ".dl-inline {width: auto; margin:0; padding: 0}\n",
       ".dl-inline>dt, .dl-inline>dd {float: none; width: auto; display: inline-block}\n",
       ".dl-inline>dt::after {content: \":\\0020\"; padding-right: .5ex}\n",
       ".dl-inline>dt:not(:first-of-type) {padding-left: .5ex}\n",
       "</style><dl class=dl-inline><dt>array</dt><dd>'IlluminaHumanMethylationEPIC'</dd><dt>annotation</dt><dd>'ilm10b4.hg19'</dd></dl>\n"
      ],
      "text/latex": [
       "\\begin{description*}\n",
       "\\item[array] 'IlluminaHumanMethylationEPIC'\n",
       "\\item[annotation] 'ilm10b4.hg19'\n",
       "\\end{description*}\n"
      ],
      "text/markdown": [
       "array\n",
       ":   'IlluminaHumanMethylationEPIC'annotation\n",
       ":   'ilm10b4.hg19'\n",
       "\n"
      ],
      "text/plain": [
       "                         array                     annotation \n",
       "\"IlluminaHumanMethylationEPIC\"                 \"ilm10b4.hg19\" "
      ]
     },
     "metadata": {},
     "output_type": "display_data"
    }
   ],
   "source": [
    "annotation(rgSet) # 229 missing annotation"
   ]
  },
  {
   "cell_type": "code",
   "execution_count": 6,
   "metadata": {
    "scrolled": true
   },
   "outputs": [
    {
     "name": "stderr",
     "output_type": "stream",
     "text": [
      "Warning message in type.convert.default(X[[i]], ...):\n",
      "\"'as.is' should be specified by the caller; using TRUE\"\n",
      "Warning message in type.convert.default(X[[i]], ...):\n",
      "\"'as.is' should be specified by the caller; using TRUE\"\n",
      "Warning message in type.convert.default(X[[i]], ...):\n",
      "\"'as.is' should be specified by the caller; using TRUE\"\n",
      "Warning message in type.convert.default(X[[i]], ...):\n",
      "\"'as.is' should be specified by the caller; using TRUE\"\n",
      "Warning message in type.convert.default(X[[i]], ...):\n",
      "\"'as.is' should be specified by the caller; using TRUE\"\n",
      "Warning message in type.convert.default(X[[i]], ...):\n",
      "\"'as.is' should be specified by the caller; using TRUE\"\n",
      "Warning message in type.convert.default(X[[i]], ...):\n",
      "\"'as.is' should be specified by the caller; using TRUE\"\n",
      "Warning message in type.convert.default(X[[i]], ...):\n",
      "\"'as.is' should be specified by the caller; using TRUE\"\n",
      "Warning message in type.convert.default(X[[i]], ...):\n",
      "\"'as.is' should be specified by the caller; using TRUE\"\n",
      "Warning message in type.convert.default(X[[i]], ...):\n",
      "\"'as.is' should be specified by the caller; using TRUE\"\n",
      "Warning message in type.convert.default(X[[i]], ...):\n",
      "\"'as.is' should be specified by the caller; using TRUE\"\n",
      "Warning message in type.convert.default(X[[i]], ...):\n",
      "\"'as.is' should be specified by the caller; using TRUE\"\n",
      "Warning message in type.convert.default(X[[i]], ...):\n",
      "\"'as.is' should be specified by the caller; using TRUE\"\n",
      "Warning message in type.convert.default(X[[i]], ...):\n",
      "\"'as.is' should be specified by the caller; using TRUE\"\n",
      "Warning message in type.convert.default(X[[i]], ...):\n",
      "\"'as.is' should be specified by the caller; using TRUE\"\n",
      "Warning message in type.convert.default(X[[i]], ...):\n",
      "\"'as.is' should be specified by the caller; using TRUE\"\n",
      "Warning message in type.convert.default(X[[i]], ...):\n",
      "\"'as.is' should be specified by the caller; using TRUE\"\n",
      "Warning message in type.convert.default(X[[i]], ...):\n",
      "\"'as.is' should be specified by the caller; using TRUE\"\n",
      "Warning message in type.convert.default(X[[i]], ...):\n",
      "\"'as.is' should be specified by the caller; using TRUE\"\n",
      "Warning message in type.convert.default(X[[i]], ...):\n",
      "\"'as.is' should be specified by the caller; using TRUE\"\n",
      "Warning message in type.convert.default(X[[i]], ...):\n",
      "\"'as.is' should be specified by the caller; using TRUE\"\n",
      "Warning message in type.convert.default(X[[i]], ...):\n",
      "\"'as.is' should be specified by the caller; using TRUE\"\n",
      "Warning message in type.convert.default(X[[i]], ...):\n",
      "\"'as.is' should be specified by the caller; using TRUE\"\n",
      "Warning message in type.convert.default(X[[i]], ...):\n",
      "\"'as.is' should be specified by the caller; using TRUE\"\n",
      "Warning message in type.convert.default(X[[i]], ...):\n",
      "\"'as.is' should be specified by the caller; using TRUE\"\n",
      "Warning message in type.convert.default(X[[i]], ...):\n",
      "\"'as.is' should be specified by the caller; using TRUE\"\n",
      "Warning message in type.convert.default(X[[i]], ...):\n",
      "\"'as.is' should be specified by the caller; using TRUE\"\n",
      "Warning message in type.convert.default(X[[i]], ...):\n",
      "\"'as.is' should be specified by the caller; using TRUE\"\n",
      "Warning message in type.convert.default(X[[i]], ...):\n",
      "\"'as.is' should be specified by the caller; using TRUE\"\n",
      "Warning message in type.convert.default(X[[i]], ...):\n",
      "\"'as.is' should be specified by the caller; using TRUE\"\n",
      "Warning message in type.convert.default(X[[i]], ...):\n",
      "\"'as.is' should be specified by the caller; using TRUE\"\n",
      "Warning message in type.convert.default(X[[i]], ...):\n",
      "\"'as.is' should be specified by the caller; using TRUE\"\n",
      "Warning message in type.convert.default(X[[i]], ...):\n",
      "\"'as.is' should be specified by the caller; using TRUE\"\n",
      "Warning message in type.convert.default(X[[i]], ...):\n",
      "\"'as.is' should be specified by the caller; using TRUE\"\n"
     ]
    },
    {
     "data": {
      "text/html": [
       "<strong>png:</strong> 2"
      ],
      "text/latex": [
       "\\textbf{png:} 2"
      ],
      "text/markdown": [
       "**png:** 2"
      ],
      "text/plain": [
       "png \n",
       "  2 "
      ]
     },
     "metadata": {},
     "output_type": "display_data"
    }
   ],
   "source": [
    "qcReport(rgSet, pdf = \"qcReport_test.pdf\")"
   ]
  },
  {
   "cell_type": "markdown",
   "metadata": {},
   "source": [
    "<b> EPIC array Type I and Type II probes </b>\n",
    "<img src=\"https://d3i71xaburhd42.cloudfront.net/db5bc189d321d5032eecf9f20a388a7620ca711b/3-Figure1-1.png\" alt=\"EPIC probes\" width=\"1000\" height=\"1000\">"
   ]
  },
  {
   "cell_type": "markdown",
   "metadata": {},
   "source": [
    "<p> Using minfi, we create the following control strip plot and beta density plot. \n",
    "For the control strip plot each of the control probe types (e.g bisulfite conversion I, conversion, extension, etc) will have its own plot.  Each row represents a sample and each red and green point represents the unmethylated and methylated signal intensity, respectively, for a probe of that control type. </p> \n",
    "<p>    A good result is when the distribution of values for each of those control probes are similar between red and green points.  This indicates that there are no biases that result in the unmethylated or methylated signal being more readily detected than the other. </p>\n",
    "<img src=\"https://encrypted-tbn0.gstatic.com/images?q=tbn:ANd9GcRmqv7fIYkIy8_8-ETcrnEbDnNyTiLrftLtvw&usqp=CAU\" alt=\"control strip plot\" width=\"500\" height=\"500\">"
   ]
  },
  {
   "cell_type": "code",
   "execution_count": 7,
   "metadata": {},
   "outputs": [],
   "source": [
    "# extracting control CpGs (log2(r,g))\n",
    "controls = c(\"BISULFITE CONVERSION I\", \"BISULFITE CONVERSION II\", \"EXTENSION\", \"HYBRIDIZATION\",  \"NON-POLYMORPHIC\", \"SPECIFICITY I\",\n",
    "             \"SPECIFICITY II\", \"TARGET REMOVAL\")\n",
    "r <- getRed(rgSet)\n",
    "g <- getGreen(rgSet)"
   ]
  },
  {
   "cell_type": "code",
   "execution_count": 8,
   "metadata": {},
   "outputs": [
    {
     "name": "stderr",
     "output_type": "stream",
     "text": [
      "Warning message in .getSex(CN = CN, xIndex = xIndex, yIndex = yIndex, cutoff = cutoff):\n",
      "\"An inconsistency was encountered while determining sex. One possibility is that only one sex is present. We recommend further checks, for example with the plotSex function.\"\n"
     ]
    },
    {
     "data": {
      "text/html": [
       "<style>\n",
       ".list-inline {list-style: none; margin:0; padding: 0}\n",
       ".list-inline>li {display: inline-block}\n",
       ".list-inline>li:not(:last-child)::after {content: \"\\00b7\"; padding: 0 .5ex}\n",
       "</style>\n",
       "<ol class=list-inline><li>'F'</li><li>'F'</li><li>'F'</li><li>'F'</li><li>'F'</li><li>'F'</li><li>'F'</li><li>'F'</li><li>'F'</li><li>'F'</li><li>'F'</li><li>'F'</li><li>'F'</li><li>'F'</li><li>'F'</li><li>'F'</li></ol>\n"
      ],
      "text/latex": [
       "\\begin{enumerate*}\n",
       "\\item 'F'\n",
       "\\item 'F'\n",
       "\\item 'F'\n",
       "\\item 'F'\n",
       "\\item 'F'\n",
       "\\item 'F'\n",
       "\\item 'F'\n",
       "\\item 'F'\n",
       "\\item 'F'\n",
       "\\item 'F'\n",
       "\\item 'F'\n",
       "\\item 'F'\n",
       "\\item 'F'\n",
       "\\item 'F'\n",
       "\\item 'F'\n",
       "\\item 'F'\n",
       "\\end{enumerate*}\n"
      ],
      "text/markdown": [
       "1. 'F'\n",
       "2. 'F'\n",
       "3. 'F'\n",
       "4. 'F'\n",
       "5. 'F'\n",
       "6. 'F'\n",
       "7. 'F'\n",
       "8. 'F'\n",
       "9. 'F'\n",
       "10. 'F'\n",
       "11. 'F'\n",
       "12. 'F'\n",
       "13. 'F'\n",
       "14. 'F'\n",
       "15. 'F'\n",
       "16. 'F'\n",
       "\n",
       "\n"
      ],
      "text/plain": [
       " [1] \"F\" \"F\" \"F\" \"F\" \"F\" \"F\" \"F\" \"F\" \"F\" \"F\" \"F\" \"F\" \"F\" \"F\" \"F\" \"F\""
      ]
     },
     "metadata": {},
     "output_type": "display_data"
    }
   ],
   "source": [
    "# Get Annotation and load clinical data\n",
    "anno = getAnnotation(rgSet) \n",
    "\n",
    "predictedSex <- getSex(mapToGenome(rgSet)); predictedSex$predictedSex"
   ]
  },
  {
   "cell_type": "markdown",
   "metadata": {},
   "source": [
    "<b> minfi </b> <i> preprocessNoob </i> <p> Noob (normal-exponential out-of-band) is a background correction method with dye-bias normalization for Illumina Infinium methylation arrays </p>\n",
    "<p><b> minfi </b> <i> detectionP:</i> Detection p-values for all probed genomic positions. </p> <p>This function identifies failed positions defined as both the methylated and unmethylated channel reporting background signal levels.</p>"
   ]
  },
  {
   "cell_type": "code",
   "execution_count": 9,
   "metadata": {},
   "outputs": [],
   "source": [
    "\n",
    "############################## Normalization ##############################\n",
    "# Normalization/Detection p-Value\n",
    "\n",
    "methylSet_noob <- preprocessNoob(rgSet)\n",
    "\n",
    "betas = getBeta(methylSet_noob)\n",
    "detect.p <- detectionP(rgSet, type = \"m+u\")\n"
   ]
  },
  {
   "cell_type": "markdown",
   "metadata": {},
   "source": [
    "How are the values calculated? For <i> getBeta</i> setting type=\"Illumina\" sets offset=100 as per Genome Studio. For <i>getM </i>setting type=\"\" computes M-values as the logarithm of Meth/Unmeth, otherwise it is computed as the logit of getBeta(object)."
   ]
  },
  {
   "cell_type": "code",
   "execution_count": 10,
   "metadata": {},
   "outputs": [
    {
     "data": {
      "text/html": [
       "0"
      ],
      "text/latex": [
       "0"
      ],
      "text/markdown": [
       "0"
      ],
      "text/plain": [
       "[1] 0"
      ]
     },
     "metadata": {},
     "output_type": "display_data"
    }
   ],
   "source": [
    "#checking for poor patients or poor Cpgs\n",
    "\n",
    "subjectPoorCpgPercentage = apply(detect.p > 1E-5, 2, sum)/dim(detect.p)[1]\n",
    "sum(subjectPoorCpgPercentage>0.2)"
   ]
  },
  {
   "cell_type": "code",
   "execution_count": null,
   "metadata": {},
   "outputs": [],
   "source": [
    "jpeg(\"boxplot_subjectPoorCpgPercentage2.jpeg\") # pdf(\"boxplot_subjectPoorCpgPercentage.pdf\")\n",
    "par(mfrow = c(1,2))\n",
    "boxplot(subjectPoorCpgPercentage*100, ylab = \"Percentage of p-values>1E-5 per subject\", ylim = c(0,100))\n",
    "boxplot(subjectPoorCpgPercentage*100, ylab = \"Percentage of p-values>1E-5 per subject\")\n",
    "mtext(\"Boxplot of poor CpG percentage per subject\", side = 3, line = -2, outer = TRUE, cex = 1.5)\n",
    "par(mfrow = c(1,1))\n",
    "dev.off()"
   ]
  },
  {
   "cell_type": "code",
   "execution_count": 11,
   "metadata": {},
   "outputs": [
    {
     "data": {
      "image/png": "[encoded data removed]",
      "text/plain": [
       "plot without title"
      ]
     },
     "metadata": {
      "image/png": {
       "height": 420,
       "width": 420
      }
     },
     "output_type": "display_data"
    }
   ],
   "source": [
    "par(mfrow = c(1,2))\n",
    "boxplot(subjectPoorCpgPercentage*100, ylab = \"Percentage of p-values>1E-5 per subject\", ylim = c(0,100))\n",
    "boxplot(subjectPoorCpgPercentage*100, ylab = \"Percentage of p-values>1E-5 per subject\")\n",
    "mtext(\"Boxplot of poor CpG percentage per subject\", side = 3, line = -2, outer = TRUE, cex = 1.5)\n",
    "par(mfrow = c(1,1))"
   ]
  },
  {
   "cell_type": "code",
   "execution_count": 12,
   "metadata": {},
   "outputs": [],
   "source": [
    "medianCpgDetPval = apply(detect.p, 1, median)\n",
    "poorCpgIndex = medianCpgDetPval>0.05"
   ]
  },
  {
   "cell_type": "code",
   "execution_count": null,
   "metadata": {},
   "outputs": [],
   "source": [
    "jpeg(\"boxplot_medianCpgDetPval2.jpeg\") # pdf(\"boxplot_medianCpgDetPval.pdf\")\n",
    "boxplot(medianCpgDetPval, ylab = \"Median CpG detection p-value across subjects\", \n",
    "        main = \"Boxplot of median CpG detection p-value across subjects\")\n",
    "abline(h=0.05, col = \"red\")\n",
    "text(1.2, 0.5, paste(\"n=\",sum(poorCpgIndex),sep = \"\"))\n",
    "dev.off()"
   ]
  },
  {
   "cell_type": "code",
   "execution_count": 13,
   "metadata": {},
   "outputs": [
    {
     "data": {
      "image/png": "[encoded data removed]",
      "text/plain": [
       "Plot with title \"Boxplot of median CpG detection p-value across subjects\""
      ]
     },
     "metadata": {
      "image/png": {
       "height": 420,
       "width": 420
      }
     },
     "output_type": "display_data"
    }
   ],
   "source": [
    "\n",
    "boxplot(medianCpgDetPval, ylab = \"Median CpG detection p-value across subjects\", \n",
    "        main = \"Boxplot of median CpG detection p-value across subjects\")\n",
    "abline(h=0.05, col = \"red\")\n",
    "text(1.2, 0.5, paste(\"n=\",sum(poorCpgIndex),sep = \"\"))"
   ]
  },
  {
   "cell_type": "code",
   "execution_count": 14,
   "metadata": {},
   "outputs": [],
   "source": [
    "# Beta matrix\n",
    "if(!(identical(rownames(betas), names(poorCpgIndex)))) stop(\"betas dont match p-values\")\n",
    "betas_filtered = betas[!poorCpgIndex,] # 866091 -> 865306\n"
   ]
  },
  {
   "cell_type": "code",
   "execution_count": 15,
   "metadata": {},
   "outputs": [],
   "source": [
    "# missing anno CpGs\n",
    "cpgsWithoutAnno = rownames(betas_filtered)[!(rownames(betas_filtered) %in% anno$Name)]\n",
    "betas_filtered = betas_filtered[!(rownames(betas_filtered) %in% cpgsWithoutAnno),]\n"
   ]
  },
  {
   "cell_type": "code",
   "execution_count": 16,
   "metadata": {},
   "outputs": [],
   "source": [
    "# Probe design matrix\n",
    "if(!(identical(anno$Name[anno$Name %in% rownames(betas_filtered)], rownames(betas_filtered)))) stop(\"annotation dont match p-values\")\n",
    "infTypes = ifelse(anno$Type[anno$Name %in% rownames(betas_filtered)] == \"I\", 1, 2)\n"
   ]
  },
  {
   "cell_type": "markdown",
   "metadata": {},
   "source": [
    "<b>Reduction of probe type bias:</b> <p>An important objective of normalizing the Illumina 450K data is to reduce the bias caused by the use of the 2 types of probes. Therefore, we drew density plots of methylation b-values for each sample using raw and normalized 450K data(Fig.5),where the red line represents the densities of Type I probes for a sample and a blue line represents the densities of Type II probes for a sample. It is shown that QN, ASMN, Dasen,and SWAN do not fully remove probe type bias; in contrast QN.BMIQ, BMIQ, PBC, and SQN eliminate the bias between the 2 probe types. These results are similar to those reported by other researchers. However, for SQN, although the bias is reduced, the correlation/difference between the WGBS and its normalized 450K data, and that between technical replicates, is severely compromised, which was already shown in the above analyses. Hence, PBC and QN. BMIQ could be the most efficient normalization methods.</p> <p> https://doi.org/10.1080/15592294.2015.1057384 </p>\n",
    "<img src=\"https://www.tandfonline.com/na101/home/literatum/publisher/tandf/journals/content/kepi20/2015/kepi20.v010.i07/15592294.2015.1057384/20151020/images/medium/kepi_a_1057384_f0005_oc.gif\" alt=\"BMIQ\" width=\"700\" height=\"700\">\n",
    "\n",
    "<p> <b>BMIQ</b> is an intra-sample normalisation procedure, correcting the bias of type-2 probe values. BMIQ uses a 3-step procedure: (i) fitting of a 3-state beta mixture model, (ii) transformation of statemembership probabilities of type2 probes into quantiles of the type1 distribution, and (iii) a conformal transformation for the hemi-methylated probes.</p>"
   ]
  },
  {
   "cell_type": "code",
   "execution_count": 18,
   "metadata": {
    "scrolled": true
   },
   "outputs": [
    {
     "name": "stdout",
     "output_type": "stream",
     "text": [
      "[1] 1\n",
      "[1] \"Fitting EM beta mixture to type1 probes\"\n",
      "[1] Inf\n",
      "[1] 0.008433371\n",
      "[1] 0.009559778\n",
      "[1] 0.008837421\n",
      "[1] 0.007471865\n",
      "[1] \"Done\"\n",
      "[1] \"Fitting EM beta mixture to type2 probes\"\n",
      "[1] Inf\n",
      "[1] 0.01343335\n",
      "[1] 0.01052123\n",
      "[1] 0.008791144\n",
      "[1] 0.007458284\n",
      "[1] \"Done\"\n",
      "[1] \"Start normalising type 2 probes\"\n",
      "[1] \"Finished for sample 1\"\n",
      "[1] 2\n",
      "[1] \"Fitting EM beta mixture to type1 probes\"\n",
      "[1] Inf\n",
      "[1] 0.007867568\n",
      "[1] 0.009206508\n",
      "[1] 0.008590948\n",
      "[1] 0.007482568\n",
      "[1] \"Done\"\n",
      "[1] \"Fitting EM beta mixture to type2 probes\"\n",
      "[1] Inf\n",
      "[1] 0.01216453\n",
      "[1] 0.009403163\n",
      "[1] 0.007851337\n",
      "[1] 0.006701551\n",
      "[1] \"Done\"\n",
      "[1] \"Start normalising type 2 probes\"\n",
      "[1] \"Finished for sample 1\"\n",
      "[1] 3\n",
      "[1] \"Fitting EM beta mixture to type1 probes\"\n",
      "[1] Inf\n",
      "[1] 0.007544886\n",
      "[1] 0.009065703\n",
      "[1] 0.008499536\n",
      "[1] 0.007280046\n",
      "[1] \"Done\"\n",
      "[1] \"Fitting EM beta mixture to type2 probes\"\n",
      "[1] Inf\n",
      "[1] 0.01295612\n",
      "[1] 0.01013687\n",
      "[1] 0.008512386\n",
      "[1] 0.007274502\n",
      "[1] \"Done\"\n",
      "[1] \"Start normalising type 2 probes\"\n",
      "[1] \"Finished for sample 1\"\n",
      "[1] 4\n",
      "[1] \"Fitting EM beta mixture to type1 probes\"\n",
      "[1] Inf\n",
      "[1] 0.008075848\n",
      "[1] 0.009457371\n",
      "[1] 0.008768063\n",
      "[1] 0.007474989\n",
      "[1] \"Done\"\n",
      "[1] \"Fitting EM beta mixture to type2 probes\"\n",
      "[1] Inf\n",
      "[1] 0.01295218\n",
      "[1] 0.01008293\n",
      "[1] 0.008393003\n",
      "[1] 0.007117225\n",
      "[1] \"Done\"\n",
      "[1] \"Start normalising type 2 probes\"\n",
      "[1] \"Finished for sample 1\"\n",
      "[1] 5\n",
      "[1] \"Fitting EM beta mixture to type1 probes\"\n",
      "[1] Inf\n",
      "[1] 0.007968807\n",
      "[1] 0.009127055\n",
      "[1] 0.008256067\n",
      "[1] 0.006816639\n",
      "[1] \"Done\"\n",
      "[1] \"Fitting EM beta mixture to type2 probes\"\n",
      "[1] Inf\n",
      "[1] 0.01580957\n",
      "[1] 0.01131795\n",
      "[1] 0.008869659\n",
      "[1] 0.007142639\n",
      "[1] \"Done\"\n",
      "[1] \"Start normalising type 2 probes\"\n",
      "[1] \"Finished for sample 1\"\n",
      "[1] 6\n",
      "[1] \"Fitting EM beta mixture to type1 probes\"\n",
      "[1] Inf\n",
      "[1] 0.009070773\n",
      "[1] 0.01009153\n",
      "[1] 0.008896678\n",
      "[1] 0.007147321\n",
      "[1] \"Done\"\n",
      "[1] \"Fitting EM beta mixture to type2 probes\"\n",
      "[1] Inf\n",
      "[1] 0.0158252\n",
      "[1] 0.01159286\n",
      "[1] 0.009287723\n",
      "[1] 0.007634314\n",
      "[1] \"Done\"\n",
      "[1] \"Start normalising type 2 probes\"\n",
      "[1] \"Finished for sample 1\"\n",
      "[1] 7\n",
      "[1] \"Fitting EM beta mixture to type1 probes\"\n",
      "[1] Inf\n",
      "[1] 0.007988515\n",
      "[1] 0.008931592\n",
      "[1] 0.007705941\n",
      "[1] 0.006039606\n",
      "[1] \"Done\"\n",
      "[1] \"Fitting EM beta mixture to type2 probes\"\n",
      "[1] Inf\n",
      "[1] 0.01666278\n",
      "[1] 0.01238385\n",
      "[1] 0.009876799\n",
      "[1] 0.008021244\n",
      "[1] \"Done\"\n",
      "[1] \"Start normalising type 2 probes\"\n",
      "[1] \"Finished for sample 1\"\n",
      "[1] 8\n",
      "[1] \"Fitting EM beta mixture to type1 probes\"\n",
      "[1] Inf\n",
      "[1] 0.007965146\n",
      "[1] 0.008272741\n",
      "[1] 0.006821544\n",
      "[1] 0.005170317\n",
      "[1] \"Done\"\n",
      "[1] \"Fitting EM beta mixture to type2 probes\"\n",
      "[1] Inf\n",
      "[1] 0.01556886\n",
      "[1] 0.01099858\n",
      "[1] 0.008541002\n",
      "[1] 0.006845858\n",
      "[1] \"Done\"\n",
      "[1] \"Start normalising type 2 probes\"\n",
      "[1] \"Finished for sample 1\"\n",
      "[1] 9\n",
      "[1] \"Fitting EM beta mixture to type1 probes\"\n",
      "[1] Inf\n",
      "[1] 0.007640096\n",
      "[1] 0.008491143\n",
      "[1] 0.007109562\n",
      "[1] 0.005368338\n",
      "[1] \"Done\"\n",
      "[1] \"Fitting EM beta mixture to type2 probes\"\n",
      "[1] Inf\n",
      "[1] 0.01637369\n",
      "[1] 0.01188425\n",
      "[1] 0.009337648\n",
      "[1] 0.007491585\n",
      "[1] \"Done\"\n",
      "[1] \"Start normalising type 2 probes\"\n",
      "[1] \"Finished for sample 1\"\n",
      "[1] 10\n",
      "[1] \"Fitting EM beta mixture to type1 probes\"\n",
      "[1] Inf\n",
      "[1] 0.008190448\n",
      "[1] 0.009364761\n",
      "[1] 0.008232056\n",
      "[1] 0.00655457\n",
      "[1] \"Done\"\n",
      "[1] \"Fitting EM beta mixture to type2 probes\"\n",
      "[1] Inf\n",
      "[1] 0.01567483\n",
      "[1] 0.01114903\n",
      "[1] 0.008780829\n",
      "[1] 0.007154889\n",
      "[1] \"Done\"\n",
      "[1] \"Start normalising type 2 probes\"\n",
      "[1] \"Finished for sample 1\"\n",
      "[1] 11\n",
      "[1] \"Fitting EM beta mixture to type1 probes\"\n",
      "[1] Inf\n",
      "[1] 0.005785794\n",
      "[1] 0.007751222\n",
      "[1] 0.007328378\n",
      "[1] 0.006206247\n",
      "[1] \"Done\"\n",
      "[1] \"Fitting EM beta mixture to type2 probes\"\n",
      "[1] Inf\n",
      "[1] 0.006067807\n",
      "[1] 0.004135815\n",
      "[1] 0.003380711\n",
      "[1] 0.002942971\n",
      "[1] \"Done\"\n",
      "[1] \"Start normalising type 2 probes\"\n",
      "[1] \"Finished for sample 1\"\n",
      "[1] 12\n",
      "[1] \"Fitting EM beta mixture to type1 probes\"\n",
      "[1] Inf\n",
      "[1] 0.006860712\n",
      "[1] 0.008424028\n",
      "[1] 0.007551546\n",
      "[1] 0.006070035\n",
      "[1] \"Done\"\n",
      "[1] \"Fitting EM beta mixture to type2 probes\"\n",
      "[1] Inf\n",
      "[1] 0.007309721\n",
      "[1] 0.005348126\n",
      "[1] 0.0045118\n",
      "[1] 0.003973418\n",
      "[1] \"Done\"\n",
      "[1] \"Start normalising type 2 probes\"\n",
      "[1] \"Finished for sample 1\"\n",
      "[1] 13\n",
      "[1] \"Fitting EM beta mixture to type1 probes\"\n",
      "[1] Inf\n",
      "[1] 0.005812255\n",
      "[1] 0.007903085\n",
      "[1] 0.007391833\n",
      "[1] 0.006123149\n",
      "[1] \"Done\"\n",
      "[1] \"Fitting EM beta mixture to type2 probes\"\n",
      "[1] Inf\n",
      "[1] 0.006081402\n",
      "[1] 0.0042301\n",
      "[1] 0.003490748\n",
      "[1] 0.003047369\n",
      "[1] \"Done\"\n",
      "[1] \"Start normalising type 2 probes\"\n",
      "[1] \"Finished for sample 1\"\n",
      "[1] 14\n",
      "[1] \"Fitting EM beta mixture to type1 probes\"\n",
      "[1] Inf\n",
      "[1] 0.006226438\n",
      "[1] 0.008085711\n",
      "[1] 0.007303404\n",
      "[1] 0.00578523\n",
      "[1] \"Done\"\n",
      "[1] \"Fitting EM beta mixture to type2 probes\"\n",
      "[1] Inf\n",
      "[1] 0.007322782\n",
      "[1] 0.005567458\n",
      "[1] 0.004774586\n",
      "[1] 0.004218246\n",
      "[1] \"Done\"\n",
      "[1] \"Start normalising type 2 probes\"\n",
      "[1] \"Finished for sample 1\"\n",
      "[1] 15\n",
      "[1] \"Fitting EM beta mixture to type1 probes\"\n",
      "[1] Inf\n",
      "[1] 0.006060395\n",
      "[1] 0.007849986\n",
      "[1] 0.007251487\n",
      "[1] 0.006020241\n",
      "[1] \"Done\"\n",
      "[1] \"Fitting EM beta mixture to type2 probes\"\n",
      "[1] Inf\n",
      "[1] 0.005742518\n",
      "[1] 0.00380058\n",
      "[1] 0.003068466\n",
      "[1] 0.002666176\n",
      "[1] \"Done\"\n",
      "[1] \"Start normalising type 2 probes\"\n",
      "[1] \"Finished for sample 1\"\n",
      "[1] 16\n",
      "[1] \"Fitting EM beta mixture to type1 probes\"\n",
      "[1] Inf\n",
      "[1] 0.005866378\n",
      "[1] 0.007923106\n",
      "[1] 0.007269639\n",
      "[1] 0.005826851\n",
      "[1] \"Done\"\n",
      "[1] \"Fitting EM beta mixture to type2 probes\"\n",
      "[1] Inf\n",
      "[1] 0.007984515\n",
      "[1] 0.00609454\n",
      "[1] 0.005168731\n",
      "[1] 0.004504192\n",
      "[1] \"Done\"\n",
      "[1] \"Start normalising type 2 probes\"\n",
      "[1] \"Finished for sample 1\"\n"
     ]
    }
   ],
   "source": [
    "# WateRmelon\n",
    "# BMIQ: Beta-Mixture Quantile Normalisation (probe 2 adjustment)\n",
    "bmiqSet = NULL\n",
    "for(i in 1:dim(betas_filtered)[2]){\n",
    "  print(i)\n",
    "  tmpBmiqSet = BMIQ(beta.v = betas_filtered[,i], design.v = infTypes, plots = FALSE) # requires RPMM; package install.packages(\"RPMM\")\n",
    "  bmiqSet = cbind(bmiqSet, tmpBmiqSet$nbeta)\n",
    "}\n",
    "rm(tmpBmiqSet)\n",
    "colnames(bmiqSet) = colnames(betas_filtered)"
   ]
  },
  {
   "cell_type": "code",
   "execution_count": null,
   "metadata": {},
   "outputs": [],
   "source": [
    "jpeg(\"BMIQ_density2.jpeg\") # pdf(\"BMIQ_density.pdf\")\n",
    "plot(density(betas_filtered[ infTypes==1,]), col = \"red\", main = \"Density plot of probe 1/2 before/after BMIQ\", lwd = 2)\n",
    "lines(density(betas_filtered[ infTypes==2,]), col = \"green\", lwd = 2)\n",
    "lines(density(bmiqSet[ infTypes==1,]), col = \"blue\", lty = 2, lwd = 2)\n",
    "lines(density(bmiqSet[ infTypes==2,]), col = \"yellow\", lwd = 2)\n",
    "legend(\"topright\", legend = c(\"Probe1 before BMIQ\", \"Probe2 before BMIQ\", \"Probe1 after BMIQ\", \"Probe2 after BMIQ\"), col = c(\"red\", \"green\", \"blue\", \"yellow\"), lty = c(1,1,2,1), lwd = 2)\n",
    "dev.off()\n",
    "\n",
    "colnames(bmiqSet) = targets$Sample_Name"
   ]
  },
  {
   "cell_type": "code",
   "execution_count": null,
   "metadata": {},
   "outputs": [],
   "source": [
    "# BMIQ Density plot\n",
    "plot(density(betas_filtered[ infTypes==1,]), col = \"red\", main = \"Density plot of probe 1/2 before/after BMIQ\", lwd = 2)\n",
    "lines(density(betas_filtered[ infTypes==2,]), col = \"green\", lwd = 2)\n",
    "lines(density(bmiqSet[ infTypes==1,]), col = \"blue\", lty = 2, lwd = 2)\n",
    "lines(density(bmiqSet[ infTypes==2,]), col = \"yellow\", lwd = 2)\n",
    "legend(\"topright\", legend = c(\"Probe1 before BMIQ\", \"Probe2 before BMIQ\", \"Probe1 after BMIQ\", \"Probe2 after BMIQ\"), col = c(\"red\", \"green\", \"blue\", \"yellow\"), lty = c(1,1,2,1), lwd = 2)\n",
    "\n",
    "\n",
    "colnames(bmiqSet) = targets$Sample_Name"
   ]
  },
  {
   "cell_type": "code",
   "execution_count": null,
   "metadata": {},
   "outputs": [],
   "source": [
    "save(bmiqSet, targets, anno, file = \"bmiqSet.Rdata\") # "
   ]
  },
  {
   "cell_type": "code",
   "execution_count": null,
   "metadata": {},
   "outputs": [],
   "source": [
    "# Save an object to a file\n",
    "saveRDS(bmiqSet, file = \"bmiqset1.rds\")"
   ]
  },
  {
   "cell_type": "code",
   "execution_count": null,
   "metadata": {},
   "outputs": [],
   "source": [
    "load(\"bmiqSet.Rdata\")\n",
    "\n",
    "# Restore the object\n",
    "#bmiqSet <- readRDS(file = \"bmiqset1.rds\")"
   ]
  },
  {
   "cell_type": "code",
   "execution_count": null,
   "metadata": {},
   "outputs": [],
   "source": [
    "library(\"GGally\") \n",
    "library(ggfortify) \n",
    "#library(ggplot2)\n"
   ]
  },
  {
   "cell_type": "code",
   "execution_count": 19,
   "metadata": {},
   "outputs": [
    {
     "data": {
      "image/png": "[encoded data removed]",
      "text/plain": [
       "plot without title"
      ]
     },
     "metadata": {
      "image/png": {
       "height": 420,
       "width": 420
      }
     },
     "output_type": "display_data"
    }
   ],
   "source": [
    "\n",
    "pca = stats::prcomp(t(bmiqSet))\n",
    "rownames(targets) = targets$Sample_Name\n",
    "#pdf(\"PCA2.pdf\")\n",
    "#ggplot2::autoplot(pca, data = targets, colour = \"Sample_Group\", x = 1, y = 2, label  = TRUE)\n",
    "ggplot2::autoplot(pca, data = targets, colour = \"Sample_Group\", x = 1, y = 2)\n",
    "#dev.off()"
   ]
  },
  {
   "cell_type": "code",
   "execution_count": null,
   "metadata": {},
   "outputs": [],
   "source": [
    "head(bmiqSet)"
   ]
  },
  {
   "cell_type": "code",
   "execution_count": null,
   "metadata": {},
   "outputs": [],
   "source": [
    "############################ DMA limm: Control - WT ##########################\n",
    "\n",
    "idx = targets$Sample_Group %in% c(\"control\", \"BRCA1WT\")\n",
    "\n",
    "mvals = log2(bmiqSet[,idx] / (1-bmiqSet[,idx]))\n",
    "groups = factor(targets$Sample_Group[idx], levels = c(\"control\", \"BRCA1WT\"))\n",
    "design = model.matrix(~ groups)\n",
    "design"
   ]
  },
  {
   "cell_type": "code",
   "execution_count": null,
   "metadata": {},
   "outputs": [],
   "source": [
    "limmaFit = lmFit(mvals, design)\n",
    "pval = eBayes(limmaFit)$p.value[,2]\n",
    "fdr = p.adjust(pval, method = \"fdr\"); min(fdr)"
   ]
  },
  {
   "cell_type": "code",
   "execution_count": null,
   "metadata": {},
   "outputs": [],
   "source": [
    "# summarize results in table\n",
    "results = data.frame(names = names(pval), pvalue = pval, FDR = fdr, genes = anno[names(pval), \"UCSC_RefGene_Name\"], bmiqSet[,idx])\n",
    "results = results[order(results$pvalue),]\n",
    "#write.csv(results, file = \"results_cnt-wt_test.csv\", quote = F, row.names = F)\n",
    "# results[results$FDR<0.05,] \n",
    "head(results)\n"
   ]
  },
  {
   "cell_type": "code",
   "execution_count": null,
   "metadata": {},
   "outputs": [],
   "source": [
    "# significant cpgs and genes\n",
    "signCpg = results[results$FDR<0.05,]$names # signCpg = rownames(results)[1:10]\n",
    "length(signCpg)\n",
    "signGenes = anno[rownames(anno)%in% signCpg,]$UCSC_RefGene_Name\n",
    "signGenes = unique(unlist(strsplit(signGenes, \";\")))\n",
    "length(signGenes)\n",
    "head(signGenes)\n"
   ]
  },
  {
   "cell_type": "code",
   "execution_count": 20,
   "metadata": {},
   "outputs": [
    {
     "ename": "ERROR",
     "evalue": "Error in eval(predvars, data, env): object 'signCpg' not found\n",
     "output_type": "error",
     "traceback": [
      "Error in eval(predvars, data, env): object 'signCpg' not found\nTraceback:\n",
      "1. boxplot(bmiqSet[signCpg[1], idx] ~ groups, main = signCpg[1], \n .     ylab = \"Beta-Value\", xlab = \"Groups\")",
      "2. boxplot(bmiqSet[signCpg[1], idx] ~ groups, main = signCpg[1], \n .     ylab = \"Beta-Value\", xlab = \"Groups\")",
      "3. boxplot.formula(bmiqSet[signCpg[1], idx] ~ groups, main = signCpg[1], \n .     ylab = \"Beta-Value\", xlab = \"Groups\")",
      "4. eval(m, parent.frame())",
      "5. eval(m, parent.frame())",
      "6. stats::model.frame.default(formula = bmiqSet[signCpg[1], idx] ~ \n .     groups)",
      "7. eval(predvars, data, env)",
      "8. eval(predvars, data, env)"
     ]
    }
   ],
   "source": [
    "## boxplot of significant CpG \n",
    "boxplot(bmiqSet[signCpg[1],idx] ~ groups, main = signCpg[1], ylab = \"Beta-Value\", xlab = \"Groups\")"
   ]
  },
  {
   "cell_type": "code",
   "execution_count": null,
   "metadata": {},
   "outputs": [],
   "source": [
    "## save genes\n",
    "write.table(signGenes, file = \"signGenes_cnt-wt.txt\", row.names = F, sep = \"\\n\", col.names = F, quote = F)"
   ]
  },
  {
   "cell_type": "code",
   "execution_count": null,
   "metadata": {},
   "outputs": [],
   "source": [
    "getwd()\n",
    "sessionInfo()"
   ]
  }
 ],
 "metadata": {
  "kernelspec": {
   "display_name": "R [conda env:appl_sys_bio]",
   "language": "R",
   "name": "conda-env-appl_sys_bio-r"
  },
  "language_info": {
   "codemirror_mode": "r",
   "file_extension": ".r",
   "mimetype": "text/x-r-source",
   "name": "R",
   "pygments_lexer": "r",
   "version": "4.1.3"
  },
  "toc-autonumbering": false
 },
 "nbformat": 4,
 "nbformat_minor": 4
}
