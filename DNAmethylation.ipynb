{
 "cells": [
  {
   "cell_type": "raw",
   "id": "db7648b0-cc7b-4d45-8758-b238b024c884",
   "metadata": {},
   "source": [
    "This module demonstrates the basic steps necessary to download raw DNA methylation data generated using Illumina's Infinium methylation array 450k from the Gene Expression Omnibus (GEO) public repository, preprocess the data, perform differential methylation analysis, and generate plots to visualize the results."
   ]
  },
  {
   "cell_type": "code",
   "execution_count": 34,
   "id": "0de7726c-44b1-4b0f-a240-789b4abba698",
   "metadata": {},
   "outputs": [],
   "source": [
    "# First, check and install package BiocManager if it has not been already installed\n",
    "# This package enables installing Bioconductor packages\n",
    "rm(list=ls())\n",
    "if (!requireNamespace(\"BiocManager\", quietly = TRUE)) install.packages(\"BiocManager\")"
   ]
  },
  {
   "cell_type": "code",
   "execution_count": 35,
   "id": "6440ae8a-04cb-4b21-91d1-72c7d145ecd4",
   "metadata": {},
   "outputs": [],
   "source": [
    "# Install Bioconductor packages needed for this module\n",
    "# Package GEOquery is used to download raw files from the GEO repository\n",
    "if (!requireNamespace(\"GEOquery\", quietly = TRUE)) BiocManager::install(\"GEOquery\")\n",
    "# Package minfi is used to read raw methylation data into R, and perform preprocessing steps\n",
    "if(!requireNamespace(\"minfi\", quietly=TRUE)) BiocManager::install(\"minfi\")\n",
    "# The chip (450k) manifest and annotation packages are needed to annotate probe identifiers with genomic features\n",
    "if(!requireNamespace(\"IlluminaHumanMethylation450kmanifest\", quietly=TRUE)) BiocManager::install(\"IlluminaHumanMethylation450kmanifest\")\n",
    "if(!requireNamespace(\"IlluminaHumanMethylation450kanno.ilmn12.hg19\", quietly=TRUE)) BiocManager::install(\"IlluminaHumanMethylation450kanno.ilmn12.hg19\")\n",
    "# Package limma is used to perform a differential methylation test\n",
    "if (!requireNamespace(\"limma\", quietly = TRUE)) BiocManager::install(\"limma\")"
   ]
  },
  {
   "cell_type": "code",
   "execution_count": 36,
   "id": "5f8f99a7-cb3d-47aa-a699-10ab38a56952",
   "metadata": {},
   "outputs": [],
   "source": [
    "# Load the needed packages\n",
    "library(GEOquery)\n",
    "library(minfi)\n",
    "library(IlluminaHumanMethylation450kmanifest)\n",
    "library(IlluminaHumanMethylation450kanno.ilmn12.hg19)\n",
    "library(limma)"
   ]
  },
  {
   "cell_type": "code",
   "execution_count": 37,
   "id": "5f12236a-3450-45f1-9430-0bd5a5a5cd48",
   "metadata": {},
   "outputs": [],
   "source": [
    "# 1) Prepare files.\n",
    "#    Use package GEOquery to download raw files of series GSE47915 from the GEO repository. \n",
    "#    This series has 4 prostate tumor samples and 4 benign samples. \n",
    "#    Raw data files will be downloaded as a compressed folder under a newly created folder carrying the name of the GEO series.\n",
    "\n",
    "#    Object downloaded will be a data frame with rownames representing the full path of the resulting downloaded files. \n",
    "#    The records in this data frame represent information for each downloaded file\n",
    "downloaded <- getGEOSuppFiles(\"GSE47915\")"
   ]
  },
  {
   "cell_type": "code",
   "execution_count": 38,
   "id": "dbd9a488-03be-438e-807b-9b9731c7d14a",
   "metadata": {},
   "outputs": [],
   "source": [
    "# Set the working directory to the newly created folder\n",
    "setwd(paste(getwd(), \"/GSE47915\", sep=\"\"))"
   ]
  },
  {
   "cell_type": "code",
   "execution_count": 39,
   "id": "8d57de97-c21b-496e-b7e4-4c99c6b26361",
   "metadata": {},
   "outputs": [
    {
     "data": {
      "text/html": [
       "TRUE"
      ],
      "text/latex": [
       "TRUE"
      ],
      "text/markdown": [
       "TRUE"
      ],
      "text/plain": [
       "[1] TRUE"
      ]
     },
     "metadata": {},
     "output_type": "display_data"
    },
    {
     "data": {
      "text/html": [
       "TRUE"
      ],
      "text/latex": [
       "TRUE"
      ],
      "text/markdown": [
       "TRUE"
      ],
      "text/plain": [
       "[1] TRUE"
      ]
     },
     "metadata": {},
     "output_type": "display_data"
    }
   ],
   "source": [
    "\n",
    "# Decompress the download tar folder GSE47915_RAW.tar\n",
    "untar(\"GSE47915_RAW.tar\")\n",
    "# Delete the downloaded compressed files since they are no longer needed\n",
    "file.remove(\"GSE47915_RAW.tar\")\n",
    "file.remove(\"GSE47915_signal_intensities.txt.gz\")"
   ]
  },
  {
   "cell_type": "code",
   "execution_count": 40,
   "id": "fe289006-4027-4d06-a70d-8b2e799a3a20",
   "metadata": {},
   "outputs": [
    {
     "data": {
      "text/html": [
       "<style>\n",
       ".list-inline {list-style: none; margin:0; padding: 0}\n",
       ".list-inline>li {display: inline-block}\n",
       ".list-inline>li:not(:last-child)::after {content: \"\\00b7\"; padding: 0 .5ex}\n",
       "</style>\n",
       "<ol class=list-inline><li>'GSM1162363_6264509108_R01C02'</li><li>'GSM1162364_6264509130_R04C02'</li><li>'GSM1162365_6264509130_R03C02'</li><li>'GSM1162369_6264509130_R06C01'</li><li>'GSM1162375_6264509130_R05C01'</li><li>'GSM1162380_6285609104_R03C02'</li><li>'GSM1162381_6285650040_R06C02'</li><li>'GSM1162382_6285650050_R01C01'</li></ol>\n"
      ],
      "text/latex": [
       "\\begin{enumerate*}\n",
       "\\item 'GSM1162363\\_6264509108\\_R01C02'\n",
       "\\item 'GSM1162364\\_6264509130\\_R04C02'\n",
       "\\item 'GSM1162365\\_6264509130\\_R03C02'\n",
       "\\item 'GSM1162369\\_6264509130\\_R06C01'\n",
       "\\item 'GSM1162375\\_6264509130\\_R05C01'\n",
       "\\item 'GSM1162380\\_6285609104\\_R03C02'\n",
       "\\item 'GSM1162381\\_6285650040\\_R06C02'\n",
       "\\item 'GSM1162382\\_6285650050\\_R01C01'\n",
       "\\end{enumerate*}\n"
      ],
      "text/markdown": [
       "1. 'GSM1162363_6264509108_R01C02'\n",
       "2. 'GSM1162364_6264509130_R04C02'\n",
       "3. 'GSM1162365_6264509130_R03C02'\n",
       "4. 'GSM1162369_6264509130_R06C01'\n",
       "5. 'GSM1162375_6264509130_R05C01'\n",
       "6. 'GSM1162380_6285609104_R03C02'\n",
       "7. 'GSM1162381_6285650040_R06C02'\n",
       "8. 'GSM1162382_6285650050_R01C01'\n",
       "\n",
       "\n"
      ],
      "text/plain": [
       "[1] \"GSM1162363_6264509108_R01C02\" \"GSM1162364_6264509130_R04C02\"\n",
       "[3] \"GSM1162365_6264509130_R03C02\" \"GSM1162369_6264509130_R06C01\"\n",
       "[5] \"GSM1162375_6264509130_R05C01\" \"GSM1162380_6285609104_R03C02\"\n",
       "[7] \"GSM1162381_6285650040_R06C02\" \"GSM1162382_6285650050_R01C01\""
      ]
     },
     "metadata": {},
     "output_type": "display_data"
    },
    {
     "data": {
      "text/html": [
       "<style>\n",
       ".list-inline {list-style: none; margin:0; padding: 0}\n",
       ".list-inline>li {display: inline-block}\n",
       ".list-inline>li:not(:last-child)::after {content: \"\\00b7\"; padding: 0 .5ex}\n",
       "</style>\n",
       "<ol class=list-inline><li>'benign'</li><li>'tumor'</li><li>'tumor'</li><li>'tumor'</li><li>'tumor'</li><li>'benign'</li><li>'benign'</li><li>'benign'</li></ol>\n"
      ],
      "text/latex": [
       "\\begin{enumerate*}\n",
       "\\item 'benign'\n",
       "\\item 'tumor'\n",
       "\\item 'tumor'\n",
       "\\item 'tumor'\n",
       "\\item 'tumor'\n",
       "\\item 'benign'\n",
       "\\item 'benign'\n",
       "\\item 'benign'\n",
       "\\end{enumerate*}\n"
      ],
      "text/markdown": [
       "1. 'benign'\n",
       "2. 'tumor'\n",
       "3. 'tumor'\n",
       "4. 'tumor'\n",
       "5. 'tumor'\n",
       "6. 'benign'\n",
       "7. 'benign'\n",
       "8. 'benign'\n",
       "\n",
       "\n"
      ],
      "text/plain": [
       "[1] \"benign\" \"tumor\"  \"tumor\"  \"tumor\"  \"tumor\"  \"benign\" \"benign\" \"benign\""
      ]
     },
     "metadata": {},
     "output_type": "display_data"
    }
   ],
   "source": [
    "# There are 2 raw files (with .idat extension) per sample: One for the red channel and one for the green channel\n",
    "# Create the base names for raw files\n",
    "idat.files <- list.files(pattern=\"idat\")\n",
    "idat.basenames <- sub(x=idat.files, pattern=\"_Grn.idat.gz\", replacement=\"\")\n",
    "idat.basenames <- sub(x=idat.basenames, pattern=\"_Red.idat.gz\", replacement=\"\")\n",
    "idat.basenames <- unique(idat.basenames)\n",
    "# Create group labels for samples\n",
    "group.labels <- c(\"benign\", \"tumor\", \"tumor\", \"tumor\", \"tumor\", \"benign\", \"benign\", \"benign\")\n",
    "idat.basenames\n",
    "group.labels"
   ]
  },
  {
   "cell_type": "code",
   "execution_count": 41,
   "id": "bd52a7b5-645e-47e4-90c5-03e7fceefe98",
   "metadata": {},
   "outputs": [
    {
     "data": {
      "text/plain": [
       "class: RGChannelSet \n",
       "dim: 622399 8 \n",
       "metadata(0):\n",
       "assays(2): Green Red\n",
       "rownames(622399): 10600313 10600322 ... 74810490 74810492\n",
       "rowData names(0):\n",
       "colnames(8): GSM1162363_6264509108_R01C02 GSM1162364_6264509130_R04C02\n",
       "  ... GSM1162381_6285650040_R06C02 GSM1162382_6285650050_R01C01\n",
       "colData names(0):\n",
       "Annotation\n",
       "  array: IlluminaHumanMethylation450k\n",
       "  annotation: ilmn12.hg19"
      ]
     },
     "metadata": {},
     "output_type": "display_data"
    }
   ],
   "source": [
    "# 2) Read raw data.\n",
    "#    Use package minfi to read raw idat files into R\n",
    "#    Proper annotation and chip manafest packages are needed\n",
    "\n",
    "#    Read raw files into one RGChannelSet data object\n",
    "RGset <- read.metharray(basenames=idat.basenames)\n",
    "RGset"
   ]
  },
  {
   "cell_type": "code",
   "execution_count": 42,
   "id": "76edeb87-304a-4ef5-9f8c-fdb664029218",
   "metadata": {},
   "outputs": [
    {
     "data": {
      "text/plain": [
       "class: MethylSet \n",
       "dim: 483896 8 \n",
       "metadata(0):\n",
       "assays(2): Meth Unmeth\n",
       "rownames(483896): cg00050873 cg00212031 ... ch.22.47579720R\n",
       "  ch.22.48274842R\n",
       "rowData names(0):\n",
       "colnames(8): GSM1162363_6264509108_R01C02 GSM1162364_6264509130_R04C02\n",
       "  ... GSM1162381_6285650040_R06C02 GSM1162382_6285650050_R01C01\n",
       "colData names(0):\n",
       "Annotation\n",
       "  array: IlluminaHumanMethylation450k\n",
       "  annotation: ilmn12.hg19\n",
       "Preprocessing\n",
       "  Method: Illumina, bg.correct = TRUE, normalize = controls, reference = 1\n",
       "  minfi version: 1.52.1\n",
       "  Manifest version: 0.4.0"
      ]
     },
     "metadata": {},
     "output_type": "display_data"
    },
    {
     "data": {
      "text/plain": [
       "class: GenomicMethylSet \n",
       "dim: 483896 8 \n",
       "metadata(0):\n",
       "assays(2): Meth Unmeth\n",
       "rownames(483896): cg13869341 cg14008030 ... cg08265308 cg14273923\n",
       "rowData names(0):\n",
       "colnames(8): GSM1162363_6264509108_R01C02 GSM1162364_6264509130_R04C02\n",
       "  ... GSM1162381_6285650040_R06C02 GSM1162382_6285650050_R01C01\n",
       "colData names(0):\n",
       "Annotation\n",
       "  array: IlluminaHumanMethylation450k\n",
       "  annotation: ilmn12.hg19\n",
       "Preprocessing\n",
       "  Method: Illumina, bg.correct = TRUE, normalize = controls, reference = 1\n",
       "  minfi version: 1.52.1\n",
       "  Manifest version: 0.4.0"
      ]
     },
     "metadata": {},
     "output_type": "display_data"
    },
    {
     "data": {
      "text/plain": [
       "class: GenomicRatioSet \n",
       "dim: 483896 8 \n",
       "metadata(0):\n",
       "assays(2): Beta CN\n",
       "rownames(483896): cg13869341 cg14008030 ... cg08265308 cg14273923\n",
       "rowData names(0):\n",
       "colnames(8): GSM1162363_6264509108_R01C02 GSM1162364_6264509130_R04C02\n",
       "  ... GSM1162381_6285650040_R06C02 GSM1162382_6285650050_R01C01\n",
       "colData names(0):\n",
       "Annotation\n",
       "  array: IlluminaHumanMethylation450k\n",
       "  annotation: ilmn12.hg19\n",
       "Preprocessing\n",
       "  Method: Illumina, bg.correct = TRUE, normalize = controls, reference = 1\n",
       "  minfi version: 1.52.1\n",
       "  Manifest version: 0.4.0"
      ]
     },
     "metadata": {},
     "output_type": "display_data"
    }
   ],
   "source": [
    "# 3) preprocess raw data:\n",
    "#    Identify probes with poor quality (detection p-value >0.01) based on detection p-values\n",
    "detP <- detectionP(RGset, type = \"m+u\")\n",
    "poorProbes <- which(rowSums(detP > 0.01) > 0)\n",
    "#    remove probes with poor quality\n",
    "RGset <- RGset[-poorProbes,]\n",
    "#    Preprocess raw intensities using the Illumina Genome Analyzer method (one option among others)\n",
    "Mset <- preprocessIllumina(RGset)\n",
    "Mset\n",
    "#    Annotate probes in the methylation set data object\n",
    "GMset <- mapToGenome(Mset)\n",
    "GMset\n",
    "#    Calculate the methylation metric (Beta values) from the methylated and unmethylated probe values\n",
    "rc <- ratioConvert(GMset)\n",
    "rc"
   ]
  },
  {
   "cell_type": "code",
   "execution_count": 43,
   "id": "c487ff83-14d8-40cf-ad36-a5b2215db55c",
   "metadata": {},
   "outputs": [],
   "source": [
    "# 4) Remove additional probes.\n",
    "#    Remove CpG probes at genomic locations overlapping known SNPs with non-zero allele frequency.\n",
    "#    Checking the methylation status at locations with known SNPs is not useful.\n",
    "rc <- addSnpInfo(rc)\n",
    "rc <- dropLociWithSnps(rc, snps=c(\"SBE\",\"CpG\"), maf=0)"
   ]
  },
  {
   "cell_type": "code",
   "execution_count": 44,
   "id": "8ce83dc9-193a-45a6-9bd2-80080ecd4397",
   "metadata": {},
   "outputs": [
    {
     "data": {
      "text/html": [
       "<style>\n",
       ".list-inline {list-style: none; margin:0; padding: 0}\n",
       ".list-inline>li {display: inline-block}\n",
       ".list-inline>li:not(:last-child)::after {content: \"\\00b7\"; padding: 0 .5ex}\n",
       "</style>\n",
       "<ol class=list-inline><li>'chr'</li><li>'pos'</li><li>'strand'</li><li>'Name'</li><li>'AddressA'</li><li>'AddressB'</li><li>'ProbeSeqA'</li><li>'ProbeSeqB'</li><li>'Type'</li><li>'NextBase'</li><li>'Color'</li><li>'Probe_rs'</li><li>'Probe_maf'</li><li>'CpG_rs'</li><li>'CpG_maf'</li><li>'SBE_rs'</li><li>'SBE_maf'</li><li>'Islands_Name'</li><li>'Relation_to_Island'</li><li>'Forward_Sequence'</li><li>'SourceSeq'</li><li>'Random_Loci'</li><li>'Methyl27_Loci'</li><li>'UCSC_RefGene_Name'</li><li>'UCSC_RefGene_Accession'</li><li>'UCSC_RefGene_Group'</li><li>'Phantom'</li><li>'DMR'</li><li>'Enhancer'</li><li>'HMM_Island'</li><li>'Regulatory_Feature_Name'</li><li>'Regulatory_Feature_Group'</li><li>'DHS'</li></ol>\n"
      ],
      "text/latex": [
       "\\begin{enumerate*}\n",
       "\\item 'chr'\n",
       "\\item 'pos'\n",
       "\\item 'strand'\n",
       "\\item 'Name'\n",
       "\\item 'AddressA'\n",
       "\\item 'AddressB'\n",
       "\\item 'ProbeSeqA'\n",
       "\\item 'ProbeSeqB'\n",
       "\\item 'Type'\n",
       "\\item 'NextBase'\n",
       "\\item 'Color'\n",
       "\\item 'Probe\\_rs'\n",
       "\\item 'Probe\\_maf'\n",
       "\\item 'CpG\\_rs'\n",
       "\\item 'CpG\\_maf'\n",
       "\\item 'SBE\\_rs'\n",
       "\\item 'SBE\\_maf'\n",
       "\\item 'Islands\\_Name'\n",
       "\\item 'Relation\\_to\\_Island'\n",
       "\\item 'Forward\\_Sequence'\n",
       "\\item 'SourceSeq'\n",
       "\\item 'Random\\_Loci'\n",
       "\\item 'Methyl27\\_Loci'\n",
       "\\item 'UCSC\\_RefGene\\_Name'\n",
       "\\item 'UCSC\\_RefGene\\_Accession'\n",
       "\\item 'UCSC\\_RefGene\\_Group'\n",
       "\\item 'Phantom'\n",
       "\\item 'DMR'\n",
       "\\item 'Enhancer'\n",
       "\\item 'HMM\\_Island'\n",
       "\\item 'Regulatory\\_Feature\\_Name'\n",
       "\\item 'Regulatory\\_Feature\\_Group'\n",
       "\\item 'DHS'\n",
       "\\end{enumerate*}\n"
      ],
      "text/markdown": [
       "1. 'chr'\n",
       "2. 'pos'\n",
       "3. 'strand'\n",
       "4. 'Name'\n",
       "5. 'AddressA'\n",
       "6. 'AddressB'\n",
       "7. 'ProbeSeqA'\n",
       "8. 'ProbeSeqB'\n",
       "9. 'Type'\n",
       "10. 'NextBase'\n",
       "11. 'Color'\n",
       "12. 'Probe_rs'\n",
       "13. 'Probe_maf'\n",
       "14. 'CpG_rs'\n",
       "15. 'CpG_maf'\n",
       "16. 'SBE_rs'\n",
       "17. 'SBE_maf'\n",
       "18. 'Islands_Name'\n",
       "19. 'Relation_to_Island'\n",
       "20. 'Forward_Sequence'\n",
       "21. 'SourceSeq'\n",
       "22. 'Random_Loci'\n",
       "23. 'Methyl27_Loci'\n",
       "24. 'UCSC_RefGene_Name'\n",
       "25. 'UCSC_RefGene_Accession'\n",
       "26. 'UCSC_RefGene_Group'\n",
       "27. 'Phantom'\n",
       "28. 'DMR'\n",
       "29. 'Enhancer'\n",
       "30. 'HMM_Island'\n",
       "31. 'Regulatory_Feature_Name'\n",
       "32. 'Regulatory_Feature_Group'\n",
       "33. 'DHS'\n",
       "\n",
       "\n"
      ],
      "text/plain": [
       " [1] \"chr\"                      \"pos\"                     \n",
       " [3] \"strand\"                   \"Name\"                    \n",
       " [5] \"AddressA\"                 \"AddressB\"                \n",
       " [7] \"ProbeSeqA\"                \"ProbeSeqB\"               \n",
       " [9] \"Type\"                     \"NextBase\"                \n",
       "[11] \"Color\"                    \"Probe_rs\"                \n",
       "[13] \"Probe_maf\"                \"CpG_rs\"                  \n",
       "[15] \"CpG_maf\"                  \"SBE_rs\"                  \n",
       "[17] \"SBE_maf\"                  \"Islands_Name\"            \n",
       "[19] \"Relation_to_Island\"       \"Forward_Sequence\"        \n",
       "[21] \"SourceSeq\"                \"Random_Loci\"             \n",
       "[23] \"Methyl27_Loci\"            \"UCSC_RefGene_Name\"       \n",
       "[25] \"UCSC_RefGene_Accession\"   \"UCSC_RefGene_Group\"      \n",
       "[27] \"Phantom\"                  \"DMR\"                     \n",
       "[29] \"Enhancer\"                 \"HMM_Island\"              \n",
       "[31] \"Regulatory_Feature_Name\"  \"Regulatory_Feature_Group\"\n",
       "[33] \"DHS\"                     "
      ]
     },
     "metadata": {},
     "output_type": "display_data"
    },
    {
     "data": {
      "text/plain": [
       "DataFrame with 6 rows and 5 columns\n",
       "                   chr       pos      strand UCSC_RefGene_Name\n",
       "           <character> <integer> <character>       <character>\n",
       "cg13869341        chr1     15865           +            WASH5P\n",
       "cg14008030        chr1     18827           +            WASH5P\n",
       "cg12045430        chr1     29407           +            WASH5P\n",
       "cg20826792        chr1     29425           +            WASH5P\n",
       "cg00381604        chr1     29435           +            WASH5P\n",
       "cg20253340        chr1     68849           +             OR4F5\n",
       "           UCSC_RefGene_Group\n",
       "                  <character>\n",
       "cg13869341               Body\n",
       "cg14008030               Body\n",
       "cg12045430             TSS200\n",
       "cg20826792             TSS200\n",
       "cg00381604             TSS200\n",
       "cg20253340            TSS1500"
      ]
     },
     "metadata": {},
     "output_type": "display_data"
    }
   ],
   "source": [
    "# 5) Annotate probe sites\n",
    "#    Get all available annotation information for probe sites\n",
    "rc.ann <- getAnnotation(object=rc, what=\"everything\", lociNames=NULL, orderByLocation=FALSE, dropNonMapping=TRUE)\n",
    "#    There are too many columns in the Table but not all this information is needed\n",
    "colnames(rc.ann)\n",
    "#    Keep only UCSC genic region annotations\n",
    "rc.ann.short <- rc.ann[,c(\"chr\",\"pos\",\"strand\",\"UCSC_RefGene_Name\",\"UCSC_RefGene_Group\")]\n",
    "head(rc.ann.short, n=6)"
   ]
  },
  {
   "cell_type": "code",
   "execution_count": 45,
   "id": "0ec0714b-8a74-4c06-9e9d-752190199e9d",
   "metadata": {},
   "outputs": [
    {
     "name": "stderr",
     "output_type": "stream",
     "text": [
      "Removing intercept from test coefficients\n",
      "\n"
     ]
    },
    {
     "data": {
      "text/html": [
       "<table class=\"dataframe\">\n",
       "<caption>A data.frame: 6 × 6</caption>\n",
       "<thead>\n",
       "\t<tr><th></th><th scope=col>logFC</th><th scope=col>AveExpr</th><th scope=col>t</th><th scope=col>P.Value</th><th scope=col>adj.P.Val</th><th scope=col>B</th></tr>\n",
       "\t<tr><th></th><th scope=col>&lt;dbl&gt;</th><th scope=col>&lt;dbl&gt;</th><th scope=col>&lt;dbl&gt;</th><th scope=col>&lt;dbl&gt;</th><th scope=col>&lt;dbl&gt;</th><th scope=col>&lt;dbl&gt;</th></tr>\n",
       "</thead>\n",
       "<tbody>\n",
       "\t<tr><th scope=row>cg16794576</th><td>0.6966775</td><td>0.3914830</td><td>49.55096</td><td>3.043191e-11</td><td>1.419350e-05</td><td>12.52419</td></tr>\n",
       "\t<tr><th scope=row>cg20527270</th><td>0.7017513</td><td>0.4169308</td><td>44.66579</td><td>6.962913e-11</td><td>1.623758e-05</td><td>12.28236</td></tr>\n",
       "\t<tr><th scope=row>cg23511432</th><td>0.6425535</td><td>0.3352367</td><td>40.69316</td><td>1.462705e-10</td><td>2.055469e-05</td><td>12.03261</td></tr>\n",
       "\t<tr><th scope=row>cg19670286</th><td>0.5564508</td><td>0.2916982</td><td>38.10764</td><td>2.467104e-10</td><td>2.055469e-05</td><td>11.83671</td></tr>\n",
       "\t<tr><th scope=row>cg14855334</th><td>0.5158862</td><td>0.2863200</td><td>36.94184</td><td>3.159305e-10</td><td>2.055469e-05</td><td>11.73801</td></tr>\n",
       "\t<tr><th scope=row>cg08244085</th><td>0.6487689</td><td>0.3823370</td><td>36.87311</td><td>3.206473e-10</td><td>2.055469e-05</td><td>11.73197</td></tr>\n",
       "</tbody>\n",
       "</table>\n"
      ],
      "text/latex": [
       "A data.frame: 6 × 6\n",
       "\\begin{tabular}{r|llllll}\n",
       "  & logFC & AveExpr & t & P.Value & adj.P.Val & B\\\\\n",
       "  & <dbl> & <dbl> & <dbl> & <dbl> & <dbl> & <dbl>\\\\\n",
       "\\hline\n",
       "\tcg16794576 & 0.6966775 & 0.3914830 & 49.55096 & 3.043191e-11 & 1.419350e-05 & 12.52419\\\\\n",
       "\tcg20527270 & 0.7017513 & 0.4169308 & 44.66579 & 6.962913e-11 & 1.623758e-05 & 12.28236\\\\\n",
       "\tcg23511432 & 0.6425535 & 0.3352367 & 40.69316 & 1.462705e-10 & 2.055469e-05 & 12.03261\\\\\n",
       "\tcg19670286 & 0.5564508 & 0.2916982 & 38.10764 & 2.467104e-10 & 2.055469e-05 & 11.83671\\\\\n",
       "\tcg14855334 & 0.5158862 & 0.2863200 & 36.94184 & 3.159305e-10 & 2.055469e-05 & 11.73801\\\\\n",
       "\tcg08244085 & 0.6487689 & 0.3823370 & 36.87311 & 3.206473e-10 & 2.055469e-05 & 11.73197\\\\\n",
       "\\end{tabular}\n"
      ],
      "text/markdown": [
       "\n",
       "A data.frame: 6 × 6\n",
       "\n",
       "| <!--/--> | logFC &lt;dbl&gt; | AveExpr &lt;dbl&gt; | t &lt;dbl&gt; | P.Value &lt;dbl&gt; | adj.P.Val &lt;dbl&gt; | B &lt;dbl&gt; |\n",
       "|---|---|---|---|---|---|---|\n",
       "| cg16794576 | 0.6966775 | 0.3914830 | 49.55096 | 3.043191e-11 | 1.419350e-05 | 12.52419 |\n",
       "| cg20527270 | 0.7017513 | 0.4169308 | 44.66579 | 6.962913e-11 | 1.623758e-05 | 12.28236 |\n",
       "| cg23511432 | 0.6425535 | 0.3352367 | 40.69316 | 1.462705e-10 | 2.055469e-05 | 12.03261 |\n",
       "| cg19670286 | 0.5564508 | 0.2916982 | 38.10764 | 2.467104e-10 | 2.055469e-05 | 11.83671 |\n",
       "| cg14855334 | 0.5158862 | 0.2863200 | 36.94184 | 3.159305e-10 | 2.055469e-05 | 11.73801 |\n",
       "| cg08244085 | 0.6487689 | 0.3823370 | 36.87311 | 3.206473e-10 | 2.055469e-05 | 11.73197 |\n",
       "\n"
      ],
      "text/plain": [
       "           logFC     AveExpr   t        P.Value      adj.P.Val    B       \n",
       "cg16794576 0.6966775 0.3914830 49.55096 3.043191e-11 1.419350e-05 12.52419\n",
       "cg20527270 0.7017513 0.4169308 44.66579 6.962913e-11 1.623758e-05 12.28236\n",
       "cg23511432 0.6425535 0.3352367 40.69316 1.462705e-10 2.055469e-05 12.03261\n",
       "cg19670286 0.5564508 0.2916982 38.10764 2.467104e-10 2.055469e-05 11.83671\n",
       "cg14855334 0.5158862 0.2863200 36.94184 3.159305e-10 2.055469e-05 11.73801\n",
       "cg08244085 0.6487689 0.3823370 36.87311 3.206473e-10 2.055469e-05 11.73197"
      ]
     },
     "metadata": {},
     "output_type": "display_data"
    }
   ],
   "source": [
    "# 6) Perform differential methylation (DM) analysis using package limma\n",
    "#    Get probe-level methylation ratio values (Beta)\n",
    "probeBeta <- getBeta(rc)\n",
    "design <- model.matrix(~group.labels)\n",
    "fit <- lmFit(log2(1+probeBeta), design=design)\n",
    "fit <- eBayes(fit)\n",
    "limma.results <- topTable(fit, n=nrow(fit))\n",
    "head(limma.results, n=6)"
   ]
  },
  {
   "cell_type": "code",
   "execution_count": 46,
   "id": "91356d03-a2a9-45e2-8d0b-d811dd7a1702",
   "metadata": {},
   "outputs": [
    {
     "name": "stdout",
     "output_type": "stream",
     "text": [
      "[1] There are 839 significant probes\n"
     ]
    },
    {
     "data": {
      "text/html": [
       "<table class=\"dataframe\">\n",
       "<caption>A data.frame: 4 × 11</caption>\n",
       "<thead>\n",
       "\t<tr><th></th><th scope=col>logFC</th><th scope=col>AveExpr</th><th scope=col>t</th><th scope=col>P.Value</th><th scope=col>adj.P.Val</th><th scope=col>B</th><th scope=col>chr</th><th scope=col>pos</th><th scope=col>strand</th><th scope=col>UCSC_RefGene_Name</th><th scope=col>UCSC_RefGene_Group</th></tr>\n",
       "\t<tr><th></th><th scope=col>&lt;dbl&gt;</th><th scope=col>&lt;dbl&gt;</th><th scope=col>&lt;dbl&gt;</th><th scope=col>&lt;dbl&gt;</th><th scope=col>&lt;dbl&gt;</th><th scope=col>&lt;dbl&gt;</th><th scope=col>&lt;chr&gt;</th><th scope=col>&lt;int&gt;</th><th scope=col>&lt;chr&gt;</th><th scope=col>&lt;chr&gt;</th><th scope=col>&lt;chr&gt;</th></tr>\n",
       "</thead>\n",
       "<tbody>\n",
       "\t<tr><th scope=row>cg16794576</th><td>0.6966775</td><td>0.3914830</td><td>49.55096</td><td>3.043191e-11</td><td>1.419350e-05</td><td>12.52419</td><td>chr6</td><td> 29974971</td><td>+</td><td>HLA-J;NCRNA00171</td><td>Body;Body    </td></tr>\n",
       "\t<tr><th scope=row>cg20527270</th><td>0.7017513</td><td>0.4169308</td><td>44.66579</td><td>6.962913e-11</td><td>1.623758e-05</td><td>12.28236</td><td>chr8</td><td> 49468688</td><td>-</td><td>                </td><td>             </td></tr>\n",
       "\t<tr><th scope=row>cg23511432</th><td>0.6425535</td><td>0.3352367</td><td>40.69316</td><td>1.462705e-10</td><td>2.055469e-05</td><td>12.03261</td><td>chr5</td><td>137610255</td><td>+</td><td>GFRA3           </td><td>TSS200       </td></tr>\n",
       "\t<tr><th scope=row>cg19670286</th><td>0.5564508</td><td>0.2916982</td><td>38.10764</td><td>2.467104e-10</td><td>2.055469e-05</td><td>11.83671</td><td>chr5</td><td>137610127</td><td>-</td><td>GFRA3;GFRA3     </td><td>1stExon;5'UTR</td></tr>\n",
       "</tbody>\n",
       "</table>\n"
      ],
      "text/latex": [
       "A data.frame: 4 × 11\n",
       "\\begin{tabular}{r|lllllllllll}\n",
       "  & logFC & AveExpr & t & P.Value & adj.P.Val & B & chr & pos & strand & UCSC\\_RefGene\\_Name & UCSC\\_RefGene\\_Group\\\\\n",
       "  & <dbl> & <dbl> & <dbl> & <dbl> & <dbl> & <dbl> & <chr> & <int> & <chr> & <chr> & <chr>\\\\\n",
       "\\hline\n",
       "\tcg16794576 & 0.6966775 & 0.3914830 & 49.55096 & 3.043191e-11 & 1.419350e-05 & 12.52419 & chr6 &  29974971 & + & HLA-J;NCRNA00171 & Body;Body    \\\\\n",
       "\tcg20527270 & 0.7017513 & 0.4169308 & 44.66579 & 6.962913e-11 & 1.623758e-05 & 12.28236 & chr8 &  49468688 & - &                  &              \\\\\n",
       "\tcg23511432 & 0.6425535 & 0.3352367 & 40.69316 & 1.462705e-10 & 2.055469e-05 & 12.03261 & chr5 & 137610255 & + & GFRA3            & TSS200       \\\\\n",
       "\tcg19670286 & 0.5564508 & 0.2916982 & 38.10764 & 2.467104e-10 & 2.055469e-05 & 11.83671 & chr5 & 137610127 & - & GFRA3;GFRA3      & 1stExon;5'UTR\\\\\n",
       "\\end{tabular}\n"
      ],
      "text/markdown": [
       "\n",
       "A data.frame: 4 × 11\n",
       "\n",
       "| <!--/--> | logFC &lt;dbl&gt; | AveExpr &lt;dbl&gt; | t &lt;dbl&gt; | P.Value &lt;dbl&gt; | adj.P.Val &lt;dbl&gt; | B &lt;dbl&gt; | chr &lt;chr&gt; | pos &lt;int&gt; | strand &lt;chr&gt; | UCSC_RefGene_Name &lt;chr&gt; | UCSC_RefGene_Group &lt;chr&gt; |\n",
       "|---|---|---|---|---|---|---|---|---|---|---|---|\n",
       "| cg16794576 | 0.6966775 | 0.3914830 | 49.55096 | 3.043191e-11 | 1.419350e-05 | 12.52419 | chr6 |  29974971 | + | HLA-J;NCRNA00171 | Body;Body     |\n",
       "| cg20527270 | 0.7017513 | 0.4169308 | 44.66579 | 6.962913e-11 | 1.623758e-05 | 12.28236 | chr8 |  49468688 | - | <!----> | <!----> |\n",
       "| cg23511432 | 0.6425535 | 0.3352367 | 40.69316 | 1.462705e-10 | 2.055469e-05 | 12.03261 | chr5 | 137610255 | + | GFRA3            | TSS200        |\n",
       "| cg19670286 | 0.5564508 | 0.2916982 | 38.10764 | 2.467104e-10 | 2.055469e-05 | 11.83671 | chr5 | 137610127 | - | GFRA3;GFRA3      | 1stExon;5'UTR |\n",
       "\n"
      ],
      "text/plain": [
       "           logFC     AveExpr   t        P.Value      adj.P.Val    B        chr \n",
       "cg16794576 0.6966775 0.3914830 49.55096 3.043191e-11 1.419350e-05 12.52419 chr6\n",
       "cg20527270 0.7017513 0.4169308 44.66579 6.962913e-11 1.623758e-05 12.28236 chr8\n",
       "cg23511432 0.6425535 0.3352367 40.69316 1.462705e-10 2.055469e-05 12.03261 chr5\n",
       "cg19670286 0.5564508 0.2916982 38.10764 2.467104e-10 2.055469e-05 11.83671 chr5\n",
       "           pos       strand UCSC_RefGene_Name UCSC_RefGene_Group\n",
       "cg16794576  29974971 +      HLA-J;NCRNA00171  Body;Body         \n",
       "cg20527270  49468688 -                                          \n",
       "cg23511432 137610255 +      GFRA3             TSS200            \n",
       "cg19670286 137610127 -      GFRA3;GFRA3       1stExon;5'UTR     "
      ]
     },
     "metadata": {},
     "output_type": "display_data"
    }
   ],
   "source": [
    "# 7) Extract an annotated results Table of significant probes only and save it\n",
    "#    Probes with significant DM are those that meet assigned thresholds (small adjusted p-value and large absolute fold-change) \n",
    "sig <- which((limma.results$adj.P.Val < 0.001) & (abs(limma.results$logFC) > 0.4))\n",
    "print(paste(\"There are \", length(sig), \" significant probes\", sep=\"\"), quote=FALSE)\n",
    "#    Extract significant probes from the limma results Table and add probe annotations\n",
    "limma.sig.ann <- cbind(limma.results[sig,], rc.ann.short[rownames(limma.results[sig,]),])\n",
    "#    Create a dataframe object and save results as a csv file \n",
    "df <- as.data.frame(limma.sig.ann)\n",
    "write.csv(df, file=\"limma_significant_probes.csv\")\n",
    "head(df, n=4)"
   ]
  },
  {
   "cell_type": "code",
   "execution_count": 47,
   "id": "68d1e688-7197-41c9-9594-8fd3be0bb17e",
   "metadata": {},
   "outputs": [
    {
     "data": {
      "text/html": [
       "'APC;APC;APC'"
      ],
      "text/latex": [
       "'APC;APC;APC'"
      ],
      "text/markdown": [
       "'APC;APC;APC'"
      ],
      "text/plain": [
       "[1] \"APC;APC;APC\""
      ]
     },
     "metadata": {},
     "output_type": "display_data"
    },
    {
     "data": {
      "text/html": [
       "9"
      ],
      "text/latex": [
       "9"
      ],
      "text/markdown": [
       "9"
      ],
      "text/plain": [
       "[1] 9"
      ]
     },
     "metadata": {},
     "output_type": "display_data"
    },
    {
     "data": {
      "text/html": [
       "<table class=\"dataframe\">\n",
       "<caption>A data.frame: 15 × 11</caption>\n",
       "<thead>\n",
       "\t<tr><th></th><th scope=col>logFC</th><th scope=col>AveExpr</th><th scope=col>t</th><th scope=col>P.Value</th><th scope=col>adj.P.Val</th><th scope=col>B</th><th scope=col>chr</th><th scope=col>pos</th><th scope=col>strand</th><th scope=col>UCSC_RefGene_Name</th><th scope=col>UCSC_RefGene_Group</th></tr>\n",
       "\t<tr><th></th><th scope=col>&lt;dbl&gt;</th><th scope=col>&lt;dbl&gt;</th><th scope=col>&lt;dbl&gt;</th><th scope=col>&lt;dbl&gt;</th><th scope=col>&lt;dbl&gt;</th><th scope=col>&lt;dbl&gt;</th><th scope=col>&lt;chr&gt;</th><th scope=col>&lt;int&gt;</th><th scope=col>&lt;chr&gt;</th><th scope=col>&lt;chr&gt;</th><th scope=col>&lt;chr&gt;</th></tr>\n",
       "</thead>\n",
       "<tbody>\n",
       "\t<tr><th scope=row>cg00577935</th><td>0.5562143</td><td>0.3205442</td><td>25.42717</td><td>6.128075e-09</td><td>6.739460e-05</td><td>10.232722</td><td>chr5</td><td>112073348</td><td>-</td><td>APC;APC;APC        </td><td>TSS1500;5'UTR;TSS1500            </td></tr>\n",
       "\t<tr><th scope=row>cg03667968</th><td>0.7250064</td><td>0.3843661</td><td>23.96448</td><td>9.789720e-09</td><td>6.922009e-05</td><td> 9.939108</td><td>chr5</td><td>112073438</td><td>-</td><td>APC;APC;APC        </td><td>TSS200;TSS200;5'UTR              </td></tr>\n",
       "\t<tr><th scope=row>cg08571859</th><td>0.5895476</td><td>0.3478463</td><td>23.37897</td><td>1.190217e-08</td><td>7.401597e-05</td><td> 9.812192</td><td>chr5</td><td>112073350</td><td>-</td><td>APC;APC;APC        </td><td>TSS1500;5'UTR;TSS1500            </td></tr>\n",
       "\t<tr><th scope=row>cg21634602</th><td>0.6140667</td><td>0.4128732</td><td>20.41553</td><td>3.463826e-08</td><td>1.196693e-04</td><td> 9.073192</td><td>chr5</td><td>112073570</td><td>-</td><td>APC;APC;APC;APC;APC</td><td>1stExon;5'UTR;1stExon;5'UTR;5'UTR</td></tr>\n",
       "\t<tr><th scope=row>cg22035501</th><td>0.6767323</td><td>0.3780227</td><td>20.26747</td><td>3.667872e-08</td><td>1.204679e-04</td><td> 9.031497</td><td>chr5</td><td>112073398</td><td>-</td><td>APC;APC;APC        </td><td>TSS200;TSS200;5'UTR              </td></tr>\n",
       "\t<tr><th scope=row>cg20311501</th><td>0.5778933</td><td>0.4592795</td><td>19.79434</td><td>4.416118e-08</td><td>1.279810e-04</td><td> 8.894839</td><td>chr5</td><td>112073502</td><td>-</td><td>APC;APC;APC        </td><td>TSS200;TSS200;5'UTR              </td></tr>\n",
       "\t<tr><th scope=row>cg16970232</th><td>0.6217628</td><td>0.3990060</td><td>19.19386</td><td>5.624543e-08</td><td>1.427478e-04</td><td> 8.713570</td><td>chr5</td><td>112073433</td><td>-</td><td>APC;APC;APC        </td><td>TSS200;TSS200;5'UTR              </td></tr>\n",
       "\t<tr><th scope=row>cg23938220</th><td>0.5957299</td><td>0.3266027</td><td>18.95748</td><td>6.198834e-08</td><td>1.452195e-04</td><td> 8.639699</td><td>chr5</td><td>112073538</td><td>+</td><td>APC;APC;APC        </td><td>TSS200;TSS200;5'UTR              </td></tr>\n",
       "\t<tr><th scope=row>cg14479889</th><td>0.6267209</td><td>0.3733991</td><td>18.89915</td><td>6.350490e-08</td><td>1.459055e-04</td><td> 8.621244</td><td>chr5</td><td>112073426</td><td>-</td><td>APC;APC;APC        </td><td>TSS200;TSS200;5'UTR              </td></tr>\n",
       "\t<tr><th scope=row>cg14511739</th><td>0.6323725</td><td>0.3837386</td><td>16.66143</td><td>1.701664e-07</td><td>2.393152e-04</td><td> 7.839574</td><td>chr5</td><td>112073373</td><td>-</td><td>APC;APC;APC        </td><td>TSS200;TSS200;5'UTR              </td></tr>\n",
       "\t<tr><th scope=row>cg02511809</th><td>0.5541877</td><td>0.4328240</td><td>16.36682</td><td>1.955558e-07</td><td>2.554836e-04</td><td> 7.724899</td><td>chr5</td><td>112073544</td><td>+</td><td>APC;APC;APC        </td><td>TSS200;TSS200;5'UTR              </td></tr>\n",
       "\t<tr><th scope=row>cg12534150</th><td>0.5990901</td><td>0.3413827</td><td>14.56757</td><td>4.831161e-07</td><td>4.148057e-04</td><td> 6.954767</td><td>chr5</td><td>112073613</td><td>-</td><td>APC;APC;APC;APC;APC</td><td>1stExon;5'UTR;1stExon;5'UTR;5'UTR</td></tr>\n",
       "\t<tr><th scope=row>cg11613015</th><td>0.6540094</td><td>0.3498963</td><td>14.23403</td><td>5.778784e-07</td><td>4.547249e-04</td><td> 6.797517</td><td>chr5</td><td>112073406</td><td>-</td><td>APC;APC;APC        </td><td>TSS200;TSS200;5'UTR              </td></tr>\n",
       "\t<tr><th scope=row>cg15020645</th><td>0.4864551</td><td>0.3210122</td><td>13.21516</td><td>1.024241e-06</td><td>6.260920e-04</td><td> 6.285353</td><td>chr5</td><td>112073769</td><td>+</td><td>APC;APC;APC        </td><td>5'UTR;5'UTR;5'UTR                </td></tr>\n",
       "\t<tr><th scope=row>cg24332422</th><td>0.4312369</td><td>0.3373807</td><td>12.90647</td><td>1.228037e-06</td><td>7.019104e-04</td><td> 6.120046</td><td>chr5</td><td>112073686</td><td>+</td><td>APC;APC;APC        </td><td>5'UTR;5'UTR;5'UTR                </td></tr>\n",
       "</tbody>\n",
       "</table>\n"
      ],
      "text/latex": [
       "A data.frame: 15 × 11\n",
       "\\begin{tabular}{r|lllllllllll}\n",
       "  & logFC & AveExpr & t & P.Value & adj.P.Val & B & chr & pos & strand & UCSC\\_RefGene\\_Name & UCSC\\_RefGene\\_Group\\\\\n",
       "  & <dbl> & <dbl> & <dbl> & <dbl> & <dbl> & <dbl> & <chr> & <int> & <chr> & <chr> & <chr>\\\\\n",
       "\\hline\n",
       "\tcg00577935 & 0.5562143 & 0.3205442 & 25.42717 & 6.128075e-09 & 6.739460e-05 & 10.232722 & chr5 & 112073348 & - & APC;APC;APC         & TSS1500;5'UTR;TSS1500            \\\\\n",
       "\tcg03667968 & 0.7250064 & 0.3843661 & 23.96448 & 9.789720e-09 & 6.922009e-05 &  9.939108 & chr5 & 112073438 & - & APC;APC;APC         & TSS200;TSS200;5'UTR              \\\\\n",
       "\tcg08571859 & 0.5895476 & 0.3478463 & 23.37897 & 1.190217e-08 & 7.401597e-05 &  9.812192 & chr5 & 112073350 & - & APC;APC;APC         & TSS1500;5'UTR;TSS1500            \\\\\n",
       "\tcg21634602 & 0.6140667 & 0.4128732 & 20.41553 & 3.463826e-08 & 1.196693e-04 &  9.073192 & chr5 & 112073570 & - & APC;APC;APC;APC;APC & 1stExon;5'UTR;1stExon;5'UTR;5'UTR\\\\\n",
       "\tcg22035501 & 0.6767323 & 0.3780227 & 20.26747 & 3.667872e-08 & 1.204679e-04 &  9.031497 & chr5 & 112073398 & - & APC;APC;APC         & TSS200;TSS200;5'UTR              \\\\\n",
       "\tcg20311501 & 0.5778933 & 0.4592795 & 19.79434 & 4.416118e-08 & 1.279810e-04 &  8.894839 & chr5 & 112073502 & - & APC;APC;APC         & TSS200;TSS200;5'UTR              \\\\\n",
       "\tcg16970232 & 0.6217628 & 0.3990060 & 19.19386 & 5.624543e-08 & 1.427478e-04 &  8.713570 & chr5 & 112073433 & - & APC;APC;APC         & TSS200;TSS200;5'UTR              \\\\\n",
       "\tcg23938220 & 0.5957299 & 0.3266027 & 18.95748 & 6.198834e-08 & 1.452195e-04 &  8.639699 & chr5 & 112073538 & + & APC;APC;APC         & TSS200;TSS200;5'UTR              \\\\\n",
       "\tcg14479889 & 0.6267209 & 0.3733991 & 18.89915 & 6.350490e-08 & 1.459055e-04 &  8.621244 & chr5 & 112073426 & - & APC;APC;APC         & TSS200;TSS200;5'UTR              \\\\\n",
       "\tcg14511739 & 0.6323725 & 0.3837386 & 16.66143 & 1.701664e-07 & 2.393152e-04 &  7.839574 & chr5 & 112073373 & - & APC;APC;APC         & TSS200;TSS200;5'UTR              \\\\\n",
       "\tcg02511809 & 0.5541877 & 0.4328240 & 16.36682 & 1.955558e-07 & 2.554836e-04 &  7.724899 & chr5 & 112073544 & + & APC;APC;APC         & TSS200;TSS200;5'UTR              \\\\\n",
       "\tcg12534150 & 0.5990901 & 0.3413827 & 14.56757 & 4.831161e-07 & 4.148057e-04 &  6.954767 & chr5 & 112073613 & - & APC;APC;APC;APC;APC & 1stExon;5'UTR;1stExon;5'UTR;5'UTR\\\\\n",
       "\tcg11613015 & 0.6540094 & 0.3498963 & 14.23403 & 5.778784e-07 & 4.547249e-04 &  6.797517 & chr5 & 112073406 & - & APC;APC;APC         & TSS200;TSS200;5'UTR              \\\\\n",
       "\tcg15020645 & 0.4864551 & 0.3210122 & 13.21516 & 1.024241e-06 & 6.260920e-04 &  6.285353 & chr5 & 112073769 & + & APC;APC;APC         & 5'UTR;5'UTR;5'UTR                \\\\\n",
       "\tcg24332422 & 0.4312369 & 0.3373807 & 12.90647 & 1.228037e-06 & 7.019104e-04 &  6.120046 & chr5 & 112073686 & + & APC;APC;APC         & 5'UTR;5'UTR;5'UTR                \\\\\n",
       "\\end{tabular}\n"
      ],
      "text/markdown": [
       "\n",
       "A data.frame: 15 × 11\n",
       "\n",
       "| <!--/--> | logFC &lt;dbl&gt; | AveExpr &lt;dbl&gt; | t &lt;dbl&gt; | P.Value &lt;dbl&gt; | adj.P.Val &lt;dbl&gt; | B &lt;dbl&gt; | chr &lt;chr&gt; | pos &lt;int&gt; | strand &lt;chr&gt; | UCSC_RefGene_Name &lt;chr&gt; | UCSC_RefGene_Group &lt;chr&gt; |\n",
       "|---|---|---|---|---|---|---|---|---|---|---|---|\n",
       "| cg00577935 | 0.5562143 | 0.3205442 | 25.42717 | 6.128075e-09 | 6.739460e-05 | 10.232722 | chr5 | 112073348 | - | APC;APC;APC         | TSS1500;5'UTR;TSS1500             |\n",
       "| cg03667968 | 0.7250064 | 0.3843661 | 23.96448 | 9.789720e-09 | 6.922009e-05 |  9.939108 | chr5 | 112073438 | - | APC;APC;APC         | TSS200;TSS200;5'UTR               |\n",
       "| cg08571859 | 0.5895476 | 0.3478463 | 23.37897 | 1.190217e-08 | 7.401597e-05 |  9.812192 | chr5 | 112073350 | - | APC;APC;APC         | TSS1500;5'UTR;TSS1500             |\n",
       "| cg21634602 | 0.6140667 | 0.4128732 | 20.41553 | 3.463826e-08 | 1.196693e-04 |  9.073192 | chr5 | 112073570 | - | APC;APC;APC;APC;APC | 1stExon;5'UTR;1stExon;5'UTR;5'UTR |\n",
       "| cg22035501 | 0.6767323 | 0.3780227 | 20.26747 | 3.667872e-08 | 1.204679e-04 |  9.031497 | chr5 | 112073398 | - | APC;APC;APC         | TSS200;TSS200;5'UTR               |\n",
       "| cg20311501 | 0.5778933 | 0.4592795 | 19.79434 | 4.416118e-08 | 1.279810e-04 |  8.894839 | chr5 | 112073502 | - | APC;APC;APC         | TSS200;TSS200;5'UTR               |\n",
       "| cg16970232 | 0.6217628 | 0.3990060 | 19.19386 | 5.624543e-08 | 1.427478e-04 |  8.713570 | chr5 | 112073433 | - | APC;APC;APC         | TSS200;TSS200;5'UTR               |\n",
       "| cg23938220 | 0.5957299 | 0.3266027 | 18.95748 | 6.198834e-08 | 1.452195e-04 |  8.639699 | chr5 | 112073538 | + | APC;APC;APC         | TSS200;TSS200;5'UTR               |\n",
       "| cg14479889 | 0.6267209 | 0.3733991 | 18.89915 | 6.350490e-08 | 1.459055e-04 |  8.621244 | chr5 | 112073426 | - | APC;APC;APC         | TSS200;TSS200;5'UTR               |\n",
       "| cg14511739 | 0.6323725 | 0.3837386 | 16.66143 | 1.701664e-07 | 2.393152e-04 |  7.839574 | chr5 | 112073373 | - | APC;APC;APC         | TSS200;TSS200;5'UTR               |\n",
       "| cg02511809 | 0.5541877 | 0.4328240 | 16.36682 | 1.955558e-07 | 2.554836e-04 |  7.724899 | chr5 | 112073544 | + | APC;APC;APC         | TSS200;TSS200;5'UTR               |\n",
       "| cg12534150 | 0.5990901 | 0.3413827 | 14.56757 | 4.831161e-07 | 4.148057e-04 |  6.954767 | chr5 | 112073613 | - | APC;APC;APC;APC;APC | 1stExon;5'UTR;1stExon;5'UTR;5'UTR |\n",
       "| cg11613015 | 0.6540094 | 0.3498963 | 14.23403 | 5.778784e-07 | 4.547249e-04 |  6.797517 | chr5 | 112073406 | - | APC;APC;APC         | TSS200;TSS200;5'UTR               |\n",
       "| cg15020645 | 0.4864551 | 0.3210122 | 13.21516 | 1.024241e-06 | 6.260920e-04 |  6.285353 | chr5 | 112073769 | + | APC;APC;APC         | 5'UTR;5'UTR;5'UTR                 |\n",
       "| cg24332422 | 0.4312369 | 0.3373807 | 12.90647 | 1.228037e-06 | 7.019104e-04 |  6.120046 | chr5 | 112073686 | + | APC;APC;APC         | 5'UTR;5'UTR;5'UTR                 |\n",
       "\n"
      ],
      "text/plain": [
       "           logFC     AveExpr   t        P.Value      adj.P.Val    B        \n",
       "cg00577935 0.5562143 0.3205442 25.42717 6.128075e-09 6.739460e-05 10.232722\n",
       "cg03667968 0.7250064 0.3843661 23.96448 9.789720e-09 6.922009e-05  9.939108\n",
       "cg08571859 0.5895476 0.3478463 23.37897 1.190217e-08 7.401597e-05  9.812192\n",
       "cg21634602 0.6140667 0.4128732 20.41553 3.463826e-08 1.196693e-04  9.073192\n",
       "cg22035501 0.6767323 0.3780227 20.26747 3.667872e-08 1.204679e-04  9.031497\n",
       "cg20311501 0.5778933 0.4592795 19.79434 4.416118e-08 1.279810e-04  8.894839\n",
       "cg16970232 0.6217628 0.3990060 19.19386 5.624543e-08 1.427478e-04  8.713570\n",
       "cg23938220 0.5957299 0.3266027 18.95748 6.198834e-08 1.452195e-04  8.639699\n",
       "cg14479889 0.6267209 0.3733991 18.89915 6.350490e-08 1.459055e-04  8.621244\n",
       "cg14511739 0.6323725 0.3837386 16.66143 1.701664e-07 2.393152e-04  7.839574\n",
       "cg02511809 0.5541877 0.4328240 16.36682 1.955558e-07 2.554836e-04  7.724899\n",
       "cg12534150 0.5990901 0.3413827 14.56757 4.831161e-07 4.148057e-04  6.954767\n",
       "cg11613015 0.6540094 0.3498963 14.23403 5.778784e-07 4.547249e-04  6.797517\n",
       "cg15020645 0.4864551 0.3210122 13.21516 1.024241e-06 6.260920e-04  6.285353\n",
       "cg24332422 0.4312369 0.3373807 12.90647 1.228037e-06 7.019104e-04  6.120046\n",
       "           chr  pos       strand UCSC_RefGene_Name  \n",
       "cg00577935 chr5 112073348 -      APC;APC;APC        \n",
       "cg03667968 chr5 112073438 -      APC;APC;APC        \n",
       "cg08571859 chr5 112073350 -      APC;APC;APC        \n",
       "cg21634602 chr5 112073570 -      APC;APC;APC;APC;APC\n",
       "cg22035501 chr5 112073398 -      APC;APC;APC        \n",
       "cg20311501 chr5 112073502 -      APC;APC;APC        \n",
       "cg16970232 chr5 112073433 -      APC;APC;APC        \n",
       "cg23938220 chr5 112073538 +      APC;APC;APC        \n",
       "cg14479889 chr5 112073426 -      APC;APC;APC        \n",
       "cg14511739 chr5 112073373 -      APC;APC;APC        \n",
       "cg02511809 chr5 112073544 +      APC;APC;APC        \n",
       "cg12534150 chr5 112073613 -      APC;APC;APC;APC;APC\n",
       "cg11613015 chr5 112073406 -      APC;APC;APC        \n",
       "cg15020645 chr5 112073769 +      APC;APC;APC        \n",
       "cg24332422 chr5 112073686 +      APC;APC;APC        \n",
       "           UCSC_RefGene_Group               \n",
       "cg00577935 TSS1500;5'UTR;TSS1500            \n",
       "cg03667968 TSS200;TSS200;5'UTR              \n",
       "cg08571859 TSS1500;5'UTR;TSS1500            \n",
       "cg21634602 1stExon;5'UTR;1stExon;5'UTR;5'UTR\n",
       "cg22035501 TSS200;TSS200;5'UTR              \n",
       "cg20311501 TSS200;TSS200;5'UTR              \n",
       "cg16970232 TSS200;TSS200;5'UTR              \n",
       "cg23938220 TSS200;TSS200;5'UTR              \n",
       "cg14479889 TSS200;TSS200;5'UTR              \n",
       "cg14511739 TSS200;TSS200;5'UTR              \n",
       "cg02511809 TSS200;TSS200;5'UTR              \n",
       "cg12534150 1stExon;5'UTR;1stExon;5'UTR;5'UTR\n",
       "cg11613015 TSS200;TSS200;5'UTR              \n",
       "cg15020645 5'UTR;5'UTR;5'UTR                \n",
       "cg24332422 5'UTR;5'UTR;5'UTR                "
      ]
     },
     "metadata": {},
     "output_type": "display_data"
    },
    {
     "data": {
      "text/html": [
       "<table class=\"dataframe\">\n",
       "<caption>A data.frame: 9 × 11</caption>\n",
       "<thead>\n",
       "\t<tr><th></th><th scope=col>logFC</th><th scope=col>AveExpr</th><th scope=col>t</th><th scope=col>P.Value</th><th scope=col>adj.P.Val</th><th scope=col>B</th><th scope=col>chr</th><th scope=col>pos</th><th scope=col>strand</th><th scope=col>UCSC_RefGene_Name</th><th scope=col>UCSC_RefGene_Group</th></tr>\n",
       "\t<tr><th></th><th scope=col>&lt;dbl&gt;</th><th scope=col>&lt;dbl&gt;</th><th scope=col>&lt;dbl&gt;</th><th scope=col>&lt;dbl&gt;</th><th scope=col>&lt;dbl&gt;</th><th scope=col>&lt;dbl&gt;</th><th scope=col>&lt;chr&gt;</th><th scope=col>&lt;int&gt;</th><th scope=col>&lt;chr&gt;</th><th scope=col>&lt;chr&gt;</th><th scope=col>&lt;chr&gt;</th></tr>\n",
       "</thead>\n",
       "<tbody>\n",
       "\t<tr><th scope=row>cg03667968</th><td>0.7250064</td><td>0.3843661</td><td>23.96448</td><td>9.789720e-09</td><td>6.922009e-05</td><td>9.939108</td><td>chr5</td><td>112073438</td><td>-</td><td>APC;APC;APC</td><td>TSS200;TSS200;5'UTR</td></tr>\n",
       "\t<tr><th scope=row>cg22035501</th><td>0.6767323</td><td>0.3780227</td><td>20.26747</td><td>3.667872e-08</td><td>1.204679e-04</td><td>9.031497</td><td>chr5</td><td>112073398</td><td>-</td><td>APC;APC;APC</td><td>TSS200;TSS200;5'UTR</td></tr>\n",
       "\t<tr><th scope=row>cg20311501</th><td>0.5778933</td><td>0.4592795</td><td>19.79434</td><td>4.416118e-08</td><td>1.279810e-04</td><td>8.894839</td><td>chr5</td><td>112073502</td><td>-</td><td>APC;APC;APC</td><td>TSS200;TSS200;5'UTR</td></tr>\n",
       "\t<tr><th scope=row>cg16970232</th><td>0.6217628</td><td>0.3990060</td><td>19.19386</td><td>5.624543e-08</td><td>1.427478e-04</td><td>8.713570</td><td>chr5</td><td>112073433</td><td>-</td><td>APC;APC;APC</td><td>TSS200;TSS200;5'UTR</td></tr>\n",
       "\t<tr><th scope=row>cg23938220</th><td>0.5957299</td><td>0.3266027</td><td>18.95748</td><td>6.198834e-08</td><td>1.452195e-04</td><td>8.639699</td><td>chr5</td><td>112073538</td><td>+</td><td>APC;APC;APC</td><td>TSS200;TSS200;5'UTR</td></tr>\n",
       "\t<tr><th scope=row>cg14479889</th><td>0.6267209</td><td>0.3733991</td><td>18.89915</td><td>6.350490e-08</td><td>1.459055e-04</td><td>8.621244</td><td>chr5</td><td>112073426</td><td>-</td><td>APC;APC;APC</td><td>TSS200;TSS200;5'UTR</td></tr>\n",
       "\t<tr><th scope=row>cg14511739</th><td>0.6323725</td><td>0.3837386</td><td>16.66143</td><td>1.701664e-07</td><td>2.393152e-04</td><td>7.839574</td><td>chr5</td><td>112073373</td><td>-</td><td>APC;APC;APC</td><td>TSS200;TSS200;5'UTR</td></tr>\n",
       "\t<tr><th scope=row>cg02511809</th><td>0.5541877</td><td>0.4328240</td><td>16.36682</td><td>1.955558e-07</td><td>2.554836e-04</td><td>7.724899</td><td>chr5</td><td>112073544</td><td>+</td><td>APC;APC;APC</td><td>TSS200;TSS200;5'UTR</td></tr>\n",
       "\t<tr><th scope=row>cg11613015</th><td>0.6540094</td><td>0.3498963</td><td>14.23403</td><td>5.778784e-07</td><td>4.547249e-04</td><td>6.797517</td><td>chr5</td><td>112073406</td><td>-</td><td>APC;APC;APC</td><td>TSS200;TSS200;5'UTR</td></tr>\n",
       "</tbody>\n",
       "</table>\n"
      ],
      "text/latex": [
       "A data.frame: 9 × 11\n",
       "\\begin{tabular}{r|lllllllllll}\n",
       "  & logFC & AveExpr & t & P.Value & adj.P.Val & B & chr & pos & strand & UCSC\\_RefGene\\_Name & UCSC\\_RefGene\\_Group\\\\\n",
       "  & <dbl> & <dbl> & <dbl> & <dbl> & <dbl> & <dbl> & <chr> & <int> & <chr> & <chr> & <chr>\\\\\n",
       "\\hline\n",
       "\tcg03667968 & 0.7250064 & 0.3843661 & 23.96448 & 9.789720e-09 & 6.922009e-05 & 9.939108 & chr5 & 112073438 & - & APC;APC;APC & TSS200;TSS200;5'UTR\\\\\n",
       "\tcg22035501 & 0.6767323 & 0.3780227 & 20.26747 & 3.667872e-08 & 1.204679e-04 & 9.031497 & chr5 & 112073398 & - & APC;APC;APC & TSS200;TSS200;5'UTR\\\\\n",
       "\tcg20311501 & 0.5778933 & 0.4592795 & 19.79434 & 4.416118e-08 & 1.279810e-04 & 8.894839 & chr5 & 112073502 & - & APC;APC;APC & TSS200;TSS200;5'UTR\\\\\n",
       "\tcg16970232 & 0.6217628 & 0.3990060 & 19.19386 & 5.624543e-08 & 1.427478e-04 & 8.713570 & chr5 & 112073433 & - & APC;APC;APC & TSS200;TSS200;5'UTR\\\\\n",
       "\tcg23938220 & 0.5957299 & 0.3266027 & 18.95748 & 6.198834e-08 & 1.452195e-04 & 8.639699 & chr5 & 112073538 & + & APC;APC;APC & TSS200;TSS200;5'UTR\\\\\n",
       "\tcg14479889 & 0.6267209 & 0.3733991 & 18.89915 & 6.350490e-08 & 1.459055e-04 & 8.621244 & chr5 & 112073426 & - & APC;APC;APC & TSS200;TSS200;5'UTR\\\\\n",
       "\tcg14511739 & 0.6323725 & 0.3837386 & 16.66143 & 1.701664e-07 & 2.393152e-04 & 7.839574 & chr5 & 112073373 & - & APC;APC;APC & TSS200;TSS200;5'UTR\\\\\n",
       "\tcg02511809 & 0.5541877 & 0.4328240 & 16.36682 & 1.955558e-07 & 2.554836e-04 & 7.724899 & chr5 & 112073544 & + & APC;APC;APC & TSS200;TSS200;5'UTR\\\\\n",
       "\tcg11613015 & 0.6540094 & 0.3498963 & 14.23403 & 5.778784e-07 & 4.547249e-04 & 6.797517 & chr5 & 112073406 & - & APC;APC;APC & TSS200;TSS200;5'UTR\\\\\n",
       "\\end{tabular}\n"
      ],
      "text/markdown": [
       "\n",
       "A data.frame: 9 × 11\n",
       "\n",
       "| <!--/--> | logFC &lt;dbl&gt; | AveExpr &lt;dbl&gt; | t &lt;dbl&gt; | P.Value &lt;dbl&gt; | adj.P.Val &lt;dbl&gt; | B &lt;dbl&gt; | chr &lt;chr&gt; | pos &lt;int&gt; | strand &lt;chr&gt; | UCSC_RefGene_Name &lt;chr&gt; | UCSC_RefGene_Group &lt;chr&gt; |\n",
       "|---|---|---|---|---|---|---|---|---|---|---|---|\n",
       "| cg03667968 | 0.7250064 | 0.3843661 | 23.96448 | 9.789720e-09 | 6.922009e-05 | 9.939108 | chr5 | 112073438 | - | APC;APC;APC | TSS200;TSS200;5'UTR |\n",
       "| cg22035501 | 0.6767323 | 0.3780227 | 20.26747 | 3.667872e-08 | 1.204679e-04 | 9.031497 | chr5 | 112073398 | - | APC;APC;APC | TSS200;TSS200;5'UTR |\n",
       "| cg20311501 | 0.5778933 | 0.4592795 | 19.79434 | 4.416118e-08 | 1.279810e-04 | 8.894839 | chr5 | 112073502 | - | APC;APC;APC | TSS200;TSS200;5'UTR |\n",
       "| cg16970232 | 0.6217628 | 0.3990060 | 19.19386 | 5.624543e-08 | 1.427478e-04 | 8.713570 | chr5 | 112073433 | - | APC;APC;APC | TSS200;TSS200;5'UTR |\n",
       "| cg23938220 | 0.5957299 | 0.3266027 | 18.95748 | 6.198834e-08 | 1.452195e-04 | 8.639699 | chr5 | 112073538 | + | APC;APC;APC | TSS200;TSS200;5'UTR |\n",
       "| cg14479889 | 0.6267209 | 0.3733991 | 18.89915 | 6.350490e-08 | 1.459055e-04 | 8.621244 | chr5 | 112073426 | - | APC;APC;APC | TSS200;TSS200;5'UTR |\n",
       "| cg14511739 | 0.6323725 | 0.3837386 | 16.66143 | 1.701664e-07 | 2.393152e-04 | 7.839574 | chr5 | 112073373 | - | APC;APC;APC | TSS200;TSS200;5'UTR |\n",
       "| cg02511809 | 0.5541877 | 0.4328240 | 16.36682 | 1.955558e-07 | 2.554836e-04 | 7.724899 | chr5 | 112073544 | + | APC;APC;APC | TSS200;TSS200;5'UTR |\n",
       "| cg11613015 | 0.6540094 | 0.3498963 | 14.23403 | 5.778784e-07 | 4.547249e-04 | 6.797517 | chr5 | 112073406 | - | APC;APC;APC | TSS200;TSS200;5'UTR |\n",
       "\n"
      ],
      "text/plain": [
       "           logFC     AveExpr   t        P.Value      adj.P.Val    B        chr \n",
       "cg03667968 0.7250064 0.3843661 23.96448 9.789720e-09 6.922009e-05 9.939108 chr5\n",
       "cg22035501 0.6767323 0.3780227 20.26747 3.667872e-08 1.204679e-04 9.031497 chr5\n",
       "cg20311501 0.5778933 0.4592795 19.79434 4.416118e-08 1.279810e-04 8.894839 chr5\n",
       "cg16970232 0.6217628 0.3990060 19.19386 5.624543e-08 1.427478e-04 8.713570 chr5\n",
       "cg23938220 0.5957299 0.3266027 18.95748 6.198834e-08 1.452195e-04 8.639699 chr5\n",
       "cg14479889 0.6267209 0.3733991 18.89915 6.350490e-08 1.459055e-04 8.621244 chr5\n",
       "cg14511739 0.6323725 0.3837386 16.66143 1.701664e-07 2.393152e-04 7.839574 chr5\n",
       "cg02511809 0.5541877 0.4328240 16.36682 1.955558e-07 2.554836e-04 7.724899 chr5\n",
       "cg11613015 0.6540094 0.3498963 14.23403 5.778784e-07 4.547249e-04 6.797517 chr5\n",
       "           pos       strand UCSC_RefGene_Name UCSC_RefGene_Group \n",
       "cg03667968 112073438 -      APC;APC;APC       TSS200;TSS200;5'UTR\n",
       "cg22035501 112073398 -      APC;APC;APC       TSS200;TSS200;5'UTR\n",
       "cg20311501 112073502 -      APC;APC;APC       TSS200;TSS200;5'UTR\n",
       "cg16970232 112073433 -      APC;APC;APC       TSS200;TSS200;5'UTR\n",
       "cg23938220 112073538 +      APC;APC;APC       TSS200;TSS200;5'UTR\n",
       "cg14479889 112073426 -      APC;APC;APC       TSS200;TSS200;5'UTR\n",
       "cg14511739 112073373 -      APC;APC;APC       TSS200;TSS200;5'UTR\n",
       "cg02511809 112073544 +      APC;APC;APC       TSS200;TSS200;5'UTR\n",
       "cg11613015 112073406 -      APC;APC;APC       TSS200;TSS200;5'UTR"
      ]
     },
     "metadata": {},
     "output_type": "display_data"
    }
   ],
   "source": [
    "# 8) Find significant probes within 200 base pairs upstream from transcription start sites (TSS) of genes according to the used annotations\n",
    "TSS200.probes <- df[grep(\"TSS200\", df[, \"UCSC_RefGene_Group\"]),]\n",
    "#    Identify one gene with most significant probes within 200 base pairs upstream from its TSS\n",
    "names(which.max(table(TSS200.probes$UCSC_RefGene_Name)))\n",
    "#    Find how many significant probes overlapping the previous gene's TSS200 region\n",
    "max(table(TSS200.probes$UCSC_RefGene_Name))\n",
    "#    Show DM probes overlapping the APC gene\n",
    "APC.DM <- df[grep(\"APC\", df$UCSC_RefGene_Name),]\n",
    "APC.DM\n",
    "#    Show DM probes overlapping the TSS200 region of the APC gene\n",
    "APC.DM[grep(\"TSS200\", APC.DM$UCSC_RefGene_Group),]"
   ]
  },
  {
   "cell_type": "markdown",
   "id": "8cf02bcc-3c60-4434-836a-35d7d5a58f34",
   "metadata": {},
   "source": [
    "**Note:** Gene APC is known to be hypermethylated in prostate cancer [*] There are 9 significant DM probes within 200 base pairs from the TSS of gene APC.\n",
    "\n",
    "*Chen Y, Li J, Yu X, Li S, Zhang X, Mo Z, Hu Y. APC gene hypermethylation and prostate cancer: a systematic review and meta-analysis. Eur J Hum Genet. 2013; 21(9):929-35."
   ]
  },
  {
   "cell_type": "code",
   "execution_count": 48,
   "id": "ffbcf192-f963-4432-9130-8af12a2f323c",
   "metadata": {},
   "outputs": [
    {
     "data": {
      "image/png": "[encoded data removed]",
      "text/plain": [
       "Plot with title \"Tumor vs. Benign\""
      ]
     },
     "metadata": {
      "image/png": {
       "height": 420,
       "width": 420
      }
     },
     "output_type": "display_data"
    }
   ],
   "source": [
    "# 9) Results visualization.\n",
    "#    Create a volcano plot to highlight significant probes\n",
    "color <- rep(\"gray\", nrow(limma.results))\n",
    "#    highlight DM probes with red color\n",
    "color[sig] <- \"red\"\n",
    "plot(limma.results$logFC, -log10(limma.results$adj.P.Val), type=\"p\", cex.lab=1.5, cex.main=1.5,\n",
    "pch=16, col=color, xlab=\"log2FC\", ylab=\"-log10(FDR)\", main=\"Tumor vs. Benign\")"
   ]
  },
  {
   "cell_type": "code",
   "execution_count": 49,
   "id": "add50195-505b-4ae0-9f69-33e4d90939f5",
   "metadata": {},
   "outputs": [
    {
     "data": {
      "image/png": "[encoded data removed]",
      "text/plain": [
       "Plot with title \"2D PCA plot\""
      ]
     },
     "metadata": {
      "image/png": {
       "height": 420,
       "width": 420
      }
     },
     "output_type": "display_data"
    }
   ],
   "source": [
    "# 10) Generate PCA plot using only DM probes\n",
    "pca <- prcomp(t(log2(1+probeBeta)[rownames(limma.results[sig,]),]), scale=T)\n",
    "a <- pca$sdev\n",
    "pc1 <- a[1]^2/sum(a^2)\n",
    "pc2 <- a[2]^2/sum(a^2)\n",
    "colors <- ifelse(group.labels==\"benign\", \"green\", \"red\")\n",
    "plot(pca$x[,1:2], pch=ifelse(group.labels==\"benign\", 16, 17), cex=2.5, cex.lab=1.5, cex.main=1.5, col=colors, main=\"2D PCA plot\",\n",
    "xlab=paste(\"PC1 (\", round(100*pc1, 2), \"%)\", sep=\"\"), \n",
    "ylab=paste(\"PC2 (\", round(100*pc2, 2), \"%)\", sep=\"\"))\n",
    "legend(\"bottomleft\", legend=c(\"Benign\",\"Tumor\"), col=c(\"green\",\"red\"), pch=c(16,17), cex=1.5, pt.cex=2)"
   ]
  },
  {
   "cell_type": "markdown",
   "id": "1c3b9582-6915-4490-ae3f-0b505a5bdeef",
   "metadata": {},
   "source": [
    "**Conclusion:** PCA scatter plot using the methylation profiles of probes that showed significant DM shows excellent clustering of tumor and normal samples into two distinct groups as expected whe nusing only highly discriminative features between groups. Additional functional analysis of the genes that top significant probes overlap could be performed to explore for meaningful biological interpretations."
   ]
  },
  {
   "cell_type": "code",
   "execution_count": 50,
   "id": "b624a332-8384-4376-b8a8-a4fc4cfe4845",
   "metadata": {},
   "outputs": [
    {
     "data": {
      "text/plain": [
       "R version 4.4.2 (2024-10-31 ucrt)\n",
       "Platform: x86_64-w64-mingw32/x64\n",
       "Running under: Windows 11 x64 (build 22631)\n",
       "\n",
       "Matrix products: default\n",
       "\n",
       "\n",
       "locale:\n",
       "[1] LC_COLLATE=English_United States.utf8 \n",
       "[2] LC_CTYPE=English_United States.utf8   \n",
       "[3] LC_MONETARY=English_United States.utf8\n",
       "[4] LC_NUMERIC=C                          \n",
       "[5] LC_TIME=English_United States.utf8    \n",
       "\n",
       "time zone: America/Chicago\n",
       "tzcode source: internal\n",
       "\n",
       "attached base packages:\n",
       "[1] parallel  stats4    stats     graphics  grDevices utils     datasets \n",
       "[8] methods   base     \n",
       "\n",
       "other attached packages:\n",
       " [1] limma_3.62.2                                      \n",
       " [2] IlluminaHumanMethylation450kanno.ilmn12.hg19_0.6.1\n",
       " [3] IlluminaHumanMethylation450kmanifest_0.4.0        \n",
       " [4] minfi_1.52.1                                      \n",
       " [5] bumphunter_1.48.0                                 \n",
       " [6] locfit_1.5-9.12                                   \n",
       " [7] iterators_1.0.14                                  \n",
       " [8] foreach_1.5.2                                     \n",
       " [9] Biostrings_2.74.1                                 \n",
       "[10] XVector_0.46.0                                    \n",
       "[11] SummarizedExperiment_1.36.0                       \n",
       "[12] MatrixGenerics_1.18.1                             \n",
       "[13] matrixStats_1.5.0                                 \n",
       "[14] GenomicRanges_1.58.0                              \n",
       "[15] GenomeInfoDb_1.42.3                               \n",
       "[16] IRanges_2.40.1                                    \n",
       "[17] S4Vectors_0.44.0                                  \n",
       "[18] GEOquery_2.74.0                                   \n",
       "[19] Biobase_2.66.0                                    \n",
       "[20] BiocGenerics_0.52.0                               \n",
       "\n",
       "loaded via a namespace (and not attached):\n",
       "  [1] bitops_1.0-9              beanplot_1.3.1           \n",
       "  [3] DBI_1.2.3                 rlang_1.1.5              \n",
       "  [5] magrittr_2.0.3            scrime_1.3.5             \n",
       "  [7] compiler_4.4.2            RSQLite_2.3.9            \n",
       "  [9] GenomicFeatures_1.58.0    DelayedMatrixStats_1.28.1\n",
       " [11] png_0.1-8                 vctrs_0.6.5              \n",
       " [13] quadprog_1.5-8            pkgconfig_2.0.3          \n",
       " [15] crayon_1.5.3              fastmap_1.2.0            \n",
       " [17] Rsamtools_2.22.0          tzdb_0.4.0               \n",
       " [19] UCSC.utils_1.2.0          preprocessCore_1.68.0    \n",
       " [21] purrr_1.0.4               bit_4.6.0                \n",
       " [23] zlibbioc_1.52.0           cachem_1.1.0             \n",
       " [25] jsonlite_1.9.1            blob_1.2.4               \n",
       " [27] rhdf5filters_1.18.1       DelayedArray_0.32.0      \n",
       " [29] reshape_0.8.9             uuid_1.2-1               \n",
       " [31] Rhdf5lib_1.28.0           BiocParallel_1.40.0      \n",
       " [33] R6_2.6.1                  RColorBrewer_1.1-3       \n",
       " [35] rtracklayer_1.66.0        genefilter_1.88.0        \n",
       " [37] Rcpp_1.0.14               IRkernel_1.3.2           \n",
       " [39] base64enc_0.1-3           readr_2.1.5              \n",
       " [41] rentrez_1.2.3             illuminaio_0.48.0        \n",
       " [43] Matrix_1.7-3              splines_4.4.2            \n",
       " [45] tidyselect_1.2.1          yaml_2.3.10              \n",
       " [47] abind_1.4-8               siggenes_1.80.0          \n",
       " [49] codetools_0.2-20          curl_6.2.1               \n",
       " [51] doRNG_1.8.6.1             lattice_0.22-6           \n",
       " [53] tibble_3.2.1              plyr_1.8.9               \n",
       " [55] KEGGREST_1.46.0           askpass_1.2.1            \n",
       " [57] evaluate_1.0.3            survival_3.8-3           \n",
       " [59] xml2_1.3.7                mclust_6.1.1             \n",
       " [61] pillar_1.10.1             BiocManager_1.30.25      \n",
       " [63] rngtools_1.5.2            generics_0.1.3           \n",
       " [65] RCurl_1.98-1.16           IRdisplay_1.1            \n",
       " [67] hms_1.1.3                 sparseMatrixStats_1.18.0 \n",
       " [69] xtable_1.8-4              glue_1.8.0               \n",
       " [71] tools_4.4.2               BiocIO_1.16.0            \n",
       " [73] data.table_1.17.0         GenomicAlignments_1.42.0 \n",
       " [75] annotate_1.84.0           pbdZMQ_0.3-13            \n",
       " [77] XML_3.99-0.18             rhdf5_2.50.2             \n",
       " [79] grid_4.4.2                tidyr_1.3.1              \n",
       " [81] AnnotationDbi_1.68.0      base64_2.0.2             \n",
       " [83] nlme_3.1-167              GenomeInfoDbData_1.2.13  \n",
       " [85] repr_1.1.7                nor1mix_1.3-3            \n",
       " [87] HDF5Array_1.34.0          restfulr_0.0.15          \n",
       " [89] cli_3.6.4                 S4Arrays_1.6.0           \n",
       " [91] dplyr_1.1.4               digest_0.6.37            \n",
       " [93] SparseArray_1.6.2         rjson_0.2.23             \n",
       " [95] memoise_2.0.1             htmltools_0.5.8.1        \n",
       " [97] multtest_2.62.0           lifecycle_1.0.4          \n",
       " [99] httr_1.4.7                statmod_1.5.0            \n",
       "[101] openssl_2.3.2             bit64_4.6.0-1            \n",
       "[103] MASS_7.3-64              "
      ]
     },
     "metadata": {},
     "output_type": "display_data"
    }
   ],
   "source": [
    "sessionInfo()"
   ]
  }
 ],
 "metadata": {
  "kernelspec": {
   "display_name": "R",
   "language": "R",
   "name": "ir"
  },
  "language_info": {
   "codemirror_mode": "r",
   "file_extension": ".r",
   "mimetype": "text/x-r-source",
   "name": "R",
   "pygments_lexer": "r",
   "version": "4.4.2"
  }
 },
 "nbformat": 4,
 "nbformat_minor": 5
}
