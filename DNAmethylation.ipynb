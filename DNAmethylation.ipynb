{
 "cells": [
  {
   "cell_type": "raw",
   "id": "db7648b0-cc7b-4d45-8758-b238b024c884",
   "metadata": {},
   "source": [
    "This module demonstrates the basic steps necessary to download raw DNA methylation data generated using Illumina's Infinium methylation array 450k from the Gene Expression Omnibus (GEO) public repository, preprocess the data, perform differential methylation analysis, and generate plots to visualize the results."
   ]
  },
  {
   "cell_type": "code",
   "execution_count": 81,
   "id": "0de7726c-44b1-4b0f-a240-789b4abba698",
   "metadata": {},
   "outputs": [],
   "source": [
    "# First, check and install package BiocManager if it has not been already installed\n",
    "# This package enables installing Bioconductor packages\n",
    "if (!requireNamespace(\"BiocManager\", quietly = TRUE)) install.packages(\"BiocManager\")"
   ]
  },
  {
   "cell_type": "code",
   "execution_count": 82,
   "id": "6440ae8a-04cb-4b21-91d1-72c7d145ecd4",
   "metadata": {},
   "outputs": [],
   "source": [
    "# Install Bioconductor packages needed for this module\n",
    "# Package GEOquery is used to download raw files from the GEO repository\n",
    "if (!requireNamespace(\"GEOquery\", quietly = TRUE)) BiocManager::install(\"GEOquery\")\n",
    "# Package minfi is used to read raw methylation data into R, and perform preprocessing steps\n",
    "if(!requireNamespace(\"minfi\", quietly=TRUE)) BiocManager::install(\"minfi\")\n",
    "# The chip (450k) manifest and annotation packages are needed to annotate probe identifiers with genomic features\n",
    "if(!requireNamespace(\"IlluminaHumanMethylation450kmanifest\", quietly=TRUE)) BiocManager::install(\"IlluminaHumanMethylation450kmanifest\")\n",
    "if(!requireNamespace(\"IlluminaHumanMethylation450kanno.ilmn12.hg19\", quietly=TRUE)) BiocManager::install(\"IlluminaHumanMethylation450kanno.ilmn12.hg19\")\n",
    "# Package limma is used to perform a differential methylation test\n",
    "if (!requireNamespace(\"limma\", quietly = TRUE)) BiocManager::install(\"limma\")"
   ]
  },
  {
   "cell_type": "code",
   "execution_count": 83,
   "id": "5f8f99a7-cb3d-47aa-a699-10ab38a56952",
   "metadata": {},
   "outputs": [],
   "source": [
    "# Load the needed packages\n",
    "library(GEOquery)\n",
    "library(minfi)\n",
    "library(IlluminaHumanMethylation450kmanifest)\n",
    "library(IlluminaHumanMethylation450kanno.ilmn12.hg19)\n",
    "library(limma)"
   ]
  },
  {
   "cell_type": "code",
   "execution_count": 15,
   "id": "5f12236a-3450-45f1-9430-0bd5a5a5cd48",
   "metadata": {},
   "outputs": [],
   "source": [
    "# 1) Prepare files.\n",
    "#    Use package GEOquery to download raw files of series GSE47915 from the GEO repository. \n",
    "#    This series has 4 prostate tumor samples and 4 benign samples. \n",
    "#    Raw data files will be downloaded as a compressed folder under a newly created folder carrying the name of the GEO series.\n",
    "\n",
    "#    Object downloaded will be a data frame with rownames representing the full path of the resulting downloaded files. \n",
    "#    The records in this data frame represent information for each downloaded file\n",
    "downloaded <- getGEOSuppFiles(\"GSE47915\")"
   ]
  },
  {
   "cell_type": "code",
   "execution_count": 16,
   "id": "8d57de97-c21b-496e-b7e4-4c99c6b26361",
   "metadata": {},
   "outputs": [
    {
     "data": {
      "text/html": [
       "TRUE"
      ],
      "text/latex": [
       "TRUE"
      ],
      "text/markdown": [
       "TRUE"
      ],
      "text/plain": [
       "[1] TRUE"
      ]
     },
     "metadata": {},
     "output_type": "display_data"
    },
    {
     "data": {
      "text/html": [
       "TRUE"
      ],
      "text/latex": [
       "TRUE"
      ],
      "text/markdown": [
       "TRUE"
      ],
      "text/plain": [
       "[1] TRUE"
      ]
     },
     "metadata": {},
     "output_type": "display_data"
    }
   ],
   "source": [
    "# Set the working directory to the newly created folder\n",
    "setwd(paste(getwd(), \"/GSE47915\", sep=\"\"))\n",
    "# Decompress the download tar folder GSE47915_RAW.tar\n",
    "untar(\"GSE47915_RAW.tar\")\n",
    "# Delete the downloaded compressed files since they are no longer needed\n",
    "file.remove(\"GSE47915_RAW.tar\")\n",
    "file.remove(\"GSE47915_signal_intensities.txt.gz\")"
   ]
  },
  {
   "cell_type": "code",
   "execution_count": 56,
   "id": "fe289006-4027-4d06-a70d-8b2e799a3a20",
   "metadata": {},
   "outputs": [
    {
     "data": {
      "text/html": [
       "<style>\n",
       ".list-inline {list-style: none; margin:0; padding: 0}\n",
       ".list-inline>li {display: inline-block}\n",
       ".list-inline>li:not(:last-child)::after {content: \"\\00b7\"; padding: 0 .5ex}\n",
       "</style>\n",
       "<ol class=list-inline><li>'GSM1162363_6264509108_R01C02'</li><li>'GSM1162364_6264509130_R04C02'</li><li>'GSM1162365_6264509130_R03C02'</li><li>'GSM1162369_6264509130_R06C01'</li><li>'GSM1162375_6264509130_R05C01'</li><li>'GSM1162380_6285609104_R03C02'</li><li>'GSM1162381_6285650040_R06C02'</li><li>'GSM1162382_6285650050_R01C01'</li></ol>\n"
      ],
      "text/latex": [
       "\\begin{enumerate*}\n",
       "\\item 'GSM1162363\\_6264509108\\_R01C02'\n",
       "\\item 'GSM1162364\\_6264509130\\_R04C02'\n",
       "\\item 'GSM1162365\\_6264509130\\_R03C02'\n",
       "\\item 'GSM1162369\\_6264509130\\_R06C01'\n",
       "\\item 'GSM1162375\\_6264509130\\_R05C01'\n",
       "\\item 'GSM1162380\\_6285609104\\_R03C02'\n",
       "\\item 'GSM1162381\\_6285650040\\_R06C02'\n",
       "\\item 'GSM1162382\\_6285650050\\_R01C01'\n",
       "\\end{enumerate*}\n"
      ],
      "text/markdown": [
       "1. 'GSM1162363_6264509108_R01C02'\n",
       "2. 'GSM1162364_6264509130_R04C02'\n",
       "3. 'GSM1162365_6264509130_R03C02'\n",
       "4. 'GSM1162369_6264509130_R06C01'\n",
       "5. 'GSM1162375_6264509130_R05C01'\n",
       "6. 'GSM1162380_6285609104_R03C02'\n",
       "7. 'GSM1162381_6285650040_R06C02'\n",
       "8. 'GSM1162382_6285650050_R01C01'\n",
       "\n",
       "\n"
      ],
      "text/plain": [
       "[1] \"GSM1162363_6264509108_R01C02\" \"GSM1162364_6264509130_R04C02\"\n",
       "[3] \"GSM1162365_6264509130_R03C02\" \"GSM1162369_6264509130_R06C01\"\n",
       "[5] \"GSM1162375_6264509130_R05C01\" \"GSM1162380_6285609104_R03C02\"\n",
       "[7] \"GSM1162381_6285650040_R06C02\" \"GSM1162382_6285650050_R01C01\""
      ]
     },
     "metadata": {},
     "output_type": "display_data"
    },
    {
     "data": {
      "text/html": [
       "<style>\n",
       ".list-inline {list-style: none; margin:0; padding: 0}\n",
       ".list-inline>li {display: inline-block}\n",
       ".list-inline>li:not(:last-child)::after {content: \"\\00b7\"; padding: 0 .5ex}\n",
       "</style>\n",
       "<ol class=list-inline><li>'benign'</li><li>'tumor'</li><li>'tumor'</li><li>'tumor'</li><li>'tumor'</li><li>'benign'</li><li>'benign'</li><li>'benign'</li></ol>\n"
      ],
      "text/latex": [
       "\\begin{enumerate*}\n",
       "\\item 'benign'\n",
       "\\item 'tumor'\n",
       "\\item 'tumor'\n",
       "\\item 'tumor'\n",
       "\\item 'tumor'\n",
       "\\item 'benign'\n",
       "\\item 'benign'\n",
       "\\item 'benign'\n",
       "\\end{enumerate*}\n"
      ],
      "text/markdown": [
       "1. 'benign'\n",
       "2. 'tumor'\n",
       "3. 'tumor'\n",
       "4. 'tumor'\n",
       "5. 'tumor'\n",
       "6. 'benign'\n",
       "7. 'benign'\n",
       "8. 'benign'\n",
       "\n",
       "\n"
      ],
      "text/plain": [
       "[1] \"benign\" \"tumor\"  \"tumor\"  \"tumor\"  \"tumor\"  \"benign\" \"benign\" \"benign\""
      ]
     },
     "metadata": {},
     "output_type": "display_data"
    }
   ],
   "source": [
    "# There are 2 raw files (with .idat extension) per sample: One for the red channel and one for the green channel\n",
    "# Create the base names for raw files\n",
    "idat.files <- list.files(pattern=\"idat\")\n",
    "idat.basenames <- sub(x=idat.files, pattern=\"_Grn.idat.gz\", replacement=\"\")\n",
    "idat.basenames <- sub(x=idat.basenames, pattern=\"_Red.idat.gz\", replacement=\"\")\n",
    "idat.basenames <- unique(idat.basenames)\n",
    "# Create group labels for samples\n",
    "group.labels <- c(\"benign\", \"tumor\", \"tumor\", \"tumor\", \"tumor\", \"benign\", \"benign\", \"benign\")\n",
    "idat.basenames\n",
    "group.labels"
   ]
  },
  {
   "cell_type": "code",
   "execution_count": 57,
   "id": "bd52a7b5-645e-47e4-90c5-03e7fceefe98",
   "metadata": {},
   "outputs": [
    {
     "name": "stderr",
     "output_type": "stream",
     "text": [
      "Warning message in readChar(con, nchars = n):\n",
      "\"truncating string with embedded nuls\"\n",
      "Warning message in readChar(con, nchars = n):\n",
      "\"truncating string with embedded nuls\"\n",
      "Warning message in readChar(con, nchars = n):\n",
      "\"truncating string with embedded nuls\"\n",
      "Warning message in readChar(con, nchars = n):\n",
      "\"truncating string with embedded nuls\"\n",
      "Warning message in readChar(con, nchars = n):\n",
      "\"truncating string with embedded nuls\"\n",
      "Warning message in readChar(con, nchars = n):\n",
      "\"truncating string with embedded nuls\"\n",
      "Warning message in readChar(con, nchars = n):\n",
      "\"truncating string with embedded nuls\"\n",
      "Warning message in readChar(con, nchars = n):\n",
      "\"truncating string with embedded nuls\"\n",
      "Warning message in readChar(con, nchars = n):\n",
      "\"truncating string with embedded nuls\"\n",
      "Warning message in readChar(con, nchars = n):\n",
      "\"truncating string with embedded nuls\"\n",
      "Warning message in readChar(con, nchars = n):\n",
      "\"truncating string with embedded nuls\"\n",
      "Warning message in readChar(con, nchars = n):\n",
      "\"truncating string with embedded nuls\"\n",
      "Warning message in readChar(con, nchars = n):\n",
      "\"truncating string with embedded nuls\"\n",
      "Warning message in readChar(con, nchars = n):\n",
      "\"truncating string with embedded nuls\"\n",
      "Warning message in readChar(con, nchars = n):\n",
      "\"truncating string with embedded nuls\"\n",
      "Warning message in readChar(con, nchars = n):\n",
      "\"truncating string with embedded nuls\"\n"
     ]
    },
    {
     "data": {
      "text/plain": [
       "class: RGChannelSet \n",
       "dim: 622399 8 \n",
       "metadata(0):\n",
       "assays(2): Green Red\n",
       "rownames(622399): 10600313 10600322 ... 74810490 74810492\n",
       "rowData names(0):\n",
       "colnames(8): GSM1162363_6264509108_R01C02 GSM1162364_6264509130_R04C02\n",
       "  ... GSM1162381_6285650040_R06C02 GSM1162382_6285650050_R01C01\n",
       "colData names(0):\n",
       "Annotation\n",
       "  array: IlluminaHumanMethylation450k\n",
       "  annotation: ilmn12.hg19"
      ]
     },
     "metadata": {},
     "output_type": "display_data"
    }
   ],
   "source": [
    "# 2) Read raw data.\n",
    "#    Use package minfi to read raw idat files into R\n",
    "#    Proper annotation and chip manafest packages are needed\n",
    "\n",
    "#    Read raw files into one RGChannelSet data object\n",
    "RGset <- read.metharray(basenames=idat.basenames)\n",
    "RGset"
   ]
  },
  {
   "cell_type": "code",
   "execution_count": 58,
   "id": "76edeb87-304a-4ef5-9f8c-fdb664029218",
   "metadata": {},
   "outputs": [
    {
     "data": {
      "text/plain": [
       "class: MethylSet \n",
       "dim: 483896 8 \n",
       "metadata(0):\n",
       "assays(2): Meth Unmeth\n",
       "rownames(483896): cg00050873 cg00212031 ... ch.22.47579720R\n",
       "  ch.22.48274842R\n",
       "rowData names(0):\n",
       "colnames(8): GSM1162363_6264509108_R01C02 GSM1162364_6264509130_R04C02\n",
       "  ... GSM1162381_6285650040_R06C02 GSM1162382_6285650050_R01C01\n",
       "colData names(0):\n",
       "Annotation\n",
       "  array: IlluminaHumanMethylation450k\n",
       "  annotation: ilmn12.hg19\n",
       "Preprocessing\n",
       "  Method: Illumina, bg.correct = TRUE, normalize = controls, reference = 1\n",
       "  minfi version: 1.40.0\n",
       "  Manifest version: 0.4.0"
      ]
     },
     "metadata": {},
     "output_type": "display_data"
    },
    {
     "data": {
      "text/plain": [
       "class: GenomicMethylSet \n",
       "dim: 483896 8 \n",
       "metadata(0):\n",
       "assays(2): Meth Unmeth\n",
       "rownames(483896): cg13869341 cg14008030 ... cg08265308 cg14273923\n",
       "rowData names(0):\n",
       "colnames(8): GSM1162363_6264509108_R01C02 GSM1162364_6264509130_R04C02\n",
       "  ... GSM1162381_6285650040_R06C02 GSM1162382_6285650050_R01C01\n",
       "colData names(0):\n",
       "Annotation\n",
       "  array: IlluminaHumanMethylation450k\n",
       "  annotation: ilmn12.hg19\n",
       "Preprocessing\n",
       "  Method: Illumina, bg.correct = TRUE, normalize = controls, reference = 1\n",
       "  minfi version: 1.40.0\n",
       "  Manifest version: 0.4.0"
      ]
     },
     "metadata": {},
     "output_type": "display_data"
    },
    {
     "data": {
      "text/plain": [
       "class: GenomicRatioSet \n",
       "dim: 483896 8 \n",
       "metadata(0):\n",
       "assays(2): Beta CN\n",
       "rownames(483896): cg13869341 cg14008030 ... cg08265308 cg14273923\n",
       "rowData names(0):\n",
       "colnames(8): GSM1162363_6264509108_R01C02 GSM1162364_6264509130_R04C02\n",
       "  ... GSM1162381_6285650040_R06C02 GSM1162382_6285650050_R01C01\n",
       "colData names(0):\n",
       "Annotation\n",
       "  array: IlluminaHumanMethylation450k\n",
       "  annotation: ilmn12.hg19\n",
       "Preprocessing\n",
       "  Method: Illumina, bg.correct = TRUE, normalize = controls, reference = 1\n",
       "  minfi version: 1.40.0\n",
       "  Manifest version: 0.4.0"
      ]
     },
     "metadata": {},
     "output_type": "display_data"
    }
   ],
   "source": [
    "# 3) preprocess raw data:\n",
    "#    Identify probes with poor quality (detection p-value >0.01) based on detection p-values\n",
    "detP <- detectionP(RGset, type = \"m+u\")\n",
    "poorProbes <- which(rowSums(detP > 0.01) > 0)\n",
    "#    remove probes with poor quality\n",
    "RGset <- RGset[-poorProbes,]\n",
    "#    Preprocess raw intensities using the Illumina Genome Analyzer method (one option among others)\n",
    "Mset <- preprocessIllumina(RGset)\n",
    "Mset\n",
    "#    Annotate probes in the methylation set data object\n",
    "GMset <- mapToGenome(Mset)\n",
    "GMset\n",
    "#    Calculate the methylation metric (Beta values) from the methylated and unmethylated probe values\n",
    "rc <- ratioConvert(GMset)\n",
    "rc"
   ]
  },
  {
   "cell_type": "code",
   "execution_count": 59,
   "id": "c487ff83-14d8-40cf-ad36-a5b2215db55c",
   "metadata": {},
   "outputs": [],
   "source": [
    "# 4) Remove additional probes.\n",
    "#    Remove CpG probes at genomic locations overlapping known SNPs with non-zero allele frequency.\n",
    "#    Checking the methylation status at locations with known SNPs is not useful.\n",
    "rc <- addSnpInfo(rc)\n",
    "rc <- dropLociWithSnps(rc, snps=c(\"SBE\",\"CpG\"), maf=0)"
   ]
  },
  {
   "cell_type": "code",
   "execution_count": 60,
   "id": "8ce83dc9-193a-45a6-9bd2-80080ecd4397",
   "metadata": {},
   "outputs": [
    {
     "data": {
      "text/html": [
       "<style>\n",
       ".list-inline {list-style: none; margin:0; padding: 0}\n",
       ".list-inline>li {display: inline-block}\n",
       ".list-inline>li:not(:last-child)::after {content: \"\\00b7\"; padding: 0 .5ex}\n",
       "</style>\n",
       "<ol class=list-inline><li>'chr'</li><li>'pos'</li><li>'strand'</li><li>'Name'</li><li>'AddressA'</li><li>'AddressB'</li><li>'ProbeSeqA'</li><li>'ProbeSeqB'</li><li>'Type'</li><li>'NextBase'</li><li>'Color'</li><li>'Probe_rs'</li><li>'Probe_maf'</li><li>'CpG_rs'</li><li>'CpG_maf'</li><li>'SBE_rs'</li><li>'SBE_maf'</li><li>'Islands_Name'</li><li>'Relation_to_Island'</li><li>'Forward_Sequence'</li><li>'SourceSeq'</li><li>'Random_Loci'</li><li>'Methyl27_Loci'</li><li>'UCSC_RefGene_Name'</li><li>'UCSC_RefGene_Accession'</li><li>'UCSC_RefGene_Group'</li><li>'Phantom'</li><li>'DMR'</li><li>'Enhancer'</li><li>'HMM_Island'</li><li>'Regulatory_Feature_Name'</li><li>'Regulatory_Feature_Group'</li><li>'DHS'</li></ol>\n"
      ],
      "text/latex": [
       "\\begin{enumerate*}\n",
       "\\item 'chr'\n",
       "\\item 'pos'\n",
       "\\item 'strand'\n",
       "\\item 'Name'\n",
       "\\item 'AddressA'\n",
       "\\item 'AddressB'\n",
       "\\item 'ProbeSeqA'\n",
       "\\item 'ProbeSeqB'\n",
       "\\item 'Type'\n",
       "\\item 'NextBase'\n",
       "\\item 'Color'\n",
       "\\item 'Probe\\_rs'\n",
       "\\item 'Probe\\_maf'\n",
       "\\item 'CpG\\_rs'\n",
       "\\item 'CpG\\_maf'\n",
       "\\item 'SBE\\_rs'\n",
       "\\item 'SBE\\_maf'\n",
       "\\item 'Islands\\_Name'\n",
       "\\item 'Relation\\_to\\_Island'\n",
       "\\item 'Forward\\_Sequence'\n",
       "\\item 'SourceSeq'\n",
       "\\item 'Random\\_Loci'\n",
       "\\item 'Methyl27\\_Loci'\n",
       "\\item 'UCSC\\_RefGene\\_Name'\n",
       "\\item 'UCSC\\_RefGene\\_Accession'\n",
       "\\item 'UCSC\\_RefGene\\_Group'\n",
       "\\item 'Phantom'\n",
       "\\item 'DMR'\n",
       "\\item 'Enhancer'\n",
       "\\item 'HMM\\_Island'\n",
       "\\item 'Regulatory\\_Feature\\_Name'\n",
       "\\item 'Regulatory\\_Feature\\_Group'\n",
       "\\item 'DHS'\n",
       "\\end{enumerate*}\n"
      ],
      "text/markdown": [
       "1. 'chr'\n",
       "2. 'pos'\n",
       "3. 'strand'\n",
       "4. 'Name'\n",
       "5. 'AddressA'\n",
       "6. 'AddressB'\n",
       "7. 'ProbeSeqA'\n",
       "8. 'ProbeSeqB'\n",
       "9. 'Type'\n",
       "10. 'NextBase'\n",
       "11. 'Color'\n",
       "12. 'Probe_rs'\n",
       "13. 'Probe_maf'\n",
       "14. 'CpG_rs'\n",
       "15. 'CpG_maf'\n",
       "16. 'SBE_rs'\n",
       "17. 'SBE_maf'\n",
       "18. 'Islands_Name'\n",
       "19. 'Relation_to_Island'\n",
       "20. 'Forward_Sequence'\n",
       "21. 'SourceSeq'\n",
       "22. 'Random_Loci'\n",
       "23. 'Methyl27_Loci'\n",
       "24. 'UCSC_RefGene_Name'\n",
       "25. 'UCSC_RefGene_Accession'\n",
       "26. 'UCSC_RefGene_Group'\n",
       "27. 'Phantom'\n",
       "28. 'DMR'\n",
       "29. 'Enhancer'\n",
       "30. 'HMM_Island'\n",
       "31. 'Regulatory_Feature_Name'\n",
       "32. 'Regulatory_Feature_Group'\n",
       "33. 'DHS'\n",
       "\n",
       "\n"
      ],
      "text/plain": [
       " [1] \"chr\"                      \"pos\"                     \n",
       " [3] \"strand\"                   \"Name\"                    \n",
       " [5] \"AddressA\"                 \"AddressB\"                \n",
       " [7] \"ProbeSeqA\"                \"ProbeSeqB\"               \n",
       " [9] \"Type\"                     \"NextBase\"                \n",
       "[11] \"Color\"                    \"Probe_rs\"                \n",
       "[13] \"Probe_maf\"                \"CpG_rs\"                  \n",
       "[15] \"CpG_maf\"                  \"SBE_rs\"                  \n",
       "[17] \"SBE_maf\"                  \"Islands_Name\"            \n",
       "[19] \"Relation_to_Island\"       \"Forward_Sequence\"        \n",
       "[21] \"SourceSeq\"                \"Random_Loci\"             \n",
       "[23] \"Methyl27_Loci\"            \"UCSC_RefGene_Name\"       \n",
       "[25] \"UCSC_RefGene_Accession\"   \"UCSC_RefGene_Group\"      \n",
       "[27] \"Phantom\"                  \"DMR\"                     \n",
       "[29] \"Enhancer\"                 \"HMM_Island\"              \n",
       "[31] \"Regulatory_Feature_Name\"  \"Regulatory_Feature_Group\"\n",
       "[33] \"DHS\"                     "
      ]
     },
     "metadata": {},
     "output_type": "display_data"
    },
    {
     "data": {
      "text/plain": [
       "DataFrame with 6 rows and 5 columns\n",
       "                   chr       pos      strand UCSC_RefGene_Name\n",
       "           <character> <integer> <character>       <character>\n",
       "cg13869341        chr1     15865           +            WASH5P\n",
       "cg14008030        chr1     18827           +            WASH5P\n",
       "cg12045430        chr1     29407           +            WASH5P\n",
       "cg20826792        chr1     29425           +            WASH5P\n",
       "cg00381604        chr1     29435           +            WASH5P\n",
       "cg20253340        chr1     68849           +             OR4F5\n",
       "           UCSC_RefGene_Group\n",
       "                  <character>\n",
       "cg13869341               Body\n",
       "cg14008030               Body\n",
       "cg12045430             TSS200\n",
       "cg20826792             TSS200\n",
       "cg00381604             TSS200\n",
       "cg20253340            TSS1500"
      ]
     },
     "metadata": {},
     "output_type": "display_data"
    }
   ],
   "source": [
    "# 5) Annotate probe sites\n",
    "#    Get all available annotation information for probe sites\n",
    "rc.ann <- getAnnotation(object=rc, what=\"everything\", lociNames=NULL, orderByLocation=FALSE, dropNonMapping=TRUE)\n",
    "#    There are too many columns in the Table but not all this information is needed\n",
    "colnames(rc.ann)\n",
    "#    Keep only UCSC genic region annotations\n",
    "rc.ann.short <- rc.ann[,c(\"chr\",\"pos\",\"strand\",\"UCSC_RefGene_Name\",\"UCSC_RefGene_Group\")]\n",
    "head(rc.ann.short, n=6)"
   ]
  },
  {
   "cell_type": "code",
   "execution_count": 61,
   "id": "0ec0714b-8a74-4c06-9e9d-752190199e9d",
   "metadata": {},
   "outputs": [
    {
     "name": "stderr",
     "output_type": "stream",
     "text": [
      "Warning message:\n",
      "\"Zero sample variances detected, have been offset away from zero\"\n",
      "Removing intercept from test coefficients\n",
      "\n"
     ]
    },
    {
     "data": {
      "text/html": [
       "<table class=\"dataframe\">\n",
       "<caption>A data.frame: 6 × 6</caption>\n",
       "<thead>\n",
       "\t<tr><th></th><th scope=col>logFC</th><th scope=col>AveExpr</th><th scope=col>t</th><th scope=col>P.Value</th><th scope=col>adj.P.Val</th><th scope=col>B</th></tr>\n",
       "\t<tr><th></th><th scope=col>&lt;dbl&gt;</th><th scope=col>&lt;dbl&gt;</th><th scope=col>&lt;dbl&gt;</th><th scope=col>&lt;dbl&gt;</th><th scope=col>&lt;dbl&gt;</th><th scope=col>&lt;dbl&gt;</th></tr>\n",
       "</thead>\n",
       "<tbody>\n",
       "\t<tr><th scope=row>cg16794576</th><td>0.6966775</td><td>0.3914830</td><td>54.81206</td><td>7.020823e-11</td><td>3.274526e-05</td><td>11.28386</td></tr>\n",
       "\t<tr><th scope=row>cg20527270</th><td>0.7017513</td><td>0.4169308</td><td>47.85707</td><td>1.900248e-10</td><td>4.431397e-05</td><td>11.04865</td></tr>\n",
       "\t<tr><th scope=row>cg23511432</th><td>0.6425535</td><td>0.3352367</td><td>43.54659</td><td>3.796747e-10</td><td>5.085583e-05</td><td>10.85362</td></tr>\n",
       "\t<tr><th scope=row>cg19670286</th><td>0.5564508</td><td>0.2916982</td><td>41.65459</td><td>5.257900e-10</td><td>5.085583e-05</td><td>10.75206</td></tr>\n",
       "\t<tr><th scope=row>cg14855334</th><td>0.5158862</td><td>0.2863200</td><td>40.95672</td><td>5.950915e-10</td><td>5.085583e-05</td><td>10.71171</td></tr>\n",
       "\t<tr><th scope=row>cg24578679</th><td>0.4986884</td><td>0.2734214</td><td>40.43053</td><td>6.542318e-10</td><td>5.085583e-05</td><td>10.68018</td></tr>\n",
       "</tbody>\n",
       "</table>\n"
      ],
      "text/latex": [
       "A data.frame: 6 × 6\n",
       "\\begin{tabular}{r|llllll}\n",
       "  & logFC & AveExpr & t & P.Value & adj.P.Val & B\\\\\n",
       "  & <dbl> & <dbl> & <dbl> & <dbl> & <dbl> & <dbl>\\\\\n",
       "\\hline\n",
       "\tcg16794576 & 0.6966775 & 0.3914830 & 54.81206 & 7.020823e-11 & 3.274526e-05 & 11.28386\\\\\n",
       "\tcg20527270 & 0.7017513 & 0.4169308 & 47.85707 & 1.900248e-10 & 4.431397e-05 & 11.04865\\\\\n",
       "\tcg23511432 & 0.6425535 & 0.3352367 & 43.54659 & 3.796747e-10 & 5.085583e-05 & 10.85362\\\\\n",
       "\tcg19670286 & 0.5564508 & 0.2916982 & 41.65459 & 5.257900e-10 & 5.085583e-05 & 10.75206\\\\\n",
       "\tcg14855334 & 0.5158862 & 0.2863200 & 40.95672 & 5.950915e-10 & 5.085583e-05 & 10.71171\\\\\n",
       "\tcg24578679 & 0.4986884 & 0.2734214 & 40.43053 & 6.542318e-10 & 5.085583e-05 & 10.68018\\\\\n",
       "\\end{tabular}\n"
      ],
      "text/markdown": [
       "\n",
       "A data.frame: 6 × 6\n",
       "\n",
       "| <!--/--> | logFC &lt;dbl&gt; | AveExpr &lt;dbl&gt; | t &lt;dbl&gt; | P.Value &lt;dbl&gt; | adj.P.Val &lt;dbl&gt; | B &lt;dbl&gt; |\n",
       "|---|---|---|---|---|---|---|\n",
       "| cg16794576 | 0.6966775 | 0.3914830 | 54.81206 | 7.020823e-11 | 3.274526e-05 | 11.28386 |\n",
       "| cg20527270 | 0.7017513 | 0.4169308 | 47.85707 | 1.900248e-10 | 4.431397e-05 | 11.04865 |\n",
       "| cg23511432 | 0.6425535 | 0.3352367 | 43.54659 | 3.796747e-10 | 5.085583e-05 | 10.85362 |\n",
       "| cg19670286 | 0.5564508 | 0.2916982 | 41.65459 | 5.257900e-10 | 5.085583e-05 | 10.75206 |\n",
       "| cg14855334 | 0.5158862 | 0.2863200 | 40.95672 | 5.950915e-10 | 5.085583e-05 | 10.71171 |\n",
       "| cg24578679 | 0.4986884 | 0.2734214 | 40.43053 | 6.542318e-10 | 5.085583e-05 | 10.68018 |\n",
       "\n"
      ],
      "text/plain": [
       "           logFC     AveExpr   t        P.Value      adj.P.Val    B       \n",
       "cg16794576 0.6966775 0.3914830 54.81206 7.020823e-11 3.274526e-05 11.28386\n",
       "cg20527270 0.7017513 0.4169308 47.85707 1.900248e-10 4.431397e-05 11.04865\n",
       "cg23511432 0.6425535 0.3352367 43.54659 3.796747e-10 5.085583e-05 10.85362\n",
       "cg19670286 0.5564508 0.2916982 41.65459 5.257900e-10 5.085583e-05 10.75206\n",
       "cg14855334 0.5158862 0.2863200 40.95672 5.950915e-10 5.085583e-05 10.71171\n",
       "cg24578679 0.4986884 0.2734214 40.43053 6.542318e-10 5.085583e-05 10.68018"
      ]
     },
     "metadata": {},
     "output_type": "display_data"
    }
   ],
   "source": [
    "# 6) Perform differential methylation (DM) analysis using package limma\n",
    "#    Get probe-level methylation ratio values (Beta)\n",
    "probeBeta <- getBeta(rc)\n",
    "design <- model.matrix(~group.labels)\n",
    "fit <- lmFit(log2(1+probeBeta), design=design)\n",
    "fit <- eBayes(fit)\n",
    "limma.results <- topTable(fit, n=nrow(fit))\n",
    "head(limma.results, n=6)"
   ]
  },
  {
   "cell_type": "code",
   "execution_count": 76,
   "id": "91356d03-a2a9-45e2-8d0b-d811dd7a1702",
   "metadata": {},
   "outputs": [
    {
     "name": "stdout",
     "output_type": "stream",
     "text": [
      "[1] There are 439 significant probes\n"
     ]
    },
    {
     "data": {
      "text/html": [
       "<table class=\"dataframe\">\n",
       "<caption>A data.frame: 4 × 11</caption>\n",
       "<thead>\n",
       "\t<tr><th></th><th scope=col>logFC</th><th scope=col>AveExpr</th><th scope=col>t</th><th scope=col>P.Value</th><th scope=col>adj.P.Val</th><th scope=col>B</th><th scope=col>chr</th><th scope=col>pos</th><th scope=col>strand</th><th scope=col>UCSC_RefGene_Name</th><th scope=col>UCSC_RefGene_Group</th></tr>\n",
       "\t<tr><th></th><th scope=col>&lt;dbl&gt;</th><th scope=col>&lt;dbl&gt;</th><th scope=col>&lt;dbl&gt;</th><th scope=col>&lt;dbl&gt;</th><th scope=col>&lt;dbl&gt;</th><th scope=col>&lt;dbl&gt;</th><th scope=col>&lt;chr&gt;</th><th scope=col>&lt;int&gt;</th><th scope=col>&lt;chr&gt;</th><th scope=col>&lt;chr&gt;</th><th scope=col>&lt;chr&gt;</th></tr>\n",
       "</thead>\n",
       "<tbody>\n",
       "\t<tr><th scope=row>cg16794576</th><td>0.6966775</td><td>0.3914830</td><td>54.81206</td><td>7.020823e-11</td><td>3.274526e-05</td><td>11.28386</td><td>chr6</td><td> 29974971</td><td>+</td><td>HLA-J;NCRNA00171</td><td>Body;Body    </td></tr>\n",
       "\t<tr><th scope=row>cg20527270</th><td>0.7017513</td><td>0.4169308</td><td>47.85707</td><td>1.900248e-10</td><td>4.431397e-05</td><td>11.04865</td><td>chr8</td><td> 49468688</td><td>-</td><td>                </td><td>             </td></tr>\n",
       "\t<tr><th scope=row>cg23511432</th><td>0.6425535</td><td>0.3352367</td><td>43.54659</td><td>3.796747e-10</td><td>5.085583e-05</td><td>10.85362</td><td>chr5</td><td>137610255</td><td>+</td><td>GFRA3           </td><td>TSS200       </td></tr>\n",
       "\t<tr><th scope=row>cg19670286</th><td>0.5564508</td><td>0.2916982</td><td>41.65459</td><td>5.257900e-10</td><td>5.085583e-05</td><td>10.75206</td><td>chr5</td><td>137610127</td><td>-</td><td>GFRA3;GFRA3     </td><td>1stExon;5'UTR</td></tr>\n",
       "</tbody>\n",
       "</table>\n"
      ],
      "text/latex": [
       "A data.frame: 4 × 11\n",
       "\\begin{tabular}{r|lllllllllll}\n",
       "  & logFC & AveExpr & t & P.Value & adj.P.Val & B & chr & pos & strand & UCSC\\_RefGene\\_Name & UCSC\\_RefGene\\_Group\\\\\n",
       "  & <dbl> & <dbl> & <dbl> & <dbl> & <dbl> & <dbl> & <chr> & <int> & <chr> & <chr> & <chr>\\\\\n",
       "\\hline\n",
       "\tcg16794576 & 0.6966775 & 0.3914830 & 54.81206 & 7.020823e-11 & 3.274526e-05 & 11.28386 & chr6 &  29974971 & + & HLA-J;NCRNA00171 & Body;Body    \\\\\n",
       "\tcg20527270 & 0.7017513 & 0.4169308 & 47.85707 & 1.900248e-10 & 4.431397e-05 & 11.04865 & chr8 &  49468688 & - &                  &              \\\\\n",
       "\tcg23511432 & 0.6425535 & 0.3352367 & 43.54659 & 3.796747e-10 & 5.085583e-05 & 10.85362 & chr5 & 137610255 & + & GFRA3            & TSS200       \\\\\n",
       "\tcg19670286 & 0.5564508 & 0.2916982 & 41.65459 & 5.257900e-10 & 5.085583e-05 & 10.75206 & chr5 & 137610127 & - & GFRA3;GFRA3      & 1stExon;5'UTR\\\\\n",
       "\\end{tabular}\n"
      ],
      "text/markdown": [
       "\n",
       "A data.frame: 4 × 11\n",
       "\n",
       "| <!--/--> | logFC &lt;dbl&gt; | AveExpr &lt;dbl&gt; | t &lt;dbl&gt; | P.Value &lt;dbl&gt; | adj.P.Val &lt;dbl&gt; | B &lt;dbl&gt; | chr &lt;chr&gt; | pos &lt;int&gt; | strand &lt;chr&gt; | UCSC_RefGene_Name &lt;chr&gt; | UCSC_RefGene_Group &lt;chr&gt; |\n",
       "|---|---|---|---|---|---|---|---|---|---|---|---|\n",
       "| cg16794576 | 0.6966775 | 0.3914830 | 54.81206 | 7.020823e-11 | 3.274526e-05 | 11.28386 | chr6 |  29974971 | + | HLA-J;NCRNA00171 | Body;Body     |\n",
       "| cg20527270 | 0.7017513 | 0.4169308 | 47.85707 | 1.900248e-10 | 4.431397e-05 | 11.04865 | chr8 |  49468688 | - | <!----> | <!----> |\n",
       "| cg23511432 | 0.6425535 | 0.3352367 | 43.54659 | 3.796747e-10 | 5.085583e-05 | 10.85362 | chr5 | 137610255 | + | GFRA3            | TSS200        |\n",
       "| cg19670286 | 0.5564508 | 0.2916982 | 41.65459 | 5.257900e-10 | 5.085583e-05 | 10.75206 | chr5 | 137610127 | - | GFRA3;GFRA3      | 1stExon;5'UTR |\n",
       "\n"
      ],
      "text/plain": [
       "           logFC     AveExpr   t        P.Value      adj.P.Val    B        chr \n",
       "cg16794576 0.6966775 0.3914830 54.81206 7.020823e-11 3.274526e-05 11.28386 chr6\n",
       "cg20527270 0.7017513 0.4169308 47.85707 1.900248e-10 4.431397e-05 11.04865 chr8\n",
       "cg23511432 0.6425535 0.3352367 43.54659 3.796747e-10 5.085583e-05 10.85362 chr5\n",
       "cg19670286 0.5564508 0.2916982 41.65459 5.257900e-10 5.085583e-05 10.75206 chr5\n",
       "           pos       strand UCSC_RefGene_Name UCSC_RefGene_Group\n",
       "cg16794576  29974971 +      HLA-J;NCRNA00171  Body;Body         \n",
       "cg20527270  49468688 -                                          \n",
       "cg23511432 137610255 +      GFRA3             TSS200            \n",
       "cg19670286 137610127 -      GFRA3;GFRA3       1stExon;5'UTR     "
      ]
     },
     "metadata": {},
     "output_type": "display_data"
    }
   ],
   "source": [
    "# 7) Extract an annotated results Table of significant probes only and save it\n",
    "#    Probes with significant DM are those that meet assigned thresholds (small adjusted p-value and large absolute fold-change) \n",
    "sig <- which((limma.results$adj.P.Val < 0.001) & (abs(limma.results$logFC) > 0.4))\n",
    "print(paste(\"There are \", length(sig), \" significant probes\", sep=\"\"), quote=FALSE)\n",
    "#    Extract significant probes from the limma results Table and add probe annotations\n",
    "limma.sig.ann <- cbind(limma.results[sig,], rc.ann.short[rownames(limma.results[sig,]),])\n",
    "#    Create a dataframe object and save results as a csv file \n",
    "df <- as.data.frame(limma.sig.ann)\n",
    "write.csv(df, file=\"limma_significant_probes.csv\")\n",
    "head(df, n=4)"
   ]
  },
  {
   "cell_type": "code",
   "execution_count": 77,
   "id": "68d1e688-7197-41c9-9594-8fd3be0bb17e",
   "metadata": {},
   "outputs": [
    {
     "data": {
      "text/html": [
       "'APC;APC;APC'"
      ],
      "text/latex": [
       "'APC;APC;APC'"
      ],
      "text/markdown": [
       "'APC;APC;APC'"
      ],
      "text/plain": [
       "[1] \"APC;APC;APC\""
      ]
     },
     "metadata": {},
     "output_type": "display_data"
    },
    {
     "data": {
      "text/html": [
       "8"
      ],
      "text/latex": [
       "8"
      ],
      "text/markdown": [
       "8"
      ],
      "text/plain": [
       "[1] 8"
      ]
     },
     "metadata": {},
     "output_type": "display_data"
    },
    {
     "data": {
      "text/html": [
       "<table class=\"dataframe\">\n",
       "<caption>A data.frame: 11 × 11</caption>\n",
       "<thead>\n",
       "\t<tr><th></th><th scope=col>logFC</th><th scope=col>AveExpr</th><th scope=col>t</th><th scope=col>P.Value</th><th scope=col>adj.P.Val</th><th scope=col>B</th><th scope=col>chr</th><th scope=col>pos</th><th scope=col>strand</th><th scope=col>UCSC_RefGene_Name</th><th scope=col>UCSC_RefGene_Group</th></tr>\n",
       "\t<tr><th></th><th scope=col>&lt;dbl&gt;</th><th scope=col>&lt;dbl&gt;</th><th scope=col>&lt;dbl&gt;</th><th scope=col>&lt;dbl&gt;</th><th scope=col>&lt;dbl&gt;</th><th scope=col>&lt;dbl&gt;</th><th scope=col>&lt;chr&gt;</th><th scope=col>&lt;int&gt;</th><th scope=col>&lt;chr&gt;</th><th scope=col>&lt;chr&gt;</th><th scope=col>&lt;chr&gt;</th></tr>\n",
       "</thead>\n",
       "<tbody>\n",
       "\t<tr><th scope=row>cg00577935</th><td>0.5562143</td><td>0.3205442</td><td>25.73945</td><td>1.774322e-08</td><td>0.0001880790</td><td>9.187919</td><td>chr5</td><td>112073348</td><td>-</td><td>APC;APC;APC        </td><td>TSS1500;5'UTR;TSS1500            </td></tr>\n",
       "\t<tr><th scope=row>cg03667968</th><td>0.7250064</td><td>0.3843661</td><td>23.62244</td><td>3.313637e-08</td><td>0.0002121341</td><td>8.813446</td><td>chr5</td><td>112073438</td><td>-</td><td>APC;APC;APC        </td><td>TSS200;TSS200;5'UTR              </td></tr>\n",
       "\t<tr><th scope=row>cg08571859</th><td>0.5895476</td><td>0.3478463</td><td>23.33792</td><td>3.618781e-08</td><td>0.0002143392</td><td>8.758239</td><td>chr5</td><td>112073350</td><td>-</td><td>APC;APC;APC        </td><td>TSS1500;5'UTR;TSS1500            </td></tr>\n",
       "\t<tr><th scope=row>cg21634602</th><td>0.6140667</td><td>0.4128732</td><td>20.13080</td><td>1.057595e-07</td><td>0.0003300325</td><td>8.039612</td><td>chr5</td><td>112073570</td><td>-</td><td>APC;APC;APC;APC;APC</td><td>1stExon;5'UTR;1stExon;5'UTR;5'UTR</td></tr>\n",
       "\t<tr><th scope=row>cg22035501</th><td>0.6767323</td><td>0.3780227</td><td>19.87750</td><td>1.159102e-07</td><td>0.0003427294</td><td>7.974298</td><td>chr5</td><td>112073398</td><td>-</td><td>APC;APC;APC        </td><td>TSS200;TSS200;5'UTR              </td></tr>\n",
       "\t<tr><th scope=row>cg20311501</th><td>0.5778933</td><td>0.4592795</td><td>19.55280</td><td>1.305767e-07</td><td>0.0003584432</td><td>7.888495</td><td>chr5</td><td>112073502</td><td>-</td><td>APC;APC;APC        </td><td>TSS200;TSS200;5'UTR              </td></tr>\n",
       "\t<tr><th scope=row>cg16970232</th><td>0.6217628</td><td>0.3990060</td><td>18.85171</td><td>1.700141e-07</td><td>0.0004014452</td><td>7.694880</td><td>chr5</td><td>112073433</td><td>-</td><td>APC;APC;APC        </td><td>TSS200;TSS200;5'UTR              </td></tr>\n",
       "\t<tr><th scope=row>cg23938220</th><td>0.5957299</td><td>0.3266027</td><td>18.64825</td><td>1.838730e-07</td><td>0.0004014452</td><td>7.636461</td><td>chr5</td><td>112073538</td><td>+</td><td>APC;APC;APC        </td><td>TSS200;TSS200;5'UTR              </td></tr>\n",
       "\t<tr><th scope=row>cg14479889</th><td>0.6267209</td><td>0.3733991</td><td>18.54142</td><td>1.916598e-07</td><td>0.0004044819</td><td>7.605370</td><td>chr5</td><td>112073426</td><td>-</td><td>APC;APC;APC        </td><td>TSS200;TSS200;5'UTR              </td></tr>\n",
       "\t<tr><th scope=row>cg14511739</th><td>0.6323725</td><td>0.3837386</td><td>16.25636</td><td>4.940293e-07</td><td>0.0006545917</td><td>6.864611</td><td>chr5</td><td>112073373</td><td>-</td><td>APC;APC;APC        </td><td>TSS200;TSS200;5'UTR              </td></tr>\n",
       "\t<tr><th scope=row>cg02511809</th><td>0.5541877</td><td>0.4328240</td><td>16.04170</td><td>5.434749e-07</td><td>0.0006887983</td><td>6.786821</td><td>chr5</td><td>112073544</td><td>+</td><td>APC;APC;APC        </td><td>TSS200;TSS200;5'UTR              </td></tr>\n",
       "</tbody>\n",
       "</table>\n"
      ],
      "text/latex": [
       "A data.frame: 11 × 11\n",
       "\\begin{tabular}{r|lllllllllll}\n",
       "  & logFC & AveExpr & t & P.Value & adj.P.Val & B & chr & pos & strand & UCSC\\_RefGene\\_Name & UCSC\\_RefGene\\_Group\\\\\n",
       "  & <dbl> & <dbl> & <dbl> & <dbl> & <dbl> & <dbl> & <chr> & <int> & <chr> & <chr> & <chr>\\\\\n",
       "\\hline\n",
       "\tcg00577935 & 0.5562143 & 0.3205442 & 25.73945 & 1.774322e-08 & 0.0001880790 & 9.187919 & chr5 & 112073348 & - & APC;APC;APC         & TSS1500;5'UTR;TSS1500            \\\\\n",
       "\tcg03667968 & 0.7250064 & 0.3843661 & 23.62244 & 3.313637e-08 & 0.0002121341 & 8.813446 & chr5 & 112073438 & - & APC;APC;APC         & TSS200;TSS200;5'UTR              \\\\\n",
       "\tcg08571859 & 0.5895476 & 0.3478463 & 23.33792 & 3.618781e-08 & 0.0002143392 & 8.758239 & chr5 & 112073350 & - & APC;APC;APC         & TSS1500;5'UTR;TSS1500            \\\\\n",
       "\tcg21634602 & 0.6140667 & 0.4128732 & 20.13080 & 1.057595e-07 & 0.0003300325 & 8.039612 & chr5 & 112073570 & - & APC;APC;APC;APC;APC & 1stExon;5'UTR;1stExon;5'UTR;5'UTR\\\\\n",
       "\tcg22035501 & 0.6767323 & 0.3780227 & 19.87750 & 1.159102e-07 & 0.0003427294 & 7.974298 & chr5 & 112073398 & - & APC;APC;APC         & TSS200;TSS200;5'UTR              \\\\\n",
       "\tcg20311501 & 0.5778933 & 0.4592795 & 19.55280 & 1.305767e-07 & 0.0003584432 & 7.888495 & chr5 & 112073502 & - & APC;APC;APC         & TSS200;TSS200;5'UTR              \\\\\n",
       "\tcg16970232 & 0.6217628 & 0.3990060 & 18.85171 & 1.700141e-07 & 0.0004014452 & 7.694880 & chr5 & 112073433 & - & APC;APC;APC         & TSS200;TSS200;5'UTR              \\\\\n",
       "\tcg23938220 & 0.5957299 & 0.3266027 & 18.64825 & 1.838730e-07 & 0.0004014452 & 7.636461 & chr5 & 112073538 & + & APC;APC;APC         & TSS200;TSS200;5'UTR              \\\\\n",
       "\tcg14479889 & 0.6267209 & 0.3733991 & 18.54142 & 1.916598e-07 & 0.0004044819 & 7.605370 & chr5 & 112073426 & - & APC;APC;APC         & TSS200;TSS200;5'UTR              \\\\\n",
       "\tcg14511739 & 0.6323725 & 0.3837386 & 16.25636 & 4.940293e-07 & 0.0006545917 & 6.864611 & chr5 & 112073373 & - & APC;APC;APC         & TSS200;TSS200;5'UTR              \\\\\n",
       "\tcg02511809 & 0.5541877 & 0.4328240 & 16.04170 & 5.434749e-07 & 0.0006887983 & 6.786821 & chr5 & 112073544 & + & APC;APC;APC         & TSS200;TSS200;5'UTR              \\\\\n",
       "\\end{tabular}\n"
      ],
      "text/markdown": [
       "\n",
       "A data.frame: 11 × 11\n",
       "\n",
       "| <!--/--> | logFC &lt;dbl&gt; | AveExpr &lt;dbl&gt; | t &lt;dbl&gt; | P.Value &lt;dbl&gt; | adj.P.Val &lt;dbl&gt; | B &lt;dbl&gt; | chr &lt;chr&gt; | pos &lt;int&gt; | strand &lt;chr&gt; | UCSC_RefGene_Name &lt;chr&gt; | UCSC_RefGene_Group &lt;chr&gt; |\n",
       "|---|---|---|---|---|---|---|---|---|---|---|---|\n",
       "| cg00577935 | 0.5562143 | 0.3205442 | 25.73945 | 1.774322e-08 | 0.0001880790 | 9.187919 | chr5 | 112073348 | - | APC;APC;APC         | TSS1500;5'UTR;TSS1500             |\n",
       "| cg03667968 | 0.7250064 | 0.3843661 | 23.62244 | 3.313637e-08 | 0.0002121341 | 8.813446 | chr5 | 112073438 | - | APC;APC;APC         | TSS200;TSS200;5'UTR               |\n",
       "| cg08571859 | 0.5895476 | 0.3478463 | 23.33792 | 3.618781e-08 | 0.0002143392 | 8.758239 | chr5 | 112073350 | - | APC;APC;APC         | TSS1500;5'UTR;TSS1500             |\n",
       "| cg21634602 | 0.6140667 | 0.4128732 | 20.13080 | 1.057595e-07 | 0.0003300325 | 8.039612 | chr5 | 112073570 | - | APC;APC;APC;APC;APC | 1stExon;5'UTR;1stExon;5'UTR;5'UTR |\n",
       "| cg22035501 | 0.6767323 | 0.3780227 | 19.87750 | 1.159102e-07 | 0.0003427294 | 7.974298 | chr5 | 112073398 | - | APC;APC;APC         | TSS200;TSS200;5'UTR               |\n",
       "| cg20311501 | 0.5778933 | 0.4592795 | 19.55280 | 1.305767e-07 | 0.0003584432 | 7.888495 | chr5 | 112073502 | - | APC;APC;APC         | TSS200;TSS200;5'UTR               |\n",
       "| cg16970232 | 0.6217628 | 0.3990060 | 18.85171 | 1.700141e-07 | 0.0004014452 | 7.694880 | chr5 | 112073433 | - | APC;APC;APC         | TSS200;TSS200;5'UTR               |\n",
       "| cg23938220 | 0.5957299 | 0.3266027 | 18.64825 | 1.838730e-07 | 0.0004014452 | 7.636461 | chr5 | 112073538 | + | APC;APC;APC         | TSS200;TSS200;5'UTR               |\n",
       "| cg14479889 | 0.6267209 | 0.3733991 | 18.54142 | 1.916598e-07 | 0.0004044819 | 7.605370 | chr5 | 112073426 | - | APC;APC;APC         | TSS200;TSS200;5'UTR               |\n",
       "| cg14511739 | 0.6323725 | 0.3837386 | 16.25636 | 4.940293e-07 | 0.0006545917 | 6.864611 | chr5 | 112073373 | - | APC;APC;APC         | TSS200;TSS200;5'UTR               |\n",
       "| cg02511809 | 0.5541877 | 0.4328240 | 16.04170 | 5.434749e-07 | 0.0006887983 | 6.786821 | chr5 | 112073544 | + | APC;APC;APC         | TSS200;TSS200;5'UTR               |\n",
       "\n"
      ],
      "text/plain": [
       "           logFC     AveExpr   t        P.Value      adj.P.Val    B        chr \n",
       "cg00577935 0.5562143 0.3205442 25.73945 1.774322e-08 0.0001880790 9.187919 chr5\n",
       "cg03667968 0.7250064 0.3843661 23.62244 3.313637e-08 0.0002121341 8.813446 chr5\n",
       "cg08571859 0.5895476 0.3478463 23.33792 3.618781e-08 0.0002143392 8.758239 chr5\n",
       "cg21634602 0.6140667 0.4128732 20.13080 1.057595e-07 0.0003300325 8.039612 chr5\n",
       "cg22035501 0.6767323 0.3780227 19.87750 1.159102e-07 0.0003427294 7.974298 chr5\n",
       "cg20311501 0.5778933 0.4592795 19.55280 1.305767e-07 0.0003584432 7.888495 chr5\n",
       "cg16970232 0.6217628 0.3990060 18.85171 1.700141e-07 0.0004014452 7.694880 chr5\n",
       "cg23938220 0.5957299 0.3266027 18.64825 1.838730e-07 0.0004014452 7.636461 chr5\n",
       "cg14479889 0.6267209 0.3733991 18.54142 1.916598e-07 0.0004044819 7.605370 chr5\n",
       "cg14511739 0.6323725 0.3837386 16.25636 4.940293e-07 0.0006545917 6.864611 chr5\n",
       "cg02511809 0.5541877 0.4328240 16.04170 5.434749e-07 0.0006887983 6.786821 chr5\n",
       "           pos       strand UCSC_RefGene_Name  \n",
       "cg00577935 112073348 -      APC;APC;APC        \n",
       "cg03667968 112073438 -      APC;APC;APC        \n",
       "cg08571859 112073350 -      APC;APC;APC        \n",
       "cg21634602 112073570 -      APC;APC;APC;APC;APC\n",
       "cg22035501 112073398 -      APC;APC;APC        \n",
       "cg20311501 112073502 -      APC;APC;APC        \n",
       "cg16970232 112073433 -      APC;APC;APC        \n",
       "cg23938220 112073538 +      APC;APC;APC        \n",
       "cg14479889 112073426 -      APC;APC;APC        \n",
       "cg14511739 112073373 -      APC;APC;APC        \n",
       "cg02511809 112073544 +      APC;APC;APC        \n",
       "           UCSC_RefGene_Group               \n",
       "cg00577935 TSS1500;5'UTR;TSS1500            \n",
       "cg03667968 TSS200;TSS200;5'UTR              \n",
       "cg08571859 TSS1500;5'UTR;TSS1500            \n",
       "cg21634602 1stExon;5'UTR;1stExon;5'UTR;5'UTR\n",
       "cg22035501 TSS200;TSS200;5'UTR              \n",
       "cg20311501 TSS200;TSS200;5'UTR              \n",
       "cg16970232 TSS200;TSS200;5'UTR              \n",
       "cg23938220 TSS200;TSS200;5'UTR              \n",
       "cg14479889 TSS200;TSS200;5'UTR              \n",
       "cg14511739 TSS200;TSS200;5'UTR              \n",
       "cg02511809 TSS200;TSS200;5'UTR              "
      ]
     },
     "metadata": {},
     "output_type": "display_data"
    },
    {
     "data": {
      "text/html": [
       "<table class=\"dataframe\">\n",
       "<caption>A data.frame: 8 × 11</caption>\n",
       "<thead>\n",
       "\t<tr><th></th><th scope=col>logFC</th><th scope=col>AveExpr</th><th scope=col>t</th><th scope=col>P.Value</th><th scope=col>adj.P.Val</th><th scope=col>B</th><th scope=col>chr</th><th scope=col>pos</th><th scope=col>strand</th><th scope=col>UCSC_RefGene_Name</th><th scope=col>UCSC_RefGene_Group</th></tr>\n",
       "\t<tr><th></th><th scope=col>&lt;dbl&gt;</th><th scope=col>&lt;dbl&gt;</th><th scope=col>&lt;dbl&gt;</th><th scope=col>&lt;dbl&gt;</th><th scope=col>&lt;dbl&gt;</th><th scope=col>&lt;dbl&gt;</th><th scope=col>&lt;chr&gt;</th><th scope=col>&lt;int&gt;</th><th scope=col>&lt;chr&gt;</th><th scope=col>&lt;chr&gt;</th><th scope=col>&lt;chr&gt;</th></tr>\n",
       "</thead>\n",
       "<tbody>\n",
       "\t<tr><th scope=row>cg03667968</th><td>0.7250064</td><td>0.3843661</td><td>23.62244</td><td>3.313637e-08</td><td>0.0002121341</td><td>8.813446</td><td>chr5</td><td>112073438</td><td>-</td><td>APC;APC;APC</td><td>TSS200;TSS200;5'UTR</td></tr>\n",
       "\t<tr><th scope=row>cg22035501</th><td>0.6767323</td><td>0.3780227</td><td>19.87750</td><td>1.159102e-07</td><td>0.0003427294</td><td>7.974298</td><td>chr5</td><td>112073398</td><td>-</td><td>APC;APC;APC</td><td>TSS200;TSS200;5'UTR</td></tr>\n",
       "\t<tr><th scope=row>cg20311501</th><td>0.5778933</td><td>0.4592795</td><td>19.55280</td><td>1.305767e-07</td><td>0.0003584432</td><td>7.888495</td><td>chr5</td><td>112073502</td><td>-</td><td>APC;APC;APC</td><td>TSS200;TSS200;5'UTR</td></tr>\n",
       "\t<tr><th scope=row>cg16970232</th><td>0.6217628</td><td>0.3990060</td><td>18.85171</td><td>1.700141e-07</td><td>0.0004014452</td><td>7.694880</td><td>chr5</td><td>112073433</td><td>-</td><td>APC;APC;APC</td><td>TSS200;TSS200;5'UTR</td></tr>\n",
       "\t<tr><th scope=row>cg23938220</th><td>0.5957299</td><td>0.3266027</td><td>18.64825</td><td>1.838730e-07</td><td>0.0004014452</td><td>7.636461</td><td>chr5</td><td>112073538</td><td>+</td><td>APC;APC;APC</td><td>TSS200;TSS200;5'UTR</td></tr>\n",
       "\t<tr><th scope=row>cg14479889</th><td>0.6267209</td><td>0.3733991</td><td>18.54142</td><td>1.916598e-07</td><td>0.0004044819</td><td>7.605370</td><td>chr5</td><td>112073426</td><td>-</td><td>APC;APC;APC</td><td>TSS200;TSS200;5'UTR</td></tr>\n",
       "\t<tr><th scope=row>cg14511739</th><td>0.6323725</td><td>0.3837386</td><td>16.25636</td><td>4.940293e-07</td><td>0.0006545917</td><td>6.864611</td><td>chr5</td><td>112073373</td><td>-</td><td>APC;APC;APC</td><td>TSS200;TSS200;5'UTR</td></tr>\n",
       "\t<tr><th scope=row>cg02511809</th><td>0.5541877</td><td>0.4328240</td><td>16.04170</td><td>5.434749e-07</td><td>0.0006887983</td><td>6.786821</td><td>chr5</td><td>112073544</td><td>+</td><td>APC;APC;APC</td><td>TSS200;TSS200;5'UTR</td></tr>\n",
       "</tbody>\n",
       "</table>\n"
      ],
      "text/latex": [
       "A data.frame: 8 × 11\n",
       "\\begin{tabular}{r|lllllllllll}\n",
       "  & logFC & AveExpr & t & P.Value & adj.P.Val & B & chr & pos & strand & UCSC\\_RefGene\\_Name & UCSC\\_RefGene\\_Group\\\\\n",
       "  & <dbl> & <dbl> & <dbl> & <dbl> & <dbl> & <dbl> & <chr> & <int> & <chr> & <chr> & <chr>\\\\\n",
       "\\hline\n",
       "\tcg03667968 & 0.7250064 & 0.3843661 & 23.62244 & 3.313637e-08 & 0.0002121341 & 8.813446 & chr5 & 112073438 & - & APC;APC;APC & TSS200;TSS200;5'UTR\\\\\n",
       "\tcg22035501 & 0.6767323 & 0.3780227 & 19.87750 & 1.159102e-07 & 0.0003427294 & 7.974298 & chr5 & 112073398 & - & APC;APC;APC & TSS200;TSS200;5'UTR\\\\\n",
       "\tcg20311501 & 0.5778933 & 0.4592795 & 19.55280 & 1.305767e-07 & 0.0003584432 & 7.888495 & chr5 & 112073502 & - & APC;APC;APC & TSS200;TSS200;5'UTR\\\\\n",
       "\tcg16970232 & 0.6217628 & 0.3990060 & 18.85171 & 1.700141e-07 & 0.0004014452 & 7.694880 & chr5 & 112073433 & - & APC;APC;APC & TSS200;TSS200;5'UTR\\\\\n",
       "\tcg23938220 & 0.5957299 & 0.3266027 & 18.64825 & 1.838730e-07 & 0.0004014452 & 7.636461 & chr5 & 112073538 & + & APC;APC;APC & TSS200;TSS200;5'UTR\\\\\n",
       "\tcg14479889 & 0.6267209 & 0.3733991 & 18.54142 & 1.916598e-07 & 0.0004044819 & 7.605370 & chr5 & 112073426 & - & APC;APC;APC & TSS200;TSS200;5'UTR\\\\\n",
       "\tcg14511739 & 0.6323725 & 0.3837386 & 16.25636 & 4.940293e-07 & 0.0006545917 & 6.864611 & chr5 & 112073373 & - & APC;APC;APC & TSS200;TSS200;5'UTR\\\\\n",
       "\tcg02511809 & 0.5541877 & 0.4328240 & 16.04170 & 5.434749e-07 & 0.0006887983 & 6.786821 & chr5 & 112073544 & + & APC;APC;APC & TSS200;TSS200;5'UTR\\\\\n",
       "\\end{tabular}\n"
      ],
      "text/markdown": [
       "\n",
       "A data.frame: 8 × 11\n",
       "\n",
       "| <!--/--> | logFC &lt;dbl&gt; | AveExpr &lt;dbl&gt; | t &lt;dbl&gt; | P.Value &lt;dbl&gt; | adj.P.Val &lt;dbl&gt; | B &lt;dbl&gt; | chr &lt;chr&gt; | pos &lt;int&gt; | strand &lt;chr&gt; | UCSC_RefGene_Name &lt;chr&gt; | UCSC_RefGene_Group &lt;chr&gt; |\n",
       "|---|---|---|---|---|---|---|---|---|---|---|---|\n",
       "| cg03667968 | 0.7250064 | 0.3843661 | 23.62244 | 3.313637e-08 | 0.0002121341 | 8.813446 | chr5 | 112073438 | - | APC;APC;APC | TSS200;TSS200;5'UTR |\n",
       "| cg22035501 | 0.6767323 | 0.3780227 | 19.87750 | 1.159102e-07 | 0.0003427294 | 7.974298 | chr5 | 112073398 | - | APC;APC;APC | TSS200;TSS200;5'UTR |\n",
       "| cg20311501 | 0.5778933 | 0.4592795 | 19.55280 | 1.305767e-07 | 0.0003584432 | 7.888495 | chr5 | 112073502 | - | APC;APC;APC | TSS200;TSS200;5'UTR |\n",
       "| cg16970232 | 0.6217628 | 0.3990060 | 18.85171 | 1.700141e-07 | 0.0004014452 | 7.694880 | chr5 | 112073433 | - | APC;APC;APC | TSS200;TSS200;5'UTR |\n",
       "| cg23938220 | 0.5957299 | 0.3266027 | 18.64825 | 1.838730e-07 | 0.0004014452 | 7.636461 | chr5 | 112073538 | + | APC;APC;APC | TSS200;TSS200;5'UTR |\n",
       "| cg14479889 | 0.6267209 | 0.3733991 | 18.54142 | 1.916598e-07 | 0.0004044819 | 7.605370 | chr5 | 112073426 | - | APC;APC;APC | TSS200;TSS200;5'UTR |\n",
       "| cg14511739 | 0.6323725 | 0.3837386 | 16.25636 | 4.940293e-07 | 0.0006545917 | 6.864611 | chr5 | 112073373 | - | APC;APC;APC | TSS200;TSS200;5'UTR |\n",
       "| cg02511809 | 0.5541877 | 0.4328240 | 16.04170 | 5.434749e-07 | 0.0006887983 | 6.786821 | chr5 | 112073544 | + | APC;APC;APC | TSS200;TSS200;5'UTR |\n",
       "\n"
      ],
      "text/plain": [
       "           logFC     AveExpr   t        P.Value      adj.P.Val    B        chr \n",
       "cg03667968 0.7250064 0.3843661 23.62244 3.313637e-08 0.0002121341 8.813446 chr5\n",
       "cg22035501 0.6767323 0.3780227 19.87750 1.159102e-07 0.0003427294 7.974298 chr5\n",
       "cg20311501 0.5778933 0.4592795 19.55280 1.305767e-07 0.0003584432 7.888495 chr5\n",
       "cg16970232 0.6217628 0.3990060 18.85171 1.700141e-07 0.0004014452 7.694880 chr5\n",
       "cg23938220 0.5957299 0.3266027 18.64825 1.838730e-07 0.0004014452 7.636461 chr5\n",
       "cg14479889 0.6267209 0.3733991 18.54142 1.916598e-07 0.0004044819 7.605370 chr5\n",
       "cg14511739 0.6323725 0.3837386 16.25636 4.940293e-07 0.0006545917 6.864611 chr5\n",
       "cg02511809 0.5541877 0.4328240 16.04170 5.434749e-07 0.0006887983 6.786821 chr5\n",
       "           pos       strand UCSC_RefGene_Name UCSC_RefGene_Group \n",
       "cg03667968 112073438 -      APC;APC;APC       TSS200;TSS200;5'UTR\n",
       "cg22035501 112073398 -      APC;APC;APC       TSS200;TSS200;5'UTR\n",
       "cg20311501 112073502 -      APC;APC;APC       TSS200;TSS200;5'UTR\n",
       "cg16970232 112073433 -      APC;APC;APC       TSS200;TSS200;5'UTR\n",
       "cg23938220 112073538 +      APC;APC;APC       TSS200;TSS200;5'UTR\n",
       "cg14479889 112073426 -      APC;APC;APC       TSS200;TSS200;5'UTR\n",
       "cg14511739 112073373 -      APC;APC;APC       TSS200;TSS200;5'UTR\n",
       "cg02511809 112073544 +      APC;APC;APC       TSS200;TSS200;5'UTR"
      ]
     },
     "metadata": {},
     "output_type": "display_data"
    }
   ],
   "source": [
    "# 8) Find significant probes within 200 base pairs upstream from transcription start sites (TSS) of genes according to the used annotations\n",
    "TSS200.probes <- df[grep(\"TSS200\", df[, \"UCSC_RefGene_Group\"]),]\n",
    "#    Identify one gene with most significant probes within 200 base pairs upstream from its TSS\n",
    "names(which.max(table(TSS200.probes$UCSC_RefGene_Name)))\n",
    "#    Find how many significant probes overlapping the previous gene's TSS200 region\n",
    "max(table(TSS200.probes$UCSC_RefGene_Name))\n",
    "#    Show DM probes overlapping the APC gene\n",
    "APC.DM <- df[grep(\"APC\", df$UCSC_RefGene_Name),]\n",
    "APC.DM\n",
    "#    Show DM probes overlapping the TSS200 region of the APC gene\n",
    "APC.DM[grep(\"TSS200\", APC.DM$UCSC_RefGene_Group),]"
   ]
  },
  {
   "cell_type": "markdown",
   "id": "8cf02bcc-3c60-4434-836a-35d7d5a58f34",
   "metadata": {},
   "source": [
    "**Note:** Gene APC is known to be hypermethylated in prostate cancer [*] There are 8 significant DM probes within 200 base pairs from the TSS of gene APC.\n",
    "\n",
    "*Chen Y, Li J, Yu X, Li S, Zhang X, Mo Z, Hu Y. APC gene hypermethylation and prostate cancer: a systematic review and meta-analysis. Eur J Hum Genet. 2013; 21(9):929-35."
   ]
  },
  {
   "cell_type": "code",
   "execution_count": 78,
   "id": "ffbcf192-f963-4432-9130-8af12a2f323c",
   "metadata": {},
   "outputs": [
    {
     "data": {
      "image/png": "[encoded data removed]",
      "text/plain": [
       "Plot with title \"Tumor vs. Benign\""
      ]
     },
     "metadata": {
      "image/png": {
       "height": 420,
       "width": 420
      }
     },
     "output_type": "display_data"
    }
   ],
   "source": [
    "# 9) Results visualization.\n",
    "#    Create a volcano plot to highlight significant probes\n",
    "color <- rep(\"gray\", nrow(limma.results))\n",
    "#    highlight DM probes with red color\n",
    "color[sig] <- \"red\"\n",
    "plot(limma.results$logFC, -log10(limma.results$adj.P.Val), type=\"p\", cex.lab=1.5, cex.main=1.5,\n",
    "pch=16, col=color, xlab=\"log2FC\", ylab=\"-log10(FDR)\", main=\"Tumor vs. Benign\")"
   ]
  },
  {
   "cell_type": "code",
   "execution_count": 79,
   "id": "add50195-505b-4ae0-9f69-33e4d90939f5",
   "metadata": {},
   "outputs": [
    {
     "data": {
      "image/png": "[encoded data removed]",
      "text/plain": [
       "Plot with title \"2D PCA plot\""
      ]
     },
     "metadata": {
      "image/png": {
       "height": 420,
       "width": 420
      }
     },
     "output_type": "display_data"
    }
   ],
   "source": [
    "# 10) Generate PCA plot using only DM probes\n",
    "pca <- prcomp(t(log2(1+probeBeta)[rownames(limma.results[sig,]),]), scale=T)\n",
    "a <- pca$sdev\n",
    "pc1 <- a[1]^2/sum(a^2)\n",
    "pc2 <- a[2]^2/sum(a^2)\n",
    "colors <- ifelse(group.labels==\"benign\", \"green\", \"red\")\n",
    "plot(pca$x[,1:2], pch=ifelse(group.labels==\"benign\", 16, 17), cex=2.5, cex.lab=1.5, cex.main=1.5, col=colors, main=\"2D PCA plot\",\n",
    "xlab=paste(\"PC1 (\", round(100*pc1, 2), \"%)\", sep=\"\"), \n",
    "ylab=paste(\"PC2 (\", round(100*pc2, 2), \"%)\", sep=\"\"))\n",
    "legend(\"bottomleft\", legend=c(\"Benign\",\"Tumor\"), col=c(\"green\",\"red\"), pch=c(16,17), cex=1.5, pt.cex=2)"
   ]
  },
  {
   "cell_type": "markdown",
   "id": "1c3b9582-6915-4490-ae3f-0b505a5bdeef",
   "metadata": {},
   "source": [
    "**Conclusion:** PCA scatter plot using the methylation profiles of probes that showed significant DM shows excellent clustering of tumor and normal samples into two distinct groups as expected whe nusing only highly discriminative features between groups. Additional functional analysis of the genes that top significant probes overlap could be performed to explore for meaningful biological interpretations."
   ]
  },
  {
   "cell_type": "code",
   "execution_count": 80,
   "id": "b624a332-8384-4376-b8a8-a4fc4cfe4845",
   "metadata": {},
   "outputs": [
    {
     "data": {
      "text/plain": [
       "R version 4.1.2 (2021-11-01)\n",
       "Platform: x86_64-w64-mingw32/x64 (64-bit)\n",
       "Running under: Windows 10 x64 (build 19045)\n",
       "\n",
       "Matrix products: default\n",
       "\n",
       "locale:\n",
       "[1] LC_COLLATE=English_United States.1252 \n",
       "[2] LC_CTYPE=English_United States.1252   \n",
       "[3] LC_MONETARY=English_United States.1252\n",
       "[4] LC_NUMERIC=C                          \n",
       "[5] LC_TIME=English_United States.1252    \n",
       "\n",
       "attached base packages:\n",
       "[1] parallel  stats4    stats     graphics  grDevices utils     datasets \n",
       "[8] methods   base     \n",
       "\n",
       "other attached packages:\n",
       " [1] limma_3.50.3                                      \n",
       " [2] IlluminaHumanMethylation450kanno.ilmn12.hg19_0.6.0\n",
       " [3] IlluminaHumanMethylation450kmanifest_0.4.0        \n",
       " [4] minfi_1.40.0                                      \n",
       " [5] bumphunter_1.36.0                                 \n",
       " [6] locfit_1.5-9.6                                    \n",
       " [7] iterators_1.0.14                                  \n",
       " [8] foreach_1.5.2                                     \n",
       " [9] Biostrings_2.62.0                                 \n",
       "[10] XVector_0.34.0                                    \n",
       "[11] SummarizedExperiment_1.24.0                       \n",
       "[12] MatrixGenerics_1.6.0                              \n",
       "[13] matrixStats_0.62.0                                \n",
       "[14] GenomicRanges_1.46.1                              \n",
       "[15] GenomeInfoDb_1.30.1                               \n",
       "[16] IRanges_2.28.0                                    \n",
       "[17] S4Vectors_0.32.4                                  \n",
       "[18] GEOquery_2.62.2                                   \n",
       "[19] Biobase_2.54.0                                    \n",
       "[20] BiocGenerics_0.40.0                               \n",
       "\n",
       "loaded via a namespace (and not attached):\n",
       "  [1] rjson_0.2.21              siggenes_1.68.0          \n",
       "  [3] mclust_5.4.10             IRdisplay_1.1            \n",
       "  [5] base64enc_0.1-3           base64_2.0.2             \n",
       "  [7] bit64_4.0.5               AnnotationDbi_1.56.2     \n",
       "  [9] fansi_1.0.6               xml2_1.3.3               \n",
       " [11] codetools_0.2-20          splines_4.1.2            \n",
       " [13] sparseMatrixStats_1.6.0   cachem_1.0.7             \n",
       " [15] scrime_1.3.5              IRkernel_1.3.2           \n",
       " [17] jsonlite_1.8.8            Rsamtools_2.10.0         \n",
       " [19] annotate_1.72.0           dbplyr_2.5.0             \n",
       " [21] png_0.1-8                 HDF5Array_1.22.1         \n",
       " [23] BiocManager_1.30.25       readr_2.1.4              \n",
       " [25] compiler_4.1.2            httr_1.4.7               \n",
       " [27] Matrix_1.5-4.1            fastmap_1.2.0            \n",
       " [29] cli_3.6.3                 htmltools_0.5.8.1        \n",
       " [31] prettyunits_1.2.0         tools_4.1.2              \n",
       " [33] glue_1.7.0                GenomeInfoDbData_1.2.7   \n",
       " [35] dplyr_1.1.2               rappdirs_0.3.3           \n",
       " [37] doRNG_1.8.6.1             Rcpp_1.0.12              \n",
       " [39] vctrs_0.6.5               rhdf5filters_1.6.0       \n",
       " [41] multtest_2.50.0           nlme_3.1-162             \n",
       " [43] preprocessCore_1.56.0     rtracklayer_1.54.0       \n",
       " [45] DelayedMatrixStats_1.16.0 stringr_1.5.1            \n",
       " [47] lifecycle_1.0.3           restfulr_0.0.15          \n",
       " [49] rngtools_1.5.2            XML_3.99-0.14            \n",
       " [51] beanplot_1.3.1            zlibbioc_1.40.0          \n",
       " [53] MASS_7.3-60.0.1           hms_1.1.3                \n",
       " [55] rhdf5_2.38.1              RColorBrewer_1.1-3       \n",
       " [57] yaml_2.3.7                curl_5.0.0               \n",
       " [59] memoise_2.0.1             biomaRt_2.50.3           \n",
       " [61] reshape_0.8.9             stringi_1.7.12           \n",
       " [63] RSQLite_2.3.1             genefilter_1.76.0        \n",
       " [65] BiocIO_1.4.0              filelock_1.0.2           \n",
       " [67] GenomicFeatures_1.46.5    BiocParallel_1.28.3      \n",
       " [69] repr_1.1.6                rlang_1.1.4              \n",
       " [71] pkgconfig_2.0.3           bitops_1.0-7             \n",
       " [73] nor1mix_1.3-3             evaluate_0.21            \n",
       " [75] lattice_0.22-6            purrr_1.0.1              \n",
       " [77] Rhdf5lib_1.16.0           GenomicAlignments_1.30.0 \n",
       " [79] bit_4.0.5                 tidyselect_1.2.1         \n",
       " [81] plyr_1.8.7                magrittr_2.0.3           \n",
       " [83] R6_2.5.1                  generics_0.1.3           \n",
       " [85] pbdZMQ_0.3-11             DelayedArray_0.20.0      \n",
       " [87] DBI_1.2.3                 pillar_1.9.0             \n",
       " [89] survival_3.5-5            KEGGREST_1.34.0          \n",
       " [91] RCurl_1.98-1.12           tibble_3.2.1             \n",
       " [93] crayon_1.5.2              uuid_1.2-0               \n",
       " [95] utf8_1.2.4                BiocFileCache_2.2.1      \n",
       " [97] tzdb_0.3.0                progress_1.2.3           \n",
       " [99] grid_4.1.2                data.table_1.14.8        \n",
       "[101] blob_1.2.4                digest_0.6.36            \n",
       "[103] xtable_1.8-4              tidyr_1.3.0              \n",
       "[105] illuminaio_0.36.0         openssl_2.0.6            \n",
       "[107] quadprog_1.5-8            askpass_1.1              "
      ]
     },
     "metadata": {},
     "output_type": "display_data"
    }
   ],
   "source": [
    "sessionInfo()"
   ]
  }
 ],
 "metadata": {
  "kernelspec": {
   "display_name": "R",
   "language": "R",
   "name": "ir"
  },
  "language_info": {
   "codemirror_mode": "r",
   "file_extension": ".r",
   "mimetype": "text/x-r-source",
   "name": "R",
   "pygments_lexer": "r",
   "version": "4.1.2"
  }
 },
 "nbformat": 4,
 "nbformat_minor": 5
}
